{
 "cells": [
  {
   "cell_type": "raw",
   "metadata": {},
   "source": [
    "MoonboardSequenceSimulator.py\n",
    "    Input:\n",
    "    - Single moonboard problem from \"MoonBoard_2016_raw\"\n",
    "    - Table for each hold's directional dificulty\n",
    "    \n",
    "    Output:\n",
    "    - Predict a reasonable hand sequence for each input. \n",
    "    - i.e. 5B-R (Start) 7C-L (Start) 6A-R 8B-L 9C-L ... 18B-L 18B-R(Finished)\n",
    "    - return an array with [RH, RH, LH,......] and all holds in used along the way\n",
    "    - The holds used the format [(six hand feature) X, Y, isStart, isFinish]\n",
    "\n",
    "Author: Yi-Shiou Duh (allenduh@stanford.edu)"
   ]
  },
  {
   "cell_type": "code",
   "execution_count": 14,
   "metadata": {},
   "outputs": [],
   "source": [
    "import numpy as np\n",
    "import os\n",
    "import copy\n",
    "import pickle\n",
    "import heapq\n",
    "import matplotlib.pyplot as plt"
   ]
  },
  {
   "cell_type": "markdown",
   "metadata": {},
   "source": [
    "Const"
   ]
  },
  {
   "cell_type": "code",
   "execution_count": 15,
   "metadata": {},
   "outputs": [
    {
     "data": {
      "text/plain": [
       "' distanceThresholdCoeff: dynamicThreshold = hyperparameter[0] * self.lastMoveSuccessRateByHold() '"
      ]
     },
     "execution_count": 15,
     "metadata": {},
     "output_type": "execute_result"
    }
   ],
   "source": [
    "hyperparameter = [1, 1]\n",
    "\"\"\" distanceThresholdCoeff: dynamicThreshold = hyperparameter[0] * self.lastMoveSuccessRateByHold() \"\"\""
   ]
  },
  {
   "cell_type": "code",
   "execution_count": 16,
   "metadata": {},
   "outputs": [],
   "source": [
    "cwd = os.getcwd()\n",
    "parent_wd = cwd.replace('/preprocessing', '')\n",
    "raw_data_path = parent_wd + '/preprocessing/processed_data_deltaxy_mode'  \n",
    "url_data_path = parent_wd + '/raw_data/moonGen_scrape_2016_cp'"
   ]
  },
  {
   "cell_type": "code",
   "execution_count": 17,
   "metadata": {},
   "outputs": [],
   "source": [
    "with open(url_data_path, 'rb') as f:\n",
    "    MoonBoard_2016_withurl = pickle.load(f)"
   ]
  },
  {
   "cell_type": "code",
   "execution_count": 18,
   "metadata": {},
   "outputs": [
    {
     "data": {
      "text/plain": [
       "'\\n    Input:\\n    - xy_mode_processed_data: \\n      if set False(default), the x_vector compiled will be of shape (10, n_holds) (6 hold features, x, y, is_start, is_end)\\n      if set True, the x_vector compiled will be of shape (14, n_holds) (6 hold features, x, y, dx1, dy1, dx2, dy2, is_start, is_end)\\n    \\n    Classify and process the raw data into 4 caterogies/8 dictionaries:\\n    - X_dict_benchmark_withgrade: the input data that is benchmarked and contains user grading.\\n    - Y_dict_benchmark_withgrade: the output for raw data that is benchmarked and contains user grading.\\n    - X_dict_benchmark_nograde: the input data that is benchmarked and does not contain user grading.\\n    - Y_dict_benchmark_nograde: the output for raw data that is benchmarked and does not contain user grading.\\n    - X_dict_withgrade: the input data that is not benchmarked and contains user grading.\\n    - Y_dict_withgrade: the output for raw data that is not benchmarked and contains user grading.\\n    - X_dict_nograde: the input data that is not benchmarked and does not contain user grading.\\n    - Y_dict_nograde: the output for raw data that is not benchmarked and does not contain user grading.\\n    For the ones that do not have user grading, the shape of each item in Y_dict is (2, 1): (grade, is_benchmarked)\\n    For the ones that have user grading, the shape of each item in Y_dict is (3, 1): (grade, is_benchmarked, user_grade)\\n'"
      ]
     },
     "execution_count": 18,
     "metadata": {},
     "output_type": "execute_result"
    }
   ],
   "source": [
    "####################\n",
    "# Input hold information & load moonboard problem\n",
    "####################\n",
    "#raw_data_path1 = \"MoonBoardRNN/raw_data/moonGen_scrape_2016_cp\"  ### raw Data\n",
    "#raw_data_path = \"MoonBoardRNN/raw_data/processed_data_xy_mode\"\n",
    "with open(raw_data_path, 'rb') as f:\n",
    "    MoonBoard_2016_raw = pickle.load(f)\n",
    "\"\"\"\n",
    "    Input:\n",
    "    - xy_mode_processed_data: \n",
    "      if set False(default), the x_vector compiled will be of shape (10, n_holds) (6 hold features, x, y, is_start, is_end)\n",
    "      if set True, the x_vector compiled will be of shape (14, n_holds) (6 hold features, x, y, dx1, dy1, dx2, dy2, is_start, is_end)\n",
    "    \n",
    "    Classify and process the raw data into 4 caterogies/8 dictionaries:\n",
    "    - X_dict_benchmark_withgrade: the input data that is benchmarked and contains user grading.\n",
    "    - Y_dict_benchmark_withgrade: the output for raw data that is benchmarked and contains user grading.\n",
    "    - X_dict_benchmark_nograde: the input data that is benchmarked and does not contain user grading.\n",
    "    - Y_dict_benchmark_nograde: the output for raw data that is benchmarked and does not contain user grading.\n",
    "    - X_dict_withgrade: the input data that is not benchmarked and contains user grading.\n",
    "    - Y_dict_withgrade: the output for raw data that is not benchmarked and contains user grading.\n",
    "    - X_dict_nograde: the input data that is not benchmarked and does not contain user grading.\n",
    "    - Y_dict_nograde: the output for raw data that is not benchmarked and does not contain user grading.\n",
    "    For the ones that do not have user grading, the shape of each item in Y_dict is (2, 1): (grade, is_benchmarked)\n",
    "    For the ones that have user grading, the shape of each item in Y_dict is (3, 1): (grade, is_benchmarked, user_grade)\n",
    "\"\"\"    "
   ]
  },
  {
   "cell_type": "code",
   "execution_count": 19,
   "metadata": {},
   "outputs": [
    {
     "data": {
      "text/plain": [
       "dict_keys(['337509', '332721', '332646', '325637', '325079', '324257', '322941', '322939', '321511', '321097', '320798', '320394', '314508', '311645', '310143', '310106', '309814', '308058', '307834', '306777', '306776', '306062', '305694', '305656', '300214', '297887', '292263', '281994', '279557', '274947', '273016', '260849', '256493', '254625', '251124', '251082', '249317', '243461', '241018', '234401', '232300', '229614', '227999', '226072', '214484', '213011', '202064', '201921', '201020', '199740', '199290', '196769', '196284', '192888', '192428', '192386', '191609', '190906', '189969', '189344', '184714', '184462', '184295', '181440', '181435', '179415', '178758', '176870', '176230', '174899', '172010', '171918', '171796', '171787', '171108', '170230', '170190', '170185', '169636', '166287', '164879', '164874', '160922', '160167', '159366', '158675', '158100', '156084', '152217', '150763', '150053', '149984', '144021', '142730', '141821', '139394', '137897', '137242', '136668', '134795', '133998', '133992', '132090', '128535', '127086', '126731', '126656', '126481', '125131', '125109', '124553', '123453', '121413', '121194', '119861', '118171', '118145', '118028', '114961', '114443', '114322', '113385', '112929', '111232', '110330', '106472', '106424', '105100', '104914', '104439', '103695', '102018', '99677', '96879', '93635', '93247', '91747', '91202', '90626', '89571', '88172', '85826', '85367', '84177', '83988', '83919', '83348', '82224', '80818', '80802', '80197', '79926', '79055', '77712', '77088', '74717', '73998', '71428', '71190', '71109', '70743', '70284', '70272', '70034', '69426', '69372', '69023', '68881', '67296', '67070', '67015', '66446', '66038', '65097', '64714', '63522', '63371', '63365', '62560', '62351', '62286', '62275', '62267', '62144', '62141', '62126', '60962', '59580', '57470', '55784', '55559', '55506', '55417', '54766', '54752', '54627', '54384', '53544', '53494', '53487', '53436', '52318', '51353', '50367', '50356', '50106', '49969', '49666', '49648', '49576', '49191', '49031', '48939', '48765', '48723', '47109', '46508', '46465', '46458', '46050', '46045', '45232', '45182', '44578', '44384', '44327', '44178', '44158', '44029', '43190', '43010', '42911', '42900', '41542', '41437', '41345', '41339', '41312', '41190', '41029', '40879', '40784', '39709', '39700', '39242', '39074', '39071', '38855', '37091', '36667', '36070', '35870', '35590', '35345', '34964', '34688', '34686', '34387', '34383', '34005', '32430', '32304', '31773', '31140', '30627', '30612', '30609', '30534', '30526', '30524', '29901', '29805', '29598', '29565', '29360', '28832', '28514', '28020', '27961', '27956', '27875', '27394', '27116', '27102', '26853', '26693', '26620', '26083', '25841', '25652', '25577', '25556', '25521', '25506', '25043', '24681', '24641', '24624', '24448', '24196', '24126', '23803', '23720', '23632', '23601', '23428', '23261', '23192', '23186', '23184', '23182', '22861', '22859', '22596', '22594', '22343', '22257', '22040', '21921', '21494', '21492', '21396', '21329', '21258', '21082', '20967', '20923', '20860', '20790', '20774', '20735', '20700', '20698', '20473', '20461', '20451', '20437', '20316', '20253', '20249', '20153', '20149', '20038', '19956', '19782', '19766', '19732', '19646', '19632', '19310', '19237', '19233', '19230', '19229', '19225', '19224', '19223', '19222'])"
      ]
     },
     "execution_count": 19,
     "metadata": {},
     "output_type": "execute_result"
    }
   ],
   "source": [
    "(MoonBoard_2016_raw[\"X_dict_benchmark_withgrade\"]).keys()"
   ]
  },
  {
   "cell_type": "code",
   "execution_count": 20,
   "metadata": {},
   "outputs": [],
   "source": [
    "keyNum = \"20149\"    \n",
    "#moonboardTest = (MoonBoard_2016_raw[\"X_dict_benchmark_withgrade\"])[\"102018\"]\n",
    "#moonboardTest = (MoonBoard_2016_raw[\"X_dict_benchmark_withgrade\"])[\"337509\"]\n",
    "#moonboardTest = (MoonBoard_2016_raw[\"X_dict_benchmark_withgrade\"])[\"332721\"]\n",
    "moonboardTest = (MoonBoard_2016_raw[\"X_dict_benchmark_withgrade\"])[keyNum]\n"
   ]
  },
  {
   "cell_type": "code",
   "execution_count": 21,
   "metadata": {},
   "outputs": [],
   "source": [
    "class beta:\n",
    "    \"\"\" climbing beta is the climber's feeling of the best hand sequence\n",
    "    class beta describe how the climber create the beta. It stored information including\n",
    "    moonboard holds information.\n",
    "    the ongoing built hand sequence (LRLRLRRR) and the hold climber used\n",
    "    \"\"\"\n",
    "    def __init__(self, avalible_holds):\n",
    "        \"\"\"Creates a new beta with the specified attributes.\"\"\"\n",
    "        self.totalNumOfHold = np.size(avalible_holds, axis=0)\n",
    "        self.allHolds = avalible_holds\n",
    "        self.handSequence = []        # Use the number 0,1,2,3,4,5... sequence\n",
    "        self.handOperator = [] # op: Right hand / Left Hand\n",
    "        self.holdsNotUsed = []           # You can then use this list to decide where to go next\n",
    "        self.holdsNotUsed.extend(range(self.totalNumOfHold))\n",
    "        self.isFinished = False          # True when go to finish hold (neglect matching)\n",
    "        self.overallSuccess = 1      # Can evaluate difficulty of this beta\n",
    "        self.singleMoveSuccessRate = []  # singleMoveDifficulty\n",
    "        self.tryout = 0                  # Try one additional point. Record successRate\n",
    "        self.touchEndHold = 0\n",
    "    \n",
    "    def addStartHolds(self, zeroOrOne):\n",
    "        opList = [\"LH\", \"RH\"]\n",
    "        startHoldList = self.getStartHold()\n",
    "        if len(startHoldList) == 1:\n",
    "            self.handSequence.append(int(self.getOrderFromHold(startHoldList[0])))   # Add a new hold into beta!\n",
    "            self.handSequence.append(int(self.getOrderFromHold(startHoldList[0])))\n",
    "            self.handOperator.extend(opList) \n",
    "            self.holdsNotUsed.remove(self.getOrderFromHold(startHoldList[0]))   # Not consider match\n",
    "        if len(startHoldList) == 2:  \n",
    "            self.handSequence.append(int(self.getOrderFromHold(startHoldList[0])))   # Add a new hold into beta!\n",
    "            self.handSequence.append(int(self.getOrderFromHold(startHoldList[1])))\n",
    "            self.handOperator.append(opList[zeroOrOne]) \n",
    "            self.handOperator.append(opList[1-zeroOrOne]) # indicate which hand\n",
    "            self.holdsNotUsed.remove(self.getOrderFromHold(startHoldList[0]))   # Not consider match\n",
    "            self.holdsNotUsed.remove(self.getOrderFromHold(startHoldList[1]))\n",
    "            \n",
    "    def getAllHolds(self):\n",
    "        \"\"\"N holds rows, 10 columns np array\"\"\"\n",
    "        return self.allHolds\n",
    "    \n",
    "    def tryMove(self, tryOrder, op):\n",
    "        \"\"\"Try how addition hold. Return successRate, tryOrder is a number in holdsNotUsed \n",
    "           list. op is either \"LH\" or \"RH\" \"\"\"\n",
    "        tryHold = self.allHolds[tryOrder]\n",
    "        finalXY = self.getXYFromOrder(tryOrder)    \n",
    "        if op == \"LH\":\n",
    "            originalXY = self.getXYFromOrder(self.getrightHandOrder())\n",
    "            dontCross = 1  # Penalty of do a big cross. Larger will drop the successRate\n",
    "            if originalXY[0] < finalXY[0] - 2.5:\n",
    "                dontCross = 0#2 * (finalXY[0] - 1.5 - originalXY[0])\n",
    "                \n",
    "            print(\"LHEasy? = \", self.successRateByHold(tryHold, \"LH\"))\n",
    "            print(\"RHEasy? = \", self.successRateByHold(self.getrightHandHold(), \"RH\"))\n",
    "            print(\"distanceOfFinalState = \", self.getTwoOrderDistance(self.getrightHandOrder(), tryOrder))\n",
    "            return self.successRateByHold(tryHold, \"LH\") * self.successRateByHold(self.getrightHandHold(), \"RH\") * dontCross / (self.getTwoOrderDistance(self.getrightHandOrder(), tryOrder))**0.5\n",
    "            \n",
    "        elif op == \"RH\":\n",
    "            originalXY = self.getXYFromOrder(self.getleftHandOrder())\n",
    "            dontCross = 1\n",
    "            if  finalXY[0] < originalXY[0] - 2.5:\n",
    "                dontCross = 0#2 * (originalXY[0] - 1.5 - finalXY[0])\n",
    "                \n",
    "            print(\"RHEasy? = \", self.successRateByHold(tryHold, \"RH\"))\n",
    "            print(\"LHEasy? = \", self.successRateByHold(self.getleftHandHold(), \"LH\"))\n",
    "            print(\"distanceOfFinalState = \", self.getTwoOrderDistance(self.getleftHandOrder(), tryOrder))\n",
    "            return self.successRateByHold(tryHold, \"RH\") * self.successRateByHold(self.getleftHandHold(), \"LH\") * dontCross / (self.getTwoOrderDistance(self.getleftHandOrder(), tryOrder))**0.5\n",
    "            \n",
    "\n",
    "    def addNextHand(self, nextHold, op):\n",
    "        \"\"\" nextHold is a hold, whichHand are  LH, LG, RH, RG\"\"\"\n",
    "        \n",
    "        if self.touchEndHold == 3: \n",
    "            self.handSequence.append(self.totalNumOfHold - 1)  \n",
    "            if self.handSequence[-1] == \"LH\":\n",
    "                self.handOperator.append(\"RH\")  \n",
    "            if self.handSequence[-1] == \"RH\":\n",
    "                self.handOperator.append(\"LH\") \n",
    "            self.touchEndHold = self.touchEndHold + 1;\n",
    "            self.isFinished = True\n",
    "            #print(self.handSequence, self.handOperator)\n",
    "        elif self.touchEndHold == 1 or self.isFinished == True: \n",
    "            pass\n",
    "        else:\n",
    "            if nextHold in self.getEndHoldOrder():\n",
    "                self.touchEndHold = self.touchEndHold + 1;\n",
    "                \n",
    "            # Before Update a new hold\n",
    "            originalCom = self.getCurrentCom()\n",
    "            dynamicThreshold = hyperparameter[0] * self.lastMoveSuccessRateByHold()  \n",
    " \n",
    "            # Update a new hold\n",
    "            self.handSequence.append(nextHold)   # Add a new hold into beta!\n",
    "            self.handOperator.append(op)         # indicate which hand\n",
    "            if nextHold not in self.getEndHoldOrder():\n",
    "                self.holdsNotUsed.remove(nextHold)   # Not consider match\n",
    "            \n",
    "            # after add a new hold\n",
    "            if op == \"LH\":\n",
    "                remainingHandOrder = self.getrightHandOrder()\n",
    "            else:\n",
    "                remainingHandOrder = self.getleftHandOrder()\n",
    "            \n",
    "            finalCom = self.getCom(remainingHandOrder, nextHold)\n",
    "            distance = np.sqrt(((originalCom[0] - finalCom[0]) ** 2)+((originalCom[1] - finalCom[1]) ** 2))\n",
    "            \n",
    "\n",
    "\n",
    "            #newMoveSuccessRate = self.lastMoveSuccessRateByHold() * successRateByDistance(distance, dynamicThreshold)\n",
    "            #self.singleMoveSuccessRate.append(newMoveSuccessRate)\n",
    "\n",
    "\n",
    "    def setTrueBeta(self):\n",
    "        self.isTrueBeta = True   \n",
    "        \n",
    "    def getleftHandOrder(self):\n",
    "        lastIndexOfLeft = ''.join(self.handOperator).rindex('L') / 2\n",
    "        return self.handSequence[int(lastIndexOfLeft)]\n",
    "    \n",
    "    def getrightHandOrder(self):\n",
    "        \"\"\" Output the order of the handSequence\"\"\"\n",
    "        lastIndexOfRight = ''.join(self.handOperator).rindex('R') / 2\n",
    "        return self.handSequence[int(lastIndexOfRight)]\n",
    "    \n",
    "    def getleftHandHold(self):\n",
    "        return self.allHolds[self.getleftHandOrder()]\n",
    "    \n",
    "    def getrightHandHold(self):\n",
    "        \"\"\" Output the order of the handSequence\"\"\"\n",
    "        return self.allHolds[self.getrightHandOrder()]\n",
    "    \n",
    "    def getOrderFromHold(self, hold):\n",
    "        \"\"\" from a single hold (np array) to an order\"\"\"\n",
    "        return np.where((self.allHolds == hold).all(1))[0] # Use np.where to get row indices\n",
    "    \n",
    "    def getCom(self, hold1Order, hold2Order):\n",
    "        \"\"\" Get the coordinate of COM using current both hands order\"\"\"\n",
    "        xCom = (self.allHolds[hold1Order][6] + self.allHolds[hold2Order][6]) / 2\n",
    "        yCom = (self.allHolds[hold1Order][7] + self.allHolds[hold2Order][7]) / 2\n",
    "        return (xCom, yCom)\n",
    "    \n",
    "    def getXYFromOrder(self, holdOrder):\n",
    "        return ((self.allHolds[holdOrder][6]), (self.allHolds[holdOrder][7])) \n",
    "        \n",
    "    def getCurrentCom(self):\n",
    "        \"\"\" Get the coordinate of COM based on current hand position\"\"\"\n",
    "        return self.getCom(self.getleftHandOrder(), self.getrightHandOrder())\n",
    "    \n",
    "    def getTwoOrderDistance(self, remainingHandOrder, nextHoldOrder):\n",
    "        \"\"\" Given order 2, and 5. Output distance between\"\"\"\n",
    "        originalCom = self.getCurrentCom()\n",
    "        finalCom = self.getCom(remainingHandOrder, nextHoldOrder)\n",
    "        return np.sqrt(((originalCom[0] - finalCom[0]) ** 2)+((originalCom[1] - finalCom[1]) ** 2))\n",
    "\n",
    "    def orderToSeqOrder(self, order):\n",
    "        \"\"\" Transform from rawdataorder to hand order\"\"\"\n",
    "        return self.handSequence.index(order)\n",
    "    \n",
    "    def lastMoveSuccessRateByHold(self):\n",
    "        operatorLeft = self.handOperator[self.orderToSeqOrder(self.getleftHandOrder())]\n",
    "        operatorRight = self.handOperator[self.orderToSeqOrder(self.getrightHandOrder())]\n",
    "        return self.successRateByHold(self.getleftHandHold(), operatorLeft) * self.successRateByHold(self.getrightHandHold(), operatorRight)\n",
    "    def successRateByHold(self, hold, operation):\n",
    "        \"\"\" \"\"\"\n",
    "        if operation == \"LH\": \n",
    "            return max((hold[0] + 2 * hold[1] + hold[2] + hold[5]) **1.2  , (hold[2] / 2 + hold[3] + hold[4])) / hyperparameter[1]\n",
    "        if operation == \"RH\":\n",
    "            return max((hold[2] + 2 * hold[3] + hold[4] + hold[5]) **1.2 , (hold[0] + hold[1] + hold[2] / 2)) / hyperparameter[1]\n",
    "        \n",
    "    def getStartHold(self):\n",
    "        \"\"\"return startHold list with 2 element\"\"\"\n",
    "        startHoldList = []\n",
    "        for hold in self.allHolds:\n",
    "            if hold[8] == 1:\n",
    "                startHoldList.append(hold)\n",
    "        return startHoldList\n",
    "\n",
    "    def getEndHoldOrder(self):\n",
    "        endHoldOrderList = []\n",
    "        for i in range(self.totalNumOfHold):\n",
    "            if self.allHolds[i][9] == 1:\n",
    "                endHoldOrderList.append(i)\n",
    "        if len(endHoldOrderList) == 1:\n",
    "            endHoldOrderList.append(self.totalNumOfHold)\n",
    "        return endHoldOrderList\n",
    "    \n",
    "    def getholdsNotUsed(self):\n",
    "        return self.holdsNotUsed  \n",
    "    \n",
    "    def overallSuccessRate(self):\n",
    "        numOfHand = len(self.handSequence)\n",
    "        overallScore = 1;\n",
    "        for i, order in enumerate(self.handSequence): \n",
    "            #print(order)\n",
    "            #print(self.successRateByHold(self.allHolds[order], self.handOperator[i]))\n",
    "            overallScore = overallScore * self.successRateByHold(self.allHolds[order], self.handOperator[i])\n",
    "  \n",
    "        for i in range (numOfHand - 1):  # Penalty of do a big cross. Larger will drop the successRate   \n",
    "            targetXY = self.getXYFromOrder(self.handSequence[i+1]) \n",
    "            \n",
    "            #update last L/R hand\n",
    "            if self.handOperator[i] == \"RH\":\n",
    "                lastrightHandXY = self.getXYFromOrder(self.handSequence[i]) \n",
    "            if self.handOperator[i] == \"LH\":    \n",
    "                lastleftHandXY = self.getXYFromOrder(self.handSequence[i])\n",
    "                \n",
    "            if i == 1 and self.handSequence[0] == self.handSequence[1]:  ## not sure\n",
    "                targetXY = (targetXY[0], targetXY[1] - 1)\n",
    "            \n",
    "            if i >= 1 and self.handOperator[i+1] == \"RH\": #targetXY[0] < originalXY[0] - 2.5 and \n",
    "                originalXY = lastleftHandXY\n",
    "                overallScore = overallScore * makeGaussian(targetXY, 3, (originalXY[0] , originalXY[1]), \"LH\")\n",
    "            if i >= 1 and self.handOperator[i+1] == \"LH\": #originalXY[0] < targetXY[0] - 2.5 and \n",
    "                originalXY = lastrightHandXY\n",
    "                overallScore = overallScore * makeGaussian(targetXY, 3, (originalXY[0], originalXY[1]), \"RH\")\n",
    "        self.overallSuccess = overallScore    \n",
    "        \n",
    "        \n",
    "        return overallScore ** (3/numOfHand) "
   ]
  },
  {
   "cell_type": "code",
   "execution_count": 22,
   "metadata": {},
   "outputs": [],
   "source": [
    "def makeGaussian(targetXY, fwhm = 3, center = None, lasthand = \"LH\"):\n",
    "    \"\"\" Make a square gaussian kernel.\n",
    "    size is the length of a side of the square\n",
    "    fwhm is full-width-half-maximum, which\n",
    "    can be thought of as an effective radius.\n",
    "    \"\"\"\n",
    "    x = targetXY[0]\n",
    "    y = targetXY[1]\n",
    "\n",
    "    x0 = center[0]\n",
    "    y0 = center[1]\n",
    "    if lasthand == \"RH\":\n",
    "        firstGauss = np.exp(-4*np.log(2) * ((x-(x0-3))**2 + (y-(y0+1.5))**2) / fwhm**2)\n",
    "        secondGauss = np.exp(-4*np.log(2) * ((x-(x0+1))**2 + (y-(y0+0.5))**2) / fwhm**2) * 0.4\n",
    "        thirdGauss =  np.exp(-4*np.log(2) * ((x-(x0))**2 + (y-(y0+1))**2) / fwhm**2) * 0.3\n",
    "    if lasthand == \"LH\":\n",
    "        firstGauss = np.exp(-4*np.log(2) * ((x-(x0+3))**2 + (y-(y0+1.5))**2) / fwhm**2)\n",
    "        secondGauss = np.exp(-4*np.log(2) * ((x-(x0-1))**2 + (y-(y0+0.5))**2) / fwhm**2) * 0.4\n",
    "        thirdGauss =  np.exp(-4*np.log(2) * ((x-(x0))**2 + (y-(y0+1))**2) / fwhm**2) * 0.3\n",
    "    return  firstGauss + secondGauss"
   ]
  },
  {
   "cell_type": "code",
   "execution_count": 23,
   "metadata": {},
   "outputs": [
    {
     "data": {
      "image/png": "[encoded data removed]",
      "text/plain": [
       "<Figure size 432x288 with 2 Axes>"
      ]
     },
     "metadata": {
      "needs_background": "light"
     },
     "output_type": "display_data"
    }
   ],
   "source": [
    "xlist = np.linspace(-2,6, 100)\n",
    "ylist = np.linspace(-2,6, 100)\n",
    "X, Y = np.meshgrid(xlist, ylist)\n",
    "Z = makeGaussian((X,Y), 4, (0,0))\n",
    "fig,ax=plt.subplots(1,1)\n",
    "cp = ax.contourf(X, Y, Z)\n",
    "fig.colorbar(cp) # Add a colorbar to a plot\n",
    "ax.set_title('Filled Contours Plot')\n",
    "#ax.set_xlabel('x (cm)')\n",
    "ax.set_ylabel('y (cm)')\n",
    "plt.show()\n"
   ]
  },
  {
   "cell_type": "code",
   "execution_count": 28,
   "metadata": {},
   "outputs": [],
   "source": [
    "def successRateByDistance(distance, dynamicThreshold):\n",
    "    \"\"\" Relu\"\"\"\n",
    "    if distance < dynamicThreshold:\n",
    "        return 1 - distance / dynamicThreshold\n",
    "    if distance > dynamicThreshold:\n",
    "        return 0"
   ]
  },
  {
   "cell_type": "code",
   "execution_count": 29,
   "metadata": {},
   "outputs": [],
   "source": [
    "def rindex(lst, item):\n",
    "    def index_ne(x):\n",
    "        return lst[x] != item\n",
    "    try:\n",
    "        return next(dropwhile(index_ne, reversed(range(len(lst)))))\n",
    "    except StopIteration:\n",
    "        raise ValueError(\"rindex(lst, item): item not in list\")  \n",
    "        "
   ]
  },
  {
   "cell_type": "code",
   "execution_count": 30,
   "metadata": {},
   "outputs": [],
   "source": [
    "def addNewBeta(status, printOut = True):\n",
    "    \"\"\" Add one move to expand the candidate list and pick the largest 8\"\"\"\n",
    "    tempstatus = []\n",
    "    for betaPre in status:  # betaPreviousTwoCandidates       \n",
    "        distanceScore = []\n",
    "        for nextHoldOrder in betaPre.holdsNotUsed:\n",
    "            \n",
    "            originalCom = betaPre.getCurrentCom() \n",
    "            dynamicThreshold = hyperparameter[0] * betaPre.lastMoveSuccessRateByHold()  \n",
    "            finalXY = betaPre.getXYFromOrder(nextHoldOrder)\n",
    "    \n",
    "            distance = np.sqrt(((originalCom[0] - finalXY[0]) ** 2)+((originalCom[1] - finalXY[1]) ** 2))\n",
    "            distanceScore.append(successRateByDistance(distance, dynamicThreshold))\n",
    "\n",
    "        # Find the first and second smallest distance\n",
    "        largestIndex = heapq.nlargest(min(8, len(distanceScore)), range(len(distanceScore)), key=distanceScore.__getitem__)\n",
    "        \n",
    "        #goodHoldIndex = [betaPre.holdsNotUsed[largestIndex[0]], betaPre.holdsNotUsed[largestIndex[1]], betaPre.holdsNotUsed[largestIndex[2]]]  #[#3,#5] holds\n",
    "        goodHoldIndex = [betaPre.holdsNotUsed[i] for i in largestIndex]\n",
    "        \n",
    "        added = False\n",
    "        for possibleHold in goodHoldIndex:\n",
    "            for op in operationList:\n",
    "                if betaPre.isFinished == False:\n",
    "                    tempstatus.append(copy.deepcopy(betaPre))\n",
    "                    tempstatus[-1].addNextHand(possibleHold, op)\n",
    "                elif added == False:\n",
    "                    tempstatus.append(copy.deepcopy(betaPre))\n",
    "                    added = True\n",
    "                   \n",
    "    \n",
    "    # trim tempstatus to pick the largest 3 \n",
    "    finalScore = []       \n",
    "    for i in tempstatus:\n",
    "        finalScore.append(i.overallSuccessRate())    \n",
    "    largestIndex = heapq.nlargest(8, range(len(finalScore)), key=finalScore.__getitem__) \n",
    "       \n",
    "    if printOut == True:\n",
    "        for i in largestIndex:\n",
    "            print(tempstatus[i].handSequence, tempstatus[i].handOperator, tempstatus[i].overallSuccessRate()) \n",
    "\n",
    "    return [tempstatus[i] for i in largestIndex] "
   ]
  },
  {
   "cell_type": "markdown",
   "metadata": {},
   "source": [
    "Define Current Status"
   ]
  },
  {
   "cell_type": "code",
   "execution_count": 31,
   "metadata": {},
   "outputs": [
    {
     "name": "stdout",
     "output_type": "stream",
     "text": [
      "keyNum =  20149\n",
      "[[ 3.  8.  2.  0.  0.  0.  9.  4.  1.  0.]\n",
      " [ 3.  3.  0.  0.  0.  3.  6.  5.  1.  0.]\n",
      " [ 1.  5.  2.  0.  0.  0.  0.  8.  0.  0.]\n",
      " [ 0.  0.  4.  9.  4.  0.  7.  9.  0.  0.]\n",
      " [ 0.  0.  1.  6.  1.  0.  5. 10.  0.  0.]\n",
      " [ 2.  8.  2.  0.  0.  0.  2. 12.  0.  0.]\n",
      " [ 2.  6.  2.  0.  0.  0.  0. 13.  0.  0.]\n",
      " [ 2.  6.  8.  6.  2.  0.  3. 17.  0.  1.]]\n",
      "https://moonboard.com/Problems/View/20149/ladybug\n"
     ]
    }
   ],
   "source": [
    "testbeta = beta(moonboardTest.T)\n",
    "status = [beta(moonboardTest.T), beta(moonboardTest.T)]\n",
    "print(\"keyNum = \", keyNum)\n",
    "print(status[0].allHolds)\n",
    "moonboardTestUrl = MoonBoard_2016_withurl[keyNum]\n",
    "print(moonboardTestUrl[\"url\"])\n",
    "# Initialized Start hold of two different beta\n",
    "status[0].addStartHolds(0)\n",
    "status[1].addStartHolds(1)\n",
    "\n",
    "operationList = [\"RH\", \"LH\"]\n",
    "tempstatus = []\n",
    "tempstatus2 = []\n",
    "tempstatus3 = []\n",
    "distanceScore = []"
   ]
  },
  {
   "cell_type": "code",
   "execution_count": 32,
   "metadata": {},
   "outputs": [
    {
     "name": "stdout",
     "output_type": "stream",
     "text": [
      "0\n",
      "[0, 1, 3] ['RH', 'LH', 'RH'] 533.752032097093\n",
      "[0, 1, 2] ['LH', 'RH', 'LH'] 157.17977905416348\n",
      "[0, 1, 3] ['RH', 'LH', 'LH'] 60.0914327487536\n",
      "[0, 1, 3] ['LH', 'RH', 'LH'] 35.58201102019092\n",
      "[0, 1, 4] ['LH', 'RH', 'LH'] 12.030923829148438\n",
      "[0, 1, 3] ['LH', 'RH', 'RH'] 6.754057251512993\n",
      "[0, 1, 4] ['RH', 'LH', 'RH'] 5.321920374943136\n",
      "[0, 1, 4] ['RH', 'LH', 'LH'] 2.548025928228093\n",
      "1\n",
      "[0, 1, 3, 5] ['RH', 'LH', 'RH', 'LH'] 388.4076865295593\n",
      "[0, 1, 3, 4] ['RH', 'LH', 'RH', 'LH'] 386.60553212043783\n",
      "[0, 1, 2, 4] ['LH', 'RH', 'LH', 'RH'] 178.79577760240363\n",
      "[0, 1, 3, 4] ['RH', 'LH', 'LH', 'RH'] 87.54695601960411\n",
      "[0, 1, 3, 4] ['LH', 'RH', 'LH', 'RH'] 59.09551184738523\n",
      "[0, 1, 2, 5] ['LH', 'RH', 'LH', 'RH'] 50.41889738247887\n",
      "[0, 1, 4, 5] ['RH', 'LH', 'RH', 'LH'] 49.079596561536164\n",
      "[0, 1, 4, 3] ['LH', 'RH', 'LH', 'RH'] 24.66889745193025\n",
      "2\n",
      "[0, 1, 2, 4, 5] ['LH', 'RH', 'LH', 'RH', 'LH'] 523.5589288745006\n",
      "[0, 1, 3, 5, 4] ['RH', 'LH', 'RH', 'LH', 'LH'] 319.77240206764446\n",
      "[0, 1, 3, 4, 5] ['RH', 'LH', 'RH', 'LH', 'LH'] 319.77240206764446\n",
      "[0, 1, 3, 4, 5] ['RH', 'LH', 'LH', 'RH', 'LH'] 295.71448909948776\n",
      "[0, 1, 3, 4, 5] ['LH', 'RH', 'LH', 'RH', 'LH'] 215.9351599384823\n",
      "[0, 1, 3, 5, 6] ['RH', 'LH', 'RH', 'LH', 'RH'] 201.96163489514672\n",
      "[0, 1, 2, 4, 6] ['LH', 'RH', 'LH', 'RH', 'LH'] 146.93901532818606\n",
      "[0, 1, 2, 5, 6] ['LH', 'RH', 'LH', 'RH', 'LH'] 137.21924676715096\n",
      "3\n",
      "[0, 1, 2, 4, 5, 6] ['LH', 'RH', 'LH', 'RH', 'LH', 'LH'] 371.6898835430429\n",
      "[0, 1, 2, 4, 6, 5] ['LH', 'RH', 'LH', 'RH', 'LH', 'LH'] 371.6898835430429\n",
      "[0, 1, 2, 4, 5, 6] ['LH', 'RH', 'LH', 'RH', 'LH', 'RH'] 288.848530799424\n",
      "[0, 1, 2, 4, 5, 3] ['LH', 'RH', 'LH', 'RH', 'LH', 'LH'] 273.88426961870465\n",
      "[0, 1, 3, 4, 5, 6] ['RH', 'LH', 'LH', 'RH', 'LH', 'LH'] 230.90673593709667\n",
      "[0, 1, 3, 4, 5, 6] ['RH', 'LH', 'RH', 'LH', 'LH', 'RH'] 191.52832187823103\n",
      "[0, 1, 3, 4, 5, 6] ['RH', 'LH', 'LH', 'RH', 'LH', 'RH'] 179.4427945989474\n",
      "[0, 1, 3, 4, 5, 6] ['LH', 'RH', 'LH', 'RH', 'LH', 'LH'] 177.6828729346542\n",
      "4\n",
      "[0, 1, 2, 4, 5, 6, 7] ['LH', 'RH', 'LH', 'RH', 'LH', 'LH', 'RH'] 342.85984323776387\n",
      "[0, 1, 3, 4, 5, 6, 7] ['RH', 'LH', 'LH', 'RH', 'LH', 'LH', 'RH'] 227.98557034910274\n",
      "[0, 1, 2, 4, 5, 6, 3] ['LH', 'RH', 'LH', 'RH', 'LH', 'LH', 'LH'] 223.99432659843066\n",
      "[0, 1, 2, 4, 6, 5, 3] ['LH', 'RH', 'LH', 'RH', 'LH', 'LH', 'LH'] 223.99432659843066\n",
      "[0, 1, 2, 4, 5, 3, 6] ['LH', 'RH', 'LH', 'RH', 'LH', 'LH', 'LH'] 223.99432659843066\n",
      "[0, 1, 3, 4, 5, 6, 7] ['LH', 'RH', 'LH', 'RH', 'LH', 'LH', 'RH'] 182.1261000982769\n",
      "[0, 1, 2, 4, 6, 5, 7] ['LH', 'RH', 'LH', 'RH', 'LH', 'LH', 'RH'] 92.86840862183662\n",
      "[0, 1, 2, 4, 5, 6, 7] ['LH', 'RH', 'LH', 'RH', 'LH', 'RH', 'RH'] 74.81725909426895\n",
      "5\n",
      "[0, 1, 2, 4, 5, 6, 7] ['LH', 'RH', 'LH', 'RH', 'LH', 'LH', 'RH'] 342.85984323776387\n",
      "[0, 1, 2, 4, 5, 6, 7] ['LH', 'RH', 'LH', 'RH', 'LH', 'LH', 'RH'] 342.85984323776387\n",
      "[0, 1, 2, 4, 5, 6, 7] ['LH', 'RH', 'LH', 'RH', 'LH', 'LH', 'RH'] 342.85984323776387\n",
      "[0, 1, 2, 4, 5, 6, 7] ['LH', 'RH', 'LH', 'RH', 'LH', 'LH', 'RH'] 342.85984323776387\n",
      "[0, 1, 3, 4, 5, 6, 7] ['RH', 'LH', 'LH', 'RH', 'LH', 'LH', 'RH'] 227.98557034910274\n",
      "[0, 1, 3, 4, 5, 6, 7] ['RH', 'LH', 'LH', 'RH', 'LH', 'LH', 'RH'] 227.98557034910274\n",
      "[0, 1, 3, 4, 5, 6, 7] ['RH', 'LH', 'LH', 'RH', 'LH', 'LH', 'RH'] 227.98557034910274\n",
      "[0, 1, 3, 4, 5, 6, 7] ['RH', 'LH', 'LH', 'RH', 'LH', 'LH', 'RH'] 227.98557034910274\n",
      "6\n",
      "[0, 1, 2, 4, 5, 6, 7] ['LH', 'RH', 'LH', 'RH', 'LH', 'LH', 'RH'] 342.85984323776387\n",
      "[0, 1, 2, 4, 5, 6, 7] ['LH', 'RH', 'LH', 'RH', 'LH', 'LH', 'RH'] 342.85984323776387\n",
      "[0, 1, 2, 4, 5, 6, 7] ['LH', 'RH', 'LH', 'RH', 'LH', 'LH', 'RH'] 342.85984323776387\n",
      "[0, 1, 2, 4, 5, 6, 7] ['LH', 'RH', 'LH', 'RH', 'LH', 'LH', 'RH'] 342.85984323776387\n",
      "[0, 1, 2, 4, 5, 6, 7] ['LH', 'RH', 'LH', 'RH', 'LH', 'LH', 'RH'] 342.85984323776387\n",
      "[0, 1, 2, 4, 5, 6, 7] ['LH', 'RH', 'LH', 'RH', 'LH', 'LH', 'RH'] 342.85984323776387\n",
      "[0, 1, 2, 4, 5, 6, 7] ['LH', 'RH', 'LH', 'RH', 'LH', 'LH', 'RH'] 342.85984323776387\n",
      "[0, 1, 2, 4, 5, 6, 7] ['LH', 'RH', 'LH', 'RH', 'LH', 'LH', 'RH'] 342.85984323776387\n"
     ]
    }
   ],
   "source": [
    "# Run the algorithm for 6 times\n",
    "totalRun = status[0].totalNumOfHold - 1\n",
    "for i in range(totalRun):  # how many new move you wan to add\n",
    "    print (i)\n",
    "    status = addNewBeta(status)\n",
    "    finalScore = [] \n",
    "    for i in status:   \n",
    "        finalScore.append(i.overallSuccessRate())\n",
    "    largestIndex = heapq.nlargest(4, range(len(finalScore)), key=finalScore.__getitem__)\n",
    "    if (status[largestIndex[0]].isFinished and status[largestIndex[1]].isFinished) == True:\n",
    "        break"
   ]
  },
  {
   "cell_type": "code",
   "execution_count": 33,
   "metadata": {},
   "outputs": [
    {
     "name": "stdout",
     "output_type": "stream",
     "text": [
      "[<__main__.beta object at 0x133732580>, <__main__.beta object at 0x133732070>, <__main__.beta object at 0x133732e50>, <__main__.beta object at 0x1281611c0>, <__main__.beta object at 0x1281617c0>, <__main__.beta object at 0x129ea41c0>, <__main__.beta object at 0x129ea40a0>, <__main__.beta object at 0x129ea4370>]\n"
     ]
    }
   ],
   "source": [
    "# last sorting for the best 5\n",
    "finalScore = [] \n",
    "print(status)\n",
    "for i in status:   \n",
    "    finalScore.append(i.overallSuccessRate())   \n",
    "largestIndex = heapq.nlargest(4, range(len(finalScore)), key=finalScore.__getitem__)"
   ]
  },
  {
   "cell_type": "code",
   "execution_count": 71,
   "metadata": {},
   "outputs": [
    {
     "name": "stdout",
     "output_type": "stream",
     "text": [
      "https://moonboard.com/Problems/View/20149/ladybug\n",
      "After Beamer search, the most possible hand sequence and the successRate:\n",
      "[0, 1, 2, 4, 5, 6, 7] ['LH', 'RH', 'LH', 'RH', 'LH', 'LH', 'RH'] 342.85984323776387\n",
      "[0, 1, 2, 4, 5, 6, 7] ['LH', 'RH', 'LH', 'RH', 'LH', 'LH', 'RH'] 342.85984323776387\n",
      "[0, 1, 2, 4, 5, 6, 7] ['LH', 'RH', 'LH', 'RH', 'LH', 'LH', 'RH'] 342.85984323776387\n",
      "[0, 1, 2, 4, 5, 6, 7] ['LH', 'RH', 'LH', 'RH', 'LH', 'LH', 'RH'] 342.85984323776387\n"
     ]
    }
   ],
   "source": [
    "print(moonboardTestUrl[\"url\"])\n",
    "print (\"After Beamer search, the most possible hand sequence and the successRate:\")\n",
    "for i in largestIndex:\n",
    "    \n",
    "    print(status[i].handSequence, status[i].handOperator, status[i].overallSuccessRate())    \n"
   ]
  },
  {
   "cell_type": "code",
   "execution_count": 35,
   "metadata": {},
   "outputs": [],
   "source": [
    "def produce_sequence(keyNum, X_dict, n_return = 1):\n",
    "    '''\n",
    "    Input: \n",
    "    - keyNum: the ID number of the problem\n",
    "    - X_dict: the dictionary that contains the problem\n",
    "    - n_return: number of best sequences to return\n",
    "    Output:\n",
    "    - a dictionary with key = the ranking of the output. Specific information of each output can be extracted using\n",
    "      status.handSequence, status.handOperator, status.overallSuccessRate(), status.successScoreSequence\n",
    "    '''\n",
    "    moonboardTest = X_dict[keyNum]\n",
    "    moonboardTestUrl = MoonBoard_2016_withurl[keyNum]\n",
    "    testbeta = beta(moonboardTest.T)\n",
    "    status = [beta(moonboardTest.T), beta(moonboardTest.T)]\n",
    "    status[0].addStartHolds(0)\n",
    "    status[1].addStartHolds(1)\n",
    "    operationList = [\"RH\", \"LH\"]\n",
    "    tempstatus = []\n",
    "    tempstatus2 = []\n",
    "    tempstatus3 = []\n",
    "    distanceScore = []\n",
    "    \n",
    "    # Run the algorithm for 6 times\n",
    "    totalRun = status[0].totalNumOfHold - 1\n",
    "    for i in range(totalRun):  # how many new move you wan to add\n",
    "        status = addNewBeta(status, printOut = False)\n",
    "        finalScore = [] \n",
    "        for i in status:   \n",
    "            finalScore.append(i.overallSuccessRate())\n",
    "        largestIndex = heapq.nlargest(4, range(len(finalScore)), key=finalScore.__getitem__)\n",
    "        if (status[largestIndex[0]].isFinished and status[largestIndex[1]].isFinished) == True:\n",
    "            break\n",
    "    \n",
    "    # last sorting for the best 5\n",
    "    finalScore = [] \n",
    "    for i in status:   \n",
    "        finalScore.append(i.overallSuccessRate())   \n",
    "    largestIndex = heapq.nlargest(n_return, range(len(finalScore)), key=finalScore.__getitem__)\n",
    "    \n",
    "    # produce output\n",
    "    output = {}\n",
    "    print(moonboardTestUrl[\"url\"])\n",
    "    print (\"After Beamer search, the most possible hand sequence and the successRate:\")\n",
    "    for i in largestIndex:\n",
    "        print([coordinateToString(status[i].getXYFromOrder(j)) for j in status[i].handSequence])\n",
    "        print(status[i].handSequence, status[i].handOperator, status[i].overallSuccessRate())\n",
    "        #print(status[i].successScoreSequence)\n",
    "        output[i] = status[i]\n",
    "    \n",
    "    return output"
   ]
  },
  {
   "cell_type": "code",
   "execution_count": 36,
   "metadata": {},
   "outputs": [
    {
     "data": {
      "text/plain": [
       "dict_keys(['337509', '332721', '332646', '325637', '325079', '324257', '322941', '322939', '321511', '321097', '320798', '320394', '314508', '311645', '310143', '310106', '309814', '308058', '307834', '306777', '306776', '306062', '305694', '305656', '300214', '297887', '292263', '281994', '279557', '274947', '273016', '260849', '256493', '254625', '251124', '251082', '249317', '243461', '241018', '234401', '232300', '229614', '227999', '226072', '214484', '213011', '202064', '201921', '201020', '199740', '199290', '196769', '196284', '192888', '192428', '192386', '191609', '190906', '189969', '189344', '184714', '184462', '184295', '181440', '181435', '179415', '178758', '176870', '176230', '174899', '172010', '171918', '171796', '171787', '171108', '170230', '170190', '170185', '169636', '166287', '164879', '164874', '160922', '160167', '159366', '158675', '158100', '156084', '152217', '150763', '150053', '149984', '144021', '142730', '141821', '139394', '137897', '137242', '136668', '134795', '133998', '133992', '132090', '128535', '127086', '126731', '126656', '126481', '125131', '125109', '124553', '123453', '121413', '121194', '119861', '118171', '118145', '118028', '114961', '114443', '114322', '113385', '112929', '111232', '110330', '106472', '106424', '105100', '104914', '104439', '103695', '102018', '99677', '96879', '93635', '93247', '91747', '91202', '90626', '89571', '88172', '85826', '85367', '84177', '83988', '83919', '83348', '82224', '80818', '80802', '80197', '79926', '79055', '77712', '77088', '74717', '73998', '71428', '71190', '71109', '70743', '70284', '70272', '70034', '69426', '69372', '69023', '68881', '67296', '67070', '67015', '66446', '66038', '65097', '64714', '63522', '63371', '63365', '62560', '62351', '62286', '62275', '62267', '62144', '62141', '62126', '60962', '59580', '57470', '55784', '55559', '55506', '55417', '54766', '54752', '54627', '54384', '53544', '53494', '53487', '53436', '52318', '51353', '50367', '50356', '50106', '49969', '49666', '49648', '49576', '49191', '49031', '48939', '48765', '48723', '47109', '46508', '46465', '46458', '46050', '46045', '45232', '45182', '44578', '44384', '44327', '44178', '44158', '44029', '43190', '43010', '42911', '42900', '41542', '41437', '41345', '41339', '41312', '41190', '41029', '40879', '40784', '39709', '39700', '39242', '39074', '39071', '38855', '37091', '36667', '36070', '35870', '35590', '35345', '34964', '34688', '34686', '34387', '34383', '34005', '32430', '32304', '31773', '31140', '30627', '30612', '30609', '30534', '30526', '30524', '29901', '29805', '29598', '29565', '29360', '28832', '28514', '28020', '27961', '27956', '27875', '27394', '27116', '27102', '26853', '26693', '26620', '26083', '25841', '25652', '25577', '25556', '25521', '25506', '25043', '24681', '24641', '24624', '24448', '24196', '24126', '23803', '23720', '23632', '23601', '23428', '23261', '23192', '23186', '23184', '23182', '22861', '22859', '22596', '22594', '22343', '22257', '22040', '21921', '21494', '21492', '21396', '21329', '21258', '21082', '20967', '20923', '20860', '20790', '20774', '20735', '20700', '20698', '20473', '20461', '20451', '20437', '20316', '20253', '20249', '20153', '20149', '20038', '19956', '19782', '19766', '19732', '19646', '19632', '19310', '19237', '19233', '19230', '19229', '19225', '19224', '19223', '19222'])"
      ]
     },
     "execution_count": 36,
     "metadata": {},
     "output_type": "execute_result"
    }
   ],
   "source": [
    "(MoonBoard_2016_raw[\"X_dict_benchmark_withgrade\"]).keys()"
   ]
  },
  {
   "cell_type": "code",
   "execution_count": 37,
   "metadata": {},
   "outputs": [],
   "source": [
    "def coordinateToString(coordinate):\n",
    "    \"\"\" convert (9.0 ,4.0) to \"J5\" \"\"\"\n",
    "    alphabateList = [\"A\", \"B\", \"C\", \"D\", \"E\", \"F\", \"G\", \"H\", \"I\", \"J\", \"K\"]\n",
    "    return str(alphabateList[int(coordinate[0])]) + str(int(coordinate[1]) + 1)"
   ]
  },
  {
   "cell_type": "code",
   "execution_count": 38,
   "metadata": {},
   "outputs": [
    {
     "data": {
      "text/plain": [
       "'J5'"
      ]
     },
     "execution_count": 38,
     "metadata": {},
     "output_type": "execute_result"
    }
   ],
   "source": [
    "coordinateToString((9.0,4.0))"
   ]
  },
  {
   "cell_type": "code",
   "execution_count": 39,
   "metadata": {},
   "outputs": [
    {
     "name": "stdout",
     "output_type": "stream",
     "text": [
      "https://moonboard.com/Problems/View/20253/i-want-milk-moo-var\n",
      "After Beamer search, the most possible hand sequence and the successRate:\n",
      "['B4', 'D6', 'C7', 'D10', 'C15', 'C18']\n",
      "[0, 1, 2, 3, 4, 5] ['LH', 'RH', 'LH', 'RH', 'LH', 'RH'] 3.7894422699288497\n"
     ]
    },
    {
     "ename": "AttributeError",
     "evalue": "'beta' object has no attribute 'successScoreSequence'",
     "output_type": "error",
     "traceback": [
      "\u001b[0;31m---------------------------------------------------------------------------\u001b[0m",
      "\u001b[0;31mAttributeError\u001b[0m                            Traceback (most recent call last)",
      "\u001b[0;32m<ipython-input-39-a9b58e45ab6b>\u001b[0m in \u001b[0;36m<module>\u001b[0;34m\u001b[0m\n\u001b[0;32m----> 1\u001b[0;31m \u001b[0mproduce_sequence\u001b[0m\u001b[0;34m(\u001b[0m\u001b[0;34m\"20253\"\u001b[0m\u001b[0;34m,\u001b[0m \u001b[0mMoonBoard_2016_raw\u001b[0m\u001b[0;34m[\u001b[0m\u001b[0;34m\"X_dict_benchmark_withgrade\"\u001b[0m\u001b[0;34m]\u001b[0m\u001b[0;34m,\u001b[0m \u001b[0mn_return\u001b[0m \u001b[0;34m=\u001b[0m \u001b[0;36m1\u001b[0m\u001b[0;34m)\u001b[0m\u001b[0;34m\u001b[0m\u001b[0;34m\u001b[0m\u001b[0m\n\u001b[0m",
      "\u001b[0;32m<ipython-input-35-f91d02eba3b6>\u001b[0m in \u001b[0;36mproduce_sequence\u001b[0;34m(keyNum, X_dict, n_return)\u001b[0m\n\u001b[1;32m     45\u001b[0m         \u001b[0mprint\u001b[0m\u001b[0;34m(\u001b[0m\u001b[0;34m[\u001b[0m\u001b[0mcoordinateToString\u001b[0m\u001b[0;34m(\u001b[0m\u001b[0mstatus\u001b[0m\u001b[0;34m[\u001b[0m\u001b[0mi\u001b[0m\u001b[0;34m]\u001b[0m\u001b[0;34m.\u001b[0m\u001b[0mgetXYFromOrder\u001b[0m\u001b[0;34m(\u001b[0m\u001b[0mj\u001b[0m\u001b[0;34m)\u001b[0m\u001b[0;34m)\u001b[0m \u001b[0;32mfor\u001b[0m \u001b[0mj\u001b[0m \u001b[0;32min\u001b[0m \u001b[0mstatus\u001b[0m\u001b[0;34m[\u001b[0m\u001b[0mi\u001b[0m\u001b[0;34m]\u001b[0m\u001b[0;34m.\u001b[0m\u001b[0mhandSequence\u001b[0m\u001b[0;34m]\u001b[0m\u001b[0;34m)\u001b[0m\u001b[0;34m\u001b[0m\u001b[0;34m\u001b[0m\u001b[0m\n\u001b[1;32m     46\u001b[0m         \u001b[0mprint\u001b[0m\u001b[0;34m(\u001b[0m\u001b[0mstatus\u001b[0m\u001b[0;34m[\u001b[0m\u001b[0mi\u001b[0m\u001b[0;34m]\u001b[0m\u001b[0;34m.\u001b[0m\u001b[0mhandSequence\u001b[0m\u001b[0;34m,\u001b[0m \u001b[0mstatus\u001b[0m\u001b[0;34m[\u001b[0m\u001b[0mi\u001b[0m\u001b[0;34m]\u001b[0m\u001b[0;34m.\u001b[0m\u001b[0mhandOperator\u001b[0m\u001b[0;34m,\u001b[0m \u001b[0mstatus\u001b[0m\u001b[0;34m[\u001b[0m\u001b[0mi\u001b[0m\u001b[0;34m]\u001b[0m\u001b[0;34m.\u001b[0m\u001b[0moverallSuccessRate\u001b[0m\u001b[0;34m(\u001b[0m\u001b[0;34m)\u001b[0m\u001b[0;34m)\u001b[0m\u001b[0;34m\u001b[0m\u001b[0;34m\u001b[0m\u001b[0m\n\u001b[0;32m---> 47\u001b[0;31m         \u001b[0mprint\u001b[0m\u001b[0;34m(\u001b[0m\u001b[0mstatus\u001b[0m\u001b[0;34m[\u001b[0m\u001b[0mi\u001b[0m\u001b[0;34m]\u001b[0m\u001b[0;34m.\u001b[0m\u001b[0msuccessScoreSequence\u001b[0m\u001b[0;34m)\u001b[0m\u001b[0;34m\u001b[0m\u001b[0;34m\u001b[0m\u001b[0m\n\u001b[0m\u001b[1;32m     48\u001b[0m         \u001b[0moutput\u001b[0m\u001b[0;34m[\u001b[0m\u001b[0mi\u001b[0m\u001b[0;34m]\u001b[0m \u001b[0;34m=\u001b[0m \u001b[0mstatus\u001b[0m\u001b[0;34m[\u001b[0m\u001b[0mi\u001b[0m\u001b[0;34m]\u001b[0m\u001b[0;34m\u001b[0m\u001b[0;34m\u001b[0m\u001b[0m\n\u001b[1;32m     49\u001b[0m \u001b[0;34m\u001b[0m\u001b[0m\n",
      "\u001b[0;31mAttributeError\u001b[0m: 'beta' object has no attribute 'successScoreSequence'"
     ]
    }
   ],
   "source": [
    "produce_sequence(\"20253\", MoonBoard_2016_raw[\"X_dict_benchmark_withgrade\"], n_return = 1)"
   ]
  },
  {
   "cell_type": "markdown",
   "metadata": {},
   "source": [
    "After having hand sequence, let's generate move sequence by looping over each target point"
   ]
  },
  {
   "cell_type": "code",
   "execution_count": 73,
   "metadata": {},
   "outputs": [],
   "source": [
    "def oppositehand(astring):\n",
    "    if astring == \"LH\":\n",
    "        return \"RH\"\n",
    "    if astring == \"RH\":\n",
    "        return \"LH\""
   ]
  },
  {
   "cell_type": "code",
   "execution_count": 139,
   "metadata": {},
   "outputs": [],
   "source": [
    "def moveGenerator(beta):\n",
    "    \"\"\" generate the final output of move sequence as a list of dictionary.\n",
    "    Length of the list: how many moves in this climb to the target hold. Target holds run from the third order hold to the last hold\n",
    "    Dictionary involves all information needed to evaluate grade/ analyze style for human. This is a basic building block of the route.\n",
    "    TargetHoldString : \"A10\" for example\n",
    "    TargetHoldHand: \"RH\" for example \n",
    "    TargetHoldScore: the difficulty to hold on the target hold applying the \"RH\" operation\n",
    "    RemainingHoldString : \"A10\" for example\n",
    "    RemainingHoldHand: \n",
    "    RemainingHoldScore \n",
    "    MovingHoldString : A10 for example\n",
    "    MovingHoldHand: \n",
    "    MovingHoldScore: \n",
    "    dxdyMtoT: vector Target - moving hand. This distance's physical meaning is the real hand traveling range during the move\n",
    "    dxdyRtoT: vector Target - Remaining hand. This distance's physical meaning is the inter distance between two remaining hand after finish the move\n",
    "    FootPlacement: [0,0,0,0,1,1,0] means there is hold on region 5 and 6. \n",
    "    \"\"\"\n",
    "    \n",
    "    outputDictionaryList = []\n",
    "    numOfMoves = len(beta.handSequence) - 2 # calculate from the third hold to the end hold (no final match)\n",
    "    # loop over holds from third one to the finish hold (rank from 3 to end). In each move, this is the hold defined as target hold\n",
    "    for rank in range(2,  len(beta.handSequence)):\n",
    "        # Renew a dictionary\n",
    "        moveDictionary = {}\n",
    "        \n",
    "        # Define target hold\n",
    "        order = beta.handSequence[rank] # order is the original order (int) of hold read from bottom to top\n",
    "        targetHoldHand = beta.handOperator[rank]\n",
    "        coordinateOfTarget = beta.getXYFromOrder(order) \n",
    "    \n",
    "        moveDictionary[\"TargetHoldString\"] = coordinateToString(coordinateOfTarget)\n",
    "        moveDictionary[\"TargetHoldHand\"] = targetHoldHand\n",
    "        moveDictionary[\"TargetHoldScore\"] = None   # Could you file I/O excile file L/R hand difficulty?\n",
    "        \n",
    "        # Define remaining hold\n",
    "        listBeforeTargetHold = beta.handOperator[0:rank]\n",
    "\n",
    "        remainingHoldHand = oppositehand(targetHoldHand)\n",
    "        order = int(''.join(listBeforeTargetHold).rindex(remainingHoldHand)/2) # remaining hold is the last hold with opposite hand in the sequence before Target hand\n",
    "        coordinateOfRemaining = beta.getXYFromOrder(order) \n",
    "    \n",
    "        moveDictionary[\"RemainingHoldString\"] = coordinateToString(coordinateOfRemaining)\n",
    "        moveDictionary[\"RemainingHoldHand\"] = remainingHoldHand\n",
    "        moveDictionary[\"RemainingHoldScore\"] = None\n",
    "        moveDictionary[\"dxdyRtoT\"] = (coordinateOfTarget[0] - coordinateOfRemaining[0], coordinateOfTarget[1] - coordinateOfRemaining[1])\n",
    "        \n",
    "        # Define moving hold\n",
    "        movingHoldHand = targetHoldHand\n",
    "        order = int(''.join(listBeforeTargetHold).rindex(movingHoldHand)/2) # remaining hold is the last hold with opposite hand in the sequence before Target hand\n",
    "        coordinateOfMoving = beta.getXYFromOrder(order) \n",
    "    \n",
    "        moveDictionary[\"MovingHoldString\"] = coordinateToString(coordinateOfMoving)\n",
    "        moveDictionary[\"MovingHoldHand\"] = movingHoldHand\n",
    "        moveDictionary[\"MovingHoldScore\"] = None\n",
    "        moveDictionary[\"dxdyMtoT\"] = (coordinateOfTarget[0] - coordinateOfMoving[0], coordinateOfTarget[1] - coordinateOfMoving[1])\n",
    "        \n",
    "        # Define foot region location\n",
    "        x0, y0 = int(coordinateOfRemaining[0]), int(coordinateOfRemaining[1])\n",
    "        region0 = [(x,y) for x in range(x0 - 4, x0 - 1) for y in range(y0 - 3, y0 - 1)]\n",
    "        region1 = [(x,y) for x in range(x0 - 1, x0 + 2) for y in range(y0 - 3, y0 - 1)]\n",
    "        region2 = [(x,y) for x in range(x0 + 2, x0 + 5) for y in range(y0 - 3, y0 - 1)]\n",
    "        region3 = [(x,y) for x in range(x0 - 4, x0 - 1) for y in range(y0 - 6, y0 - 3)]\n",
    "        region4 = [(x,y) for x in range(x0 - 1, x0 + 2) for y in range(y0 - 6, y0 - 3)]\n",
    "        region5 = [(x,y) for x in range(x0 + 2, x0 + 5) for y in range(y0 - 6, y0 - 3)]\n",
    "        region6 = [(x,y) for x in range(x0 - 2, x0 + 3) for y in range(y0 - 8, y0 - 6)]\n",
    "\n",
    "        # check is there foot holds in the region\n",
    "        footholdList = [0] * 7 \n",
    "        regionList = [region0, region1, region2, region3, region4, region5, region6]\n",
    "        for hold in beta.allHolds:\n",
    "            holdx, holdy = hold[6], hold[7]\n",
    "            for i in range(7):\n",
    "                if (holdx, holdy) in regionList[i]:\n",
    "                    footholdList[i] = 1 \n",
    "            # deal with additional footholds        \n",
    "            if region1[0][1] < 0: # if the lowest hold in region1 is < 0, we can use additional footholds (region's first element start from the lowest)\n",
    "                footholdList[0] = 1\n",
    "                footholdList[1] = 1\n",
    "                footholdList[2] = 1\n",
    "            elif region4[0][1] < 0: # if the lowest hold in region1 is < 0, we can use additional footholds\n",
    "                footholdList[3] = 1\n",
    "                footholdList[4] = 1\n",
    "                footholdList[5] = 1 \n",
    "            elif region6[0][1] < 0: # if the lowest hold in region1 is < 0, we can use additional footholds\n",
    "                footholdList[6] = 1\n",
    "\n",
    "        moveDictionary[\"FootPlacement\"] = footholdList  \n",
    "        outputDictionaryList.append(moveDictionary)\n",
    "    return outputDictionaryList\n"
   ]
  },
  {
   "cell_type": "code",
   "execution_count": 113,
   "metadata": {},
   "outputs": [
    {
     "ename": "SyntaxError",
     "evalue": "unmatched ')' (<ipython-input-113-64d48de608fb>, line 10)",
     "output_type": "error",
     "traceback": [
      "\u001b[0;36m  File \u001b[0;32m\"<ipython-input-113-64d48de608fb>\"\u001b[0;36m, line \u001b[0;32m10\u001b[0m\n\u001b[0;31m    print(region5[:][1] < 0))\u001b[0m\n\u001b[0m                            ^\u001b[0m\n\u001b[0;31mSyntaxError\u001b[0m\u001b[0;31m:\u001b[0m unmatched ')'\n"
     ]
    }
   ],
   "source": [
    "x0, y0 = (3,5)\n",
    "region1 = [(x,y) for x in range(x0 - 4, x0 - 1) for y in range(y0 - 3, y0 - 1)]\n",
    "region2 = [(x,y) for x in range(x0 - 1, x0 + 2) for y in range(y0 - 3, y0 - 1)]\n",
    "region3 = [(x,y) for x in range(x0 + 2, x0 + 5) for y in range(y0 - 3, y0 - 1)]\n",
    "region4 = [(x,y) for x in range(x0 - 4, x0 - 1) for y in range(y0 - 6, y0 - 3)]\n",
    "region5 = [(x,y) for x in range(x0 - 1, x0 + 2) for y in range(y0 - 6, y0 - 3)]\n",
    "region6 = [(x,y) for x in range(x0 + 2, x0 + 5) for y in range(y0 - 6, y0 - 3)]\n",
    "region7 = [(x,y) for x in range(x0 - 2, x0 + 3) for y in range(y0 - 8, y0 - 6)]\n",
    "print(region4)\n",
    "print(region5[:][1] < 0))\n",
    "print((0, -1) in region4)"
   ]
  },
  {
   "cell_type": "code",
   "execution_count": 66,
   "metadata": {},
   "outputs": [
    {
     "name": "stdout",
     "output_type": "stream",
     "text": [
      "[1, 0, 0, 0, 0, 0, 0]\n"
     ]
    }
   ],
   "source": [
    "footholdList = [0] * 7 \n",
    "footholdList[0] = 1\n",
    "print(footholdList)"
   ]
  },
  {
   "cell_type": "code",
   "execution_count": 72,
   "metadata": {},
   "outputs": [
    {
     "name": "stdout",
     "output_type": "stream",
     "text": [
      "<__main__.beta object at 0x133732580>\n"
     ]
    }
   ],
   "source": [
    "print(status[0])"
   ]
  },
  {
   "cell_type": "code",
   "execution_count": 127,
   "metadata": {},
   "outputs": [
    {
     "name": "stdout",
     "output_type": "stream",
     "text": [
      "3\n"
     ]
    }
   ],
   "source": [
    "order = int(''.join(['LH', 'RH','ff', 'RH']).rindex('RH') / 2)\n",
    "print(order)"
   ]
  },
  {
   "cell_type": "code",
   "execution_count": 138,
   "metadata": {},
   "outputs": [
    {
     "name": "stdout",
     "output_type": "stream",
     "text": [
      "{'TargetHoldString': 'A9', 'TargetHoldHand': 'LH', 'TargetHoldScore': None, 'RemainingHoldString': 'G6', 'RemainingHoldHand': 'RH', 'RemainingHoldScore': None, 'dxdyRtoT': (-6.0, 3.0), 'MovingHoldString': 'J5', 'MovingHoldHand': 'LH', 'MovingHoldScore': None, 'dxdyMtoT': (-9.0, 4.0), 'FootPlacement': [0, 0, 0, 1, 1, 1, 0]}\n",
      "{'TargetHoldString': 'F11', 'TargetHoldHand': 'RH', 'TargetHoldScore': None, 'RemainingHoldString': 'A9', 'RemainingHoldHand': 'LH', 'RemainingHoldScore': None, 'dxdyRtoT': (5.0, 2.0), 'MovingHoldString': 'G6', 'MovingHoldHand': 'RH', 'MovingHoldScore': None, 'dxdyMtoT': (-1.0, 5.0), 'FootPlacement': [0, 0, 0, 0, 0, 0, 0]}\n",
      "{'TargetHoldString': 'C13', 'TargetHoldHand': 'LH', 'TargetHoldScore': None, 'RemainingHoldString': 'H10', 'RemainingHoldHand': 'RH', 'RemainingHoldScore': None, 'dxdyRtoT': (-5.0, 3.0), 'MovingHoldString': 'A9', 'MovingHoldHand': 'LH', 'MovingHoldScore': None, 'dxdyMtoT': (2.0, 4.0), 'FootPlacement': [0, 0, 0, 0, 1, 1, 0]}\n",
      "{'TargetHoldString': 'A14', 'TargetHoldHand': 'LH', 'TargetHoldScore': None, 'RemainingHoldString': 'H10', 'RemainingHoldHand': 'RH', 'RemainingHoldScore': None, 'dxdyRtoT': (-7.0, 4.0), 'MovingHoldString': 'F11', 'MovingHoldHand': 'LH', 'MovingHoldScore': None, 'dxdyMtoT': (-5.0, 3.0), 'FootPlacement': [0, 0, 0, 0, 1, 1, 0]}\n",
      "{'TargetHoldString': 'D18', 'TargetHoldHand': 'RH', 'TargetHoldScore': None, 'RemainingHoldString': 'C13', 'RemainingHoldHand': 'LH', 'RemainingHoldScore': None, 'dxdyRtoT': (1.0, 5.0), 'MovingHoldString': 'H10', 'MovingHoldHand': 'RH', 'MovingHoldScore': None, 'dxdyMtoT': (-4.0, 8.0), 'FootPlacement': [0, 0, 1, 1, 0, 0, 0]}\n"
     ]
    }
   ],
   "source": [
    "for i in range(5):\n",
    "    print(moveGenerator(status[0])[i])"
   ]
  },
  {
   "cell_type": "code",
   "execution_count": null,
   "metadata": {},
   "outputs": [],
   "source": []
  }
 ],
 "metadata": {
  "kernelspec": {
   "display_name": "Python 3",
   "language": "python",
   "name": "python3"
  },
  "language_info": {
   "codemirror_mode": {
    "name": "ipython",
    "version": 3
   },
   "file_extension": ".py",
   "mimetype": "text/x-python",
   "name": "python",
   "nbconvert_exporter": "python",
   "pygments_lexer": "ipython3",
   "version": "3.7.4"
  }
 },
 "nbformat": 4,
 "nbformat_minor": 4
}
