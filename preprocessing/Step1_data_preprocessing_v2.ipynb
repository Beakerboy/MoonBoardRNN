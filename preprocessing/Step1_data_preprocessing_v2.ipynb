{
 "cells": [
  {
   "cell_type": "code",
   "execution_count": 2,
   "metadata": {},
   "outputs": [],
   "source": [
    "import numpy as np\n",
    "import pandas as pd\n",
    "import pickle\n",
    "import preprocessing_helper as helper\n",
    "\n",
    "from pathlib import Path\n",
    "import constants\n",
    "import json \n",
    "from genson import SchemaBuilder"
   ]
  },
  {
   "cell_type": "code",
   "execution_count": null,
   "metadata": {},
   "outputs": [],
   "source": [
    "# TODO: I believe this notebook is not used as broken"
   ]
  },
  {
   "cell_type": "markdown",
   "metadata": {},
   "source": [
    "### 1. Get directories related information and load in MoonBoard 2016 data"
   ]
  },
  {
   "cell_type": "markdown",
   "metadata": {},
   "source": [
    "Load the sccraped data"
   ]
  },
  {
   "cell_type": "code",
   "execution_count": 3,
   "metadata": {},
   "outputs": [],
   "source": [
    "with open(constants.SCRAPE_DATA_PATH, 'rb') as f:\n",
    "    MoonBoard_2016_raw = pickle.load(f)"
   ]
  },
  {
   "cell_type": "markdown",
   "metadata": {},
   "source": [
    "Dump the scraped data to JSON"
   ]
  },
  {
   "cell_type": "code",
   "execution_count": 4,
   "metadata": {},
   "outputs": [],
   "source": [
    "def dump_to_json():\n",
    "  with open(constants.DATA_DIR / 'MoonBoard_2016_raw.json', 'w') as f:\n",
    "    json.dump(MoonBoard_2016_raw, f)\n",
    "\n",
    "# dump_to_json()"
   ]
  },
  {
   "cell_type": "code",
   "execution_count": 16,
   "metadata": {},
   "outputs": [
    {
     "data": {
      "text/plain": [
       "[{'problem_name': 'TALL POPPY',\n",
       "  'info': ['halladay',\n",
       "   'Be the first to repeat this problem',\n",
       "   '6C+',\n",
       "   'Feet follow hands',\n",
       "   ''],\n",
       "  'url': 'https://moonboard.com/Problems/View/367894/tall-poppy',\n",
       "  'num_empty': 3,\n",
       "  'num_stars': 0,\n",
       "  'moves': [{'Id': 2119224,\n",
       "    'Description': 'F5',\n",
       "    'IsStart': True,\n",
       "    'IsEnd': False},\n",
       "   {'Id': 2119225, 'Description': 'G2', 'IsStart': True, 'IsEnd': False},\n",
       "   {'Id': 2119226, 'Description': 'H10', 'IsStart': False, 'IsEnd': False},\n",
       "   {'Id': 2119227, 'Description': 'B11', 'IsStart': False, 'IsEnd': False},\n",
       "   {'Id': 2119228, 'Description': 'E15', 'IsStart': False, 'IsEnd': False},\n",
       "   {'Id': 2119229, 'Description': 'D18', 'IsStart': False, 'IsEnd': True},\n",
       "   {'Id': 2119230, 'Description': 'E8', 'IsStart': False, 'IsEnd': False}],\n",
       "  'grade': '6C+',\n",
       "  'UserGrade': None,\n",
       "  'isBenchmark': False,\n",
       "  'repeats': 0,\n",
       "  'ProblemType': None,\n",
       "  'IsMaster': False,\n",
       "  'setter': {'Id': '93A38FE2-1B2B-4B0F-9B70-9A77BAE976B8',\n",
       "   'Nickname': 'halladay',\n",
       "   'Firstname': 'Jason',\n",
       "   'Lastname': 'Halladay',\n",
       "   'City': 'Los Alamos',\n",
       "   'Country': 'United States',\n",
       "   'ProfileImageUrl': '/Content/Account/Users/Profile/93A38FE2-1B2B-4B0F-9B70-9A77BAE976B8.gif?637231996892206329',\n",
       "   'CanShareData': True}}]"
      ]
     },
     "execution_count": 16,
     "metadata": {},
     "output_type": "execute_result"
    }
   ],
   "source": [
    "# get first 5 values of MoonBoard_2016_raw\n",
    "list(MoonBoard_2016_raw.values())[:1]"
   ]
  },
  {
   "cell_type": "markdown",
   "metadata": {},
   "source": [
    "Generate the schema for the scraped data"
   ]
  },
  {
   "cell_type": "code",
   "execution_count": 6,
   "metadata": {},
   "outputs": [],
   "source": [
    "def generate_schema():\n",
    "  builder = SchemaBuilder()\n",
    "  builder.add_object(list(MoonBoard_2016_raw.values()))\n",
    "  builder.to_schema()\n",
    "\n",
    "  with open(constants.DATA_DIR / 'MoonBoard_2016_raw_schema.json', 'w') as f:\n",
    "    json.dump(builder.to_schema(), f)\n",
    "  \n",
    "# generate_schema()"
   ]
  },
  {
   "cell_type": "markdown",
   "metadata": {},
   "source": [
    "Loads hold difficulties for MoonBoard from excel sheet?\n",
    "\n",
    "The hold difficulties appear to be defined by a vector of 6 different difficulties. Each element defines the difficulty for?"
   ]
  },
  {
   "cell_type": "code",
   "execution_count": 8,
   "metadata": {},
   "outputs": [],
   "source": [
    "features = pd.read_excel(constants.HOLD_FEATURES_PATH, dtype=str)\n",
    "\n",
    "# convert features from pd dataframe to dictionary\n",
    "feature_dict = {}\n",
    "for index in features.index:\n",
    "    feature_item = features.loc[index]\n",
    "    feature_dict[(int(feature_item['X_coord']), int(feature_item['Y_coord']))] = np.array(\n",
    "        list(feature_item['Difficulties'])).astype(int)"
   ]
  },
  {
   "cell_type": "code",
   "execution_count": 14,
   "metadata": {},
   "outputs": [
    {
     "data": {
      "text/plain": [
       "[((0, 17), array([0, 3, 4, 7, 3, 0])),\n",
       " ((0, 15), array([1, 4, 2, 2, 1, 0])),\n",
       " ((0, 14), array([0, 1, 3, 1, 0, 0])),\n",
       " ((0, 13), array([2, 6, 2, 0, 0, 0])),\n",
       " ((0, 12), array([0, 1, 2, 1, 0, 1]))]"
      ]
     },
     "execution_count": 14,
     "metadata": {},
     "output_type": "execute_result"
    }
   ],
   "source": [
    "# TODO: what to the individual difficulties mean?? Consider copilot suggestions or see where used\n",
    "list(feature_dict.items())[:5]"
   ]
  },
  {
   "cell_type": "markdown",
   "metadata": {},
   "source": [
    "### 2. Separate data into different categories:\n",
    "- no user ratings\n",
    "- benchmarked with user ratings\n",
    "- non-benchmarked with user ratings"
   ]
  },
  {
   "cell_type": "code",
   "execution_count": 10,
   "metadata": {},
   "outputs": [
    {
     "data": {
      "text/plain": [
       "{'6B': 0,\n",
       " '6B+': 0,\n",
       " '6C': 1,\n",
       " '6C+': 1,\n",
       " '7A': 2,\n",
       " '7A+': 3,\n",
       " '7B': 4,\n",
       " '7B+': 4,\n",
       " '7C': 5,\n",
       " '7C+': 6,\n",
       " '8A': 7,\n",
       " '8A+': 8,\n",
       " '8B': 9}"
      ]
     },
     "execution_count": 10,
     "metadata": {},
     "output_type": "execute_result"
    }
   ],
   "source": [
    "grade_map = helper.get_grade_map()\n",
    "grade_map"
   ]
  },
  {
   "attachments": {},
   "cell_type": "markdown",
   "metadata": {},
   "source": [
    "Processing the raw data is currently broken, as it appears the scraped data has changed since this was written.\n",
    "Particularly the json for each route has changed.\n",
    "\n",
    "Originally:\n",
    "- 'start'/'mid'/'end' contained respective holds for the problem\n",
    "- each hold is (x,y) coordinate\n",
    "\n",
    "Current scraped data:\n",
    "- ```\n",
    "  'moves': [\n",
    "    {'Id': 2119224, 'Description': 'F5', 'IsStart': True, 'IsEnd': False},\n",
    "    {'Id': 2119225, 'Description': 'G2', 'IsStart': True, 'IsEnd': False},\n",
    "    {'Id': 2119226, 'Description': 'H10', 'IsStart': False, 'IsEnd': False},\n",
    "    {'Id': 2119227, 'Description': 'B11', 'IsStart': False, 'IsEnd': False},\n",
    "    {'Id': 2119228, 'Description': 'E15', 'IsStart': False, 'IsEnd': False},\n",
    "    {'Id': 2119229, 'Description': 'D18', 'IsStart': False, 'IsEnd': True},\n",
    "    {'Id': 2119230, 'Description': 'E8', 'IsStart': False, 'IsEnd': False}\n",
    "  ],\n",
    "  ```"
   ]
  },
  {
   "cell_type": "code",
   "execution_count": 32,
   "metadata": {},
   "outputs": [
    {
     "name": "stdout",
     "output_type": "stream",
     "text": [
      "Raw data with key 367894 contains error\n"
     ]
    },
    {
     "ename": "KeyError",
     "evalue": "'start'",
     "output_type": "error",
     "traceback": [
      "\u001b[1;31m---------------------------------------------------------------------------\u001b[0m",
      "\u001b[1;31mKeyError\u001b[0m                                  Traceback (most recent call last)",
      "Cell \u001b[1;32mIn[32], line 3\u001b[0m\n\u001b[0;32m      1\u001b[0m save_path \u001b[39m=\u001b[39m constants\u001b[39m.\u001b[39mPREPROCESSING_DIR \u001b[39m/\u001b[39m \u001b[39m'\u001b[39m\u001b[39mprocessed_data_xy_mode\u001b[39m\u001b[39m'\u001b[39m\n\u001b[0;32m      2\u001b[0m \u001b[39m# TODO: fix see above\u001b[39;00m\n\u001b[1;32m----> 3\u001b[0m output_xy_mode \u001b[39m=\u001b[39m helper\u001b[39m.\u001b[39;49mclassify_and_reorganize_data(MoonBoard_2016_raw, save_path, delta_xy_mode \u001b[39m=\u001b[39;49m \u001b[39mFalse\u001b[39;49;00m)\n",
      "File \u001b[1;32mc:\\Users\\valsp\\source\\repos\\MoonBoardRNN\\preprocessing\\preprocessing_helper.py:147\u001b[0m, in \u001b[0;36mclassify_and_reorganize_data\u001b[1;34m(raw_data, save_path, delta_xy_mode, print_result)\u001b[0m\n\u001b[0;32m    143\u001b[0m \u001b[39mfor\u001b[39;00m key, item \u001b[39min\u001b[39;00m raw_data\u001b[39m.\u001b[39mitems():\n\u001b[0;32m    144\u001b[0m     \u001b[39m# create x_vector for a route\u001b[39;00m\n\u001b[0;32m    145\u001b[0m     \u001b[39mtry\u001b[39;00m:\n\u001b[0;32m    146\u001b[0m         \u001b[39m# TODO: cant find them in the JSON? start/mid/end holds?\u001b[39;00m\n\u001b[1;32m--> 147\u001b[0m         n_start \u001b[39m=\u001b[39m \u001b[39mlen\u001b[39m(item[\u001b[39m'\u001b[39;49m\u001b[39mstart\u001b[39;49m\u001b[39m'\u001b[39;49m])\n\u001b[0;32m    148\u001b[0m         n_mid \u001b[39m=\u001b[39m \u001b[39mlen\u001b[39m(item[\u001b[39m'\u001b[39m\u001b[39mmid\u001b[39m\u001b[39m'\u001b[39m])\n\u001b[0;32m    149\u001b[0m         n_end \u001b[39m=\u001b[39m \u001b[39mlen\u001b[39m(item[\u001b[39m'\u001b[39m\u001b[39mend\u001b[39m\u001b[39m'\u001b[39m])\n",
      "\u001b[1;31mKeyError\u001b[0m: 'start'"
     ]
    }
   ],
   "source": [
    "save_path = constants.PREPROCESSING_DIR / 'processed_data_xy_mode'\n",
    "# TODO: fix see above\n",
    "output_xy_mode = helper.classify_and_reorganize_data(MoonBoard_2016_raw, save_path, delta_xy_mode = False)"
   ]
  },
  {
   "cell_type": "markdown",
   "metadata": {},
   "source": [
    "### 3. Data Preprocessing with BetaMove"
   ]
  },
  {
   "attachments": {},
   "cell_type": "markdown",
   "metadata": {},
   "source": [
    "Load the the data split into dicts:\n",
    "- `X_dict_benchmark_withgrade`\n",
    "- `Y_dict_benchmark_withgrade`\n",
    "- `X_dict_benchmark_nograde`\n",
    "- `Y_dict_benchmark_nograde`\n",
    "- `X_dict_withgrade`\n",
    "- `Y_dict_withgrade`\n",
    "- `X_dict_nograde`\n",
    "- `Y_dict_nograde`\n",
    "\n",
    "Where each X item is (problem_id, 10xn array) where n is the number of holds in the problem. Each **column** vector contain:\n",
    "- 0: `feature_dict[x,y][0]` 0-9\n",
    "- 1: `feature_dict[x,y][1]` 0-9\n",
    "- 2: `feature_dict[x,y][2]` 0-9\n",
    "- 3: `feature_dict[x,y][3]` 0-9\n",
    "- 4: `feature_dict[x,y][4]` 0-9\n",
    "- 5: `feature_dict[x,y][5]` 0-9\n",
    "- 6: `x` 0-10\n",
    "- 7: `y` 0-17\n",
    "- 8: `is_start` 0/1\n",
    "- 9: `is_end` 0/1\n",
    "\n",
    "Y items (problem_id, 3x1 array). Each **column** vector contain:\n",
    "- 0: `grade` 0-9\n",
    "- 1: `is_benchmarked` 0/1\n",
    "- 2: `user_grade` (only if dict is `withgrade`) 0/1"
   ]
  },
  {
   "cell_type": "code",
   "execution_count": 19,
   "metadata": {},
   "outputs": [],
   "source": [
    "# load the data meant to be generated by the previous step\n",
    "raw_data_forseq_path = constants.PREPROCESSING_DIR / 'processed_data_xy_mode'\n",
    "with open(raw_data_forseq_path, 'rb') as f:\n",
    "    MoonBoard_2016_raw_forseq = pickle.load(f)"
   ]
  },
  {
   "cell_type": "code",
   "execution_count": 20,
   "metadata": {},
   "outputs": [
    {
     "data": {
      "text/plain": [
       "array([[ 0.,  2.,  0.,  1.,  2.,  3.],\n",
       "       [ 2.,  5.,  1.,  5.,  3.,  7.],\n",
       "       [ 5.,  2.,  4.,  3.,  4.,  5.],\n",
       "       [ 2.,  0.,  1.,  1.,  2.,  2.],\n",
       "       [ 0.,  0.,  0.,  0.,  1.,  0.],\n",
       "       [ 0.,  0.,  0.,  0.,  0.,  0.],\n",
       "       [10.,  5.,  8.,  5.,  3.,  1.],\n",
       "       [ 4.,  6., 10., 13., 16., 17.],\n",
       "       [ 1.,  0.,  0.,  0.,  0.,  0.],\n",
       "       [ 0.,  0.,  0.,  0.,  0.,  1.]])"
      ]
     },
     "execution_count": 20,
     "metadata": {},
     "output_type": "execute_result"
    }
   ],
   "source": [
    "# this is a single problem x, each column of matrix is a hold as described above\n",
    "MoonBoard_2016_raw_forseq['X_dict_benchmark_withgrade'][next(iter(MoonBoard_2016_raw_forseq['X_dict_benchmark_withgrade']))]"
   ]
  },
  {
   "cell_type": "code",
   "execution_count": 21,
   "metadata": {},
   "outputs": [
    {
     "data": {
      "text/plain": [
       "array([[5],\n",
       "       [1],\n",
       "       [5]], dtype=int64)"
      ]
     },
     "execution_count": 21,
     "metadata": {},
     "output_type": "execute_result"
    }
   ],
   "source": [
    "# this is a single problem y, as described above\n",
    "MoonBoard_2016_raw_forseq['Y_dict_benchmark_withgrade'][next(iter(MoonBoard_2016_raw_forseq['Y_dict_benchmark_withgrade']))]"
   ]
  },
  {
   "cell_type": "markdown",
   "metadata": {},
   "source": [
    "Merge problem dicts"
   ]
  },
  {
   "cell_type": "code",
   "execution_count": 23,
   "metadata": {},
   "outputs": [],
   "source": [
    "X_dict_merge = {**MoonBoard_2016_raw_forseq['X_dict_benchmark_withgrade'], \n",
    "                **MoonBoard_2016_raw_forseq['X_dict_benchmark_nograde'], \n",
    "                **MoonBoard_2016_raw_forseq['X_dict_withgrade'], \n",
    "                **MoonBoard_2016_raw_forseq['X_dict_nograde']}\n",
    "Y_dict_merge = {**MoonBoard_2016_raw_forseq['Y_dict_benchmark_withgrade'], \n",
    "                **MoonBoard_2016_raw_forseq['Y_dict_benchmark_nograde'], \n",
    "                **MoonBoard_2016_raw_forseq['Y_dict_withgrade'], \n",
    "                **MoonBoard_2016_raw_forseq['Y_dict_nograde']}"
   ]
  },
  {
   "cell_type": "markdown",
   "metadata": {},
   "source": [
    "Use Beamer search to calculate theoretically best route (sequence of LH/RH moves) for each problem"
   ]
  },
  {
   "cell_type": "code",
   "execution_count": 33,
   "metadata": {
    "scrolled": true
   },
   "outputs": [
    {
     "name": "stdout",
     "output_type": "stream",
     "text": [
      "data with key 337509 contains error\n"
     ]
    },
    {
     "ename": "AttributeError",
     "evalue": "'beta' object has no attribute 'successScoreSequence'",
     "output_type": "error",
     "traceback": [
      "\u001b[1;31m---------------------------------------------------------------------------\u001b[0m",
      "\u001b[1;31mAttributeError\u001b[0m                            Traceback (most recent call last)",
      "Cell \u001b[1;32mIn[33], line 3\u001b[0m\n\u001b[0;32m      1\u001b[0m save_path_seq \u001b[39m=\u001b[39m constants\u001b[39m.\u001b[39mPREPROCESSING_DIR \u001b[39m/\u001b[39m \u001b[39m'\u001b[39m\u001b[39mprocessed_data_seq\u001b[39m\u001b[39m'\u001b[39m\n\u001b[0;32m      2\u001b[0m \u001b[39m# TODO: currently broken, sequence data no longer contains successScoreSequence?\u001b[39;00m\n\u001b[1;32m----> 3\u001b[0m output_seq \u001b[39m=\u001b[39m helper\u001b[39m.\u001b[39;49mgenerate_organized_sequence_data(raw_data \u001b[39m=\u001b[39;49m X_dict_merge, save_path \u001b[39m=\u001b[39;49m save_path_seq)\n",
      "File \u001b[1;32mc:\\Users\\valsp\\source\\repos\\MoonBoardRNN\\preprocessing\\preprocessing_helper.py:254\u001b[0m, in \u001b[0;36mgenerate_organized_sequence_data\u001b[1;34m(raw_data, save_path)\u001b[0m\n\u001b[0;32m    249\u001b[0m \u001b[39mtry\u001b[39;00m:\n\u001b[0;32m    250\u001b[0m     output \u001b[39m=\u001b[39m produce_sequence(keyNum \u001b[39m=\u001b[39m key, X_dict \u001b[39m=\u001b[39m raw_data, n_return \u001b[39m=\u001b[39m \u001b[39m1\u001b[39m)\n\u001b[0;32m    251\u001b[0m     result \u001b[39m=\u001b[39m np\u001b[39m.\u001b[39mvstack([\n\u001b[0;32m    252\u001b[0m         raw_data[key][\u001b[39m6\u001b[39m:\u001b[39m8\u001b[39m, output[\u001b[39m0\u001b[39m]\u001b[39m.\u001b[39mhandSequence], \n\u001b[0;32m    253\u001b[0m         (np\u001b[39m.\u001b[39marray(output[\u001b[39m0\u001b[39m]\u001b[39m.\u001b[39mhandOperator) \u001b[39m==\u001b[39m \u001b[39m'\u001b[39m\u001b[39mLH\u001b[39m\u001b[39m'\u001b[39m)\u001b[39m*\u001b[39m(\u001b[39m-\u001b[39m\u001b[39m1\u001b[39m) \u001b[39m+\u001b[39m (np\u001b[39m.\u001b[39marray(output[\u001b[39m0\u001b[39m]\u001b[39m.\u001b[39mhandOperator) \u001b[39m==\u001b[39m \u001b[39m'\u001b[39m\u001b[39mRH\u001b[39m\u001b[39m'\u001b[39m)\u001b[39m*\u001b[39m\u001b[39m1\u001b[39m, \n\u001b[1;32m--> 254\u001b[0m         output[\u001b[39m0\u001b[39;49m]\u001b[39m.\u001b[39;49msuccessScoreSequence])\n\u001b[0;32m    255\u001b[0m     X_dict_seq[key] \u001b[39m=\u001b[39m result\n\u001b[0;32m    256\u001b[0m \u001b[39mexcept\u001b[39;00m:\n",
      "\u001b[1;31mAttributeError\u001b[0m: 'beta' object has no attribute 'successScoreSequence'"
     ]
    }
   ],
   "source": [
    "save_path_seq = constants.PREPROCESSING_DIR / 'processed_data_seq'\n",
    "# TODO: currently broken, sequence data no longer contains successScoreSequence?\n",
    "output_seq = helper.generate_organized_sequence_data(raw_data = X_dict_merge, save_path = save_path_seq)"
   ]
  },
  {
   "cell_type": "code",
   "execution_count": 27,
   "metadata": {},
   "outputs": [],
   "source": [
    "sequence = helper.load_pickle(save_path_seq)"
   ]
  },
  {
   "attachments": {},
   "cell_type": "markdown",
   "metadata": {},
   "source": [
    "Move sequence data is of shape `4 x num_moves`:\n",
    "- x (start of move or end?)\n",
    "- y\n",
    "- -1/1 for LH/RH\n",
    "- sequence success score"
   ]
  },
  {
   "cell_type": "code",
   "execution_count": 29,
   "metadata": {},
   "outputs": [
    {
     "data": {
      "text/plain": [
       "array([[10.        , 10.        ,  5.        ,  8.        ,  5.        ,\n",
       "         3.        ,  1.        ],\n",
       "       [ 4.        ,  4.        ,  6.        , 10.        , 13.        ,\n",
       "        16.        , 17.        ],\n",
       "       [-1.        ,  1.        , -1.        ,  1.        , -1.        ,\n",
       "         1.        , -1.        ],\n",
       "       [13.96661017,  3.77127226,  3.46223915,  4.29652958,  1.02261563,\n",
       "         9.826095  , 40.8232162 ]])"
      ]
     },
     "execution_count": 29,
     "metadata": {},
     "output_type": "execute_result"
    }
   ],
   "source": [
    "# TODO: does move (x,y) correspond to start or end of move?\n",
    "sequence['X_dict_seq'][next(iter(sequence['X_dict_seq']))]"
   ]
  }
 ],
 "metadata": {
  "kernelspec": {
   "display_name": "moonboardrnn-hW4ed92X-py3.8",
   "language": "python",
   "name": "python3"
  },
  "language_info": {
   "codemirror_mode": {
    "name": "ipython",
    "version": 3
   },
   "file_extension": ".py",
   "mimetype": "text/x-python",
   "name": "python",
   "nbconvert_exporter": "python",
   "pygments_lexer": "ipython3",
   "version": "3.8.10"
  },
  "vscode": {
   "interpreter": {
    "hash": "8d257aaba97b534713eafa91609455863fac8d9daac4f63bd3ddeb8aecd89a62"
   }
  }
 },
 "nbformat": 4,
 "nbformat_minor": 4
}
