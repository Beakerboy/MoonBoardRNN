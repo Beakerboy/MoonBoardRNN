{
 "cells": [
  {
   "cell_type": "code",
   "execution_count": 20,
   "metadata": {},
   "outputs": [],
   "source": [
    "import numpy as np\n",
    "import pandas as pd\n",
    "import pickle\n",
    "import preprocessing_helper as helper\n",
    "\n",
    "from pathlib import Path\n",
    "import constants\n",
    "import json \n",
    "from genson import SchemaBuilder"
   ]
  },
  {
   "cell_type": "markdown",
   "metadata": {},
   "source": [
    "### 1. Get directories related information and load in MoonBoard 2016 data"
   ]
  },
  {
   "cell_type": "markdown",
   "metadata": {},
   "source": [
    "Load the sccraped data"
   ]
  },
  {
   "cell_type": "code",
   "execution_count": 4,
   "metadata": {},
   "outputs": [],
   "source": [
    "with open(constants.SCRAPE_DATA_PATH, 'rb') as f:\n",
    "    MoonBoard_2016_raw = pickle.load(f)"
   ]
  },
  {
   "cell_type": "markdown",
   "metadata": {},
   "source": [
    "Dump the scraped data to JSON"
   ]
  },
  {
   "cell_type": "code",
   "execution_count": 5,
   "metadata": {},
   "outputs": [],
   "source": [
    "def dump_to_json():\n",
    "  with open(constants.DATA_DIR / 'MoonBoard_2016_raw.json', 'w') as f:\n",
    "    json.dump(MoonBoard_2016_raw, f)\n",
    "\n",
    "# dump_to_json()"
   ]
  },
  {
   "cell_type": "code",
   "execution_count": 6,
   "metadata": {},
   "outputs": [
    {
     "data": {
      "text/plain": [
       "[{'problem_name': 'TALL POPPY',\n",
       "  'info': ['halladay',\n",
       "   'Be the first to repeat this problem',\n",
       "   '6C+',\n",
       "   'Feet follow hands',\n",
       "   ''],\n",
       "  'url': 'https://moonboard.com/Problems/View/367894/tall-poppy',\n",
       "  'num_empty': 3,\n",
       "  'num_stars': 0,\n",
       "  'moves': [{'Id': 2119224,\n",
       "    'Description': 'F5',\n",
       "    'IsStart': True,\n",
       "    'IsEnd': False},\n",
       "   {'Id': 2119225, 'Description': 'G2', 'IsStart': True, 'IsEnd': False},\n",
       "   {'Id': 2119226, 'Description': 'H10', 'IsStart': False, 'IsEnd': False},\n",
       "   {'Id': 2119227, 'Description': 'B11', 'IsStart': False, 'IsEnd': False},\n",
       "   {'Id': 2119228, 'Description': 'E15', 'IsStart': False, 'IsEnd': False},\n",
       "   {'Id': 2119229, 'Description': 'D18', 'IsStart': False, 'IsEnd': True},\n",
       "   {'Id': 2119230, 'Description': 'E8', 'IsStart': False, 'IsEnd': False}],\n",
       "  'grade': '6C+',\n",
       "  'UserGrade': None,\n",
       "  'isBenchmark': False,\n",
       "  'repeats': 0,\n",
       "  'ProblemType': None,\n",
       "  'IsMaster': False,\n",
       "  'setter': {'Id': '93A38FE2-1B2B-4B0F-9B70-9A77BAE976B8',\n",
       "   'Nickname': 'halladay',\n",
       "   'Firstname': 'Jason',\n",
       "   'Lastname': 'Halladay',\n",
       "   'City': 'Los Alamos',\n",
       "   'Country': 'United States',\n",
       "   'ProfileImageUrl': '/Content/Account/Users/Profile/93A38FE2-1B2B-4B0F-9B70-9A77BAE976B8.gif?637231996892206329',\n",
       "   'CanShareData': True}},\n",
       " {'problem_name': 'CATS ARE FURRY CHILDREN',\n",
       "  'info': ['greg orlov',\n",
       "   '1 climber has repeated this problem',\n",
       "   '6C',\n",
       "   'Feet follow hands',\n",
       "   ''],\n",
       "  'url': 'https://moonboard.com/Problems/View/367892/cats-are-furry-children',\n",
       "  'num_empty': 1,\n",
       "  'num_stars': 2,\n",
       "  'moves': [{'Id': 2119212,\n",
       "    'Description': 'A5',\n",
       "    'IsStart': True,\n",
       "    'IsEnd': False},\n",
       "   {'Id': 2119213, 'Description': 'D6', 'IsStart': True, 'IsEnd': False},\n",
       "   {'Id': 2119214, 'Description': 'E9', 'IsStart': False, 'IsEnd': False},\n",
       "   {'Id': 2119215, 'Description': 'A9', 'IsStart': False, 'IsEnd': False},\n",
       "   {'Id': 2119216, 'Description': 'C13', 'IsStart': False, 'IsEnd': False},\n",
       "   {'Id': 2119217, 'Description': 'D15', 'IsStart': False, 'IsEnd': False},\n",
       "   {'Id': 2119218, 'Description': 'A18', 'IsStart': False, 'IsEnd': True}],\n",
       "  'grade': '6C',\n",
       "  'UserGrade': None,\n",
       "  'isBenchmark': False,\n",
       "  'repeats': 1,\n",
       "  'ProblemType': None,\n",
       "  'IsMaster': False,\n",
       "  'setter': {'Id': '711F5068-4D73-451C-B228-8113EDFFC8DA',\n",
       "   'Nickname': 'greg orlov',\n",
       "   'Firstname': 'greg',\n",
       "   'Lastname': 'orlov',\n",
       "   'City': 'seattle',\n",
       "   'Country': 'USA',\n",
       "   'ProfileImageUrl': '/Content/Account/Images/default-profile.png?637231996870800140',\n",
       "   'CanShareData': True}},\n",
       " {'problem_name': 'LIFE IS SUFFERING',\n",
       "  'info': ['micklevin',\n",
       "   'Be the first to repeat this problem',\n",
       "   '6C',\n",
       "   'Feet follow hands',\n",
       "   ''],\n",
       "  'url': 'https://moonboard.com/Problems/View/367889/life-is-suffering',\n",
       "  'num_empty': 3,\n",
       "  'num_stars': 0,\n",
       "  'moves': [{'Id': 2119192,\n",
       "    'Description': 'G4',\n",
       "    'IsStart': True,\n",
       "    'IsEnd': False},\n",
       "   {'Id': 2119193, 'Description': 'H8', 'IsStart': False, 'IsEnd': False},\n",
       "   {'Id': 2119194, 'Description': 'G10', 'IsStart': False, 'IsEnd': False},\n",
       "   {'Id': 2119195, 'Description': 'K12', 'IsStart': False, 'IsEnd': False},\n",
       "   {'Id': 2119196, 'Description': 'G15', 'IsStart': False, 'IsEnd': False},\n",
       "   {'Id': 2119197, 'Description': 'K18', 'IsStart': False, 'IsEnd': True}],\n",
       "  'grade': '6C',\n",
       "  'UserGrade': None,\n",
       "  'isBenchmark': False,\n",
       "  'repeats': 0,\n",
       "  'ProblemType': None,\n",
       "  'IsMaster': False,\n",
       "  'setter': {'Id': '05f91964-f58c-4a49-af50-abec02f71300',\n",
       "   'Nickname': 'micklevin',\n",
       "   'Firstname': 'Mick',\n",
       "   'Lastname': 'Levin',\n",
       "   'City': 'Halifax',\n",
       "   'Country': 'Canada',\n",
       "   'ProfileImageUrl': '/Content/Account/Users/Profile/05f91964-f58c-4a49-af50-abec02f71300.jpg?637231996850487695',\n",
       "   'CanShareData': True}},\n",
       " {'problem_name': 'GULAG',\n",
       "  'info': ['micklevin',\n",
       "   '1 climber has repeated this problem',\n",
       "   '7A',\n",
       "   'Feet follow hands',\n",
       "   ''],\n",
       "  'url': 'https://moonboard.com/Problems/View/367885/gulag',\n",
       "  'num_empty': 1,\n",
       "  'num_stars': 2,\n",
       "  'moves': [{'Id': 2119166,\n",
       "    'Description': 'A5',\n",
       "    'IsStart': True,\n",
       "    'IsEnd': False},\n",
       "   {'Id': 2119167, 'Description': 'B8', 'IsStart': False, 'IsEnd': False},\n",
       "   {'Id': 2119168, 'Description': 'D12', 'IsStart': False, 'IsEnd': False},\n",
       "   {'Id': 2119169, 'Description': 'F14', 'IsStart': False, 'IsEnd': False},\n",
       "   {'Id': 2119170, 'Description': 'I18', 'IsStart': False, 'IsEnd': True}],\n",
       "  'grade': '7A',\n",
       "  'UserGrade': None,\n",
       "  'isBenchmark': False,\n",
       "  'repeats': 1,\n",
       "  'ProblemType': None,\n",
       "  'IsMaster': False,\n",
       "  'setter': {'Id': '05f91964-f58c-4a49-af50-abec02f71300',\n",
       "   'Nickname': 'micklevin',\n",
       "   'Firstname': 'Mick',\n",
       "   'Lastname': 'Levin',\n",
       "   'City': 'Halifax',\n",
       "   'Country': 'Canada',\n",
       "   'ProfileImageUrl': '/Content/Account/Users/Profile/05f91964-f58c-4a49-af50-abec02f71300.jpg?637231996827206508',\n",
       "   'CanShareData': True}},\n",
       " {'problem_name': 'SMASHING TASHA - 6B',\n",
       "  'info': ['Dawn Brown',\n",
       "   'Be the first to repeat this problem',\n",
       "   '6B+',\n",
       "   'Feet follow hands',\n",
       "   ''],\n",
       "  'url': 'https://moonboard.com/Problems/View/367880/smashing-tasha-6b',\n",
       "  'num_empty': 3,\n",
       "  'num_stars': 0,\n",
       "  'moves': [{'Id': 2119131,\n",
       "    'Description': 'F5',\n",
       "    'IsStart': True,\n",
       "    'IsEnd': False},\n",
       "   {'Id': 2119132, 'Description': 'H8', 'IsStart': False, 'IsEnd': False},\n",
       "   {'Id': 2119133, 'Description': 'H10', 'IsStart': False, 'IsEnd': False},\n",
       "   {'Id': 2119134, 'Description': 'H13', 'IsStart': False, 'IsEnd': False},\n",
       "   {'Id': 2119135, 'Description': 'E15', 'IsStart': False, 'IsEnd': False},\n",
       "   {'Id': 2119136, 'Description': 'G18', 'IsStart': False, 'IsEnd': True},\n",
       "   {'Id': 2119137, 'Description': 'I4', 'IsStart': True, 'IsEnd': False}],\n",
       "  'grade': '6B+',\n",
       "  'UserGrade': None,\n",
       "  'isBenchmark': False,\n",
       "  'repeats': 1,\n",
       "  'ProblemType': None,\n",
       "  'IsMaster': False,\n",
       "  'setter': {'Id': '6e042086-23d3-4273-99ff-03728a652da2',\n",
       "   'Nickname': 'Dawn Brown',\n",
       "   'Firstname': 'Dawn',\n",
       "   'Lastname': 'Brown',\n",
       "   'City': 'Doncaster',\n",
       "   'Country': 'United Kingdom',\n",
       "   'ProfileImageUrl': '/Content/Account/Users/Profile/6e042086-23d3-4273-99ff-03728a652da2.jpg?637231996805487819',\n",
       "   'CanShareData': True}}]"
      ]
     },
     "execution_count": 6,
     "metadata": {},
     "output_type": "execute_result"
    }
   ],
   "source": [
    "# get first 5 values of MoonBoard_2016_raw\n",
    "list(MoonBoard_2016_raw.values())[:5]"
   ]
  },
  {
   "cell_type": "markdown",
   "metadata": {},
   "source": [
    "Generate the schema for the scraped data"
   ]
  },
  {
   "cell_type": "code",
   "execution_count": 7,
   "metadata": {},
   "outputs": [],
   "source": [
    "def generate_schema():\n",
    "  builder = SchemaBuilder()\n",
    "  builder.add_object(list(MoonBoard_2016_raw.values()))\n",
    "  builder.to_schema()\n",
    "\n",
    "  with open(constants.DATA_DIR / 'MoonBoard_2016_raw_schema.json', 'w') as f:\n",
    "    json.dump(builder.to_schema(), f)\n",
    "  \n",
    "# generate_schema()"
   ]
  },
  {
   "cell_type": "markdown",
   "metadata": {},
   "source": [
    "Loads hold difficulties for MoonBoard from excel sheet?\n",
    "\n",
    "The hold difficulties appear to be defined by a vector of 6 different difficulties. Each element defines the difficulty for?"
   ]
  },
  {
   "cell_type": "code",
   "execution_count": 8,
   "metadata": {},
   "outputs": [],
   "source": [
    "features = pd.read_excel(constants.HOLD_FEATURES_PATH, dtype=str)\n",
    "\n",
    "# convert features from pd dataframe to dictionary\n",
    "feature_dict = {}\n",
    "for index in features.index:\n",
    "    feature_item = features.loc[index]\n",
    "    feature_dict[(int(feature_item['X_coord']), int(feature_item['Y_coord']))] = np.array(\n",
    "        list(feature_item['Difficulties'])).astype(int)"
   ]
  },
  {
   "cell_type": "code",
   "execution_count": 9,
   "metadata": {},
   "outputs": [
    {
     "data": {
      "text/html": [
       "<div>\n",
       "<style scoped>\n",
       "    .dataframe tbody tr th:only-of-type {\n",
       "        vertical-align: middle;\n",
       "    }\n",
       "\n",
       "    .dataframe tbody tr th {\n",
       "        vertical-align: top;\n",
       "    }\n",
       "\n",
       "    .dataframe thead th {\n",
       "        text-align: right;\n",
       "    }\n",
       "</style>\n",
       "<table border=\"1\" class=\"dataframe\">\n",
       "  <thead>\n",
       "    <tr style=\"text-align: right;\">\n",
       "      <th></th>\n",
       "      <th>X_coord</th>\n",
       "      <th>Y_coord</th>\n",
       "      <th>Difficulties</th>\n",
       "    </tr>\n",
       "  </thead>\n",
       "  <tbody>\n",
       "    <tr>\n",
       "      <th>0</th>\n",
       "      <td>0</td>\n",
       "      <td>17</td>\n",
       "      <td>034730</td>\n",
       "    </tr>\n",
       "    <tr>\n",
       "      <th>1</th>\n",
       "      <td>0</td>\n",
       "      <td>15</td>\n",
       "      <td>142210</td>\n",
       "    </tr>\n",
       "    <tr>\n",
       "      <th>2</th>\n",
       "      <td>0</td>\n",
       "      <td>14</td>\n",
       "      <td>013100</td>\n",
       "    </tr>\n",
       "    <tr>\n",
       "      <th>3</th>\n",
       "      <td>0</td>\n",
       "      <td>13</td>\n",
       "      <td>262000</td>\n",
       "    </tr>\n",
       "    <tr>\n",
       "      <th>4</th>\n",
       "      <td>0</td>\n",
       "      <td>12</td>\n",
       "      <td>012101</td>\n",
       "    </tr>\n",
       "    <tr>\n",
       "      <th>...</th>\n",
       "      <td>...</td>\n",
       "      <td>...</td>\n",
       "      <td>...</td>\n",
       "    </tr>\n",
       "    <tr>\n",
       "      <th>136</th>\n",
       "      <td>10</td>\n",
       "      <td>8</td>\n",
       "      <td>015100</td>\n",
       "    </tr>\n",
       "    <tr>\n",
       "      <th>137</th>\n",
       "      <td>10</td>\n",
       "      <td>7</td>\n",
       "      <td>013100</td>\n",
       "    </tr>\n",
       "    <tr>\n",
       "      <th>138</th>\n",
       "      <td>10</td>\n",
       "      <td>6</td>\n",
       "      <td>021000</td>\n",
       "    </tr>\n",
       "    <tr>\n",
       "      <th>139</th>\n",
       "      <td>10</td>\n",
       "      <td>5</td>\n",
       "      <td>012100</td>\n",
       "    </tr>\n",
       "    <tr>\n",
       "      <th>140</th>\n",
       "      <td>10</td>\n",
       "      <td>4</td>\n",
       "      <td>025200</td>\n",
       "    </tr>\n",
       "  </tbody>\n",
       "</table>\n",
       "<p>141 rows × 3 columns</p>\n",
       "</div>"
      ],
      "text/plain": [
       "    X_coord Y_coord Difficulties\n",
       "0         0      17       034730\n",
       "1         0      15       142210\n",
       "2         0      14       013100\n",
       "3         0      13       262000\n",
       "4         0      12       012101\n",
       "..      ...     ...          ...\n",
       "136      10       8       015100\n",
       "137      10       7       013100\n",
       "138      10       6       021000\n",
       "139      10       5       012100\n",
       "140      10       4       025200\n",
       "\n",
       "[141 rows x 3 columns]"
      ]
     },
     "execution_count": 9,
     "metadata": {},
     "output_type": "execute_result"
    }
   ],
   "source": [
    "# TODO: what to the individual difficulties mean?? Consider copilot suggestions or see where used\n",
    "features"
   ]
  },
  {
   "cell_type": "markdown",
   "metadata": {},
   "source": [
    "### 2. Separate data into different categories:\n",
    "- no user ratings\n",
    "- benchmarked with user ratings\n",
    "- non-benchmarked with user ratings"
   ]
  },
  {
   "cell_type": "code",
   "execution_count": 10,
   "metadata": {},
   "outputs": [
    {
     "data": {
      "text/plain": [
       "{'6B': 0,\n",
       " '6B+': 0,\n",
       " '6C': 1,\n",
       " '6C+': 1,\n",
       " '7A': 2,\n",
       " '7A+': 3,\n",
       " '7B': 4,\n",
       " '7B+': 4,\n",
       " '7C': 5,\n",
       " '7C+': 6,\n",
       " '8A': 7,\n",
       " '8A+': 8,\n",
       " '8B': 9}"
      ]
     },
     "execution_count": 10,
     "metadata": {},
     "output_type": "execute_result"
    }
   ],
   "source": [
    "grade_map = helper.get_grade_map()\n",
    "grade_map"
   ]
  },
  {
   "cell_type": "code",
   "execution_count": 11,
   "metadata": {},
   "outputs": [],
   "source": [
    "save_path = constants.PREPROCESSING_DIR / 'processed_data_xy_mode'\n",
    "# TODO: THIS IS CURRENTLY BROKEN (all the data errors)\n",
    "# output_xy_mode = helper.classify_and_reorganize_data(MoonBoard_2016_raw, save_path, delta_xy_mode = False)"
   ]
  },
  {
   "cell_type": "markdown",
   "metadata": {},
   "source": [
    "### 3. Data Preprocessing with BetaMove"
   ]
  },
  {
   "cell_type": "markdown",
   "metadata": {},
   "source": [
    "Load the the data split into dicts:\n",
    "- `X_dict_benchmark_withgrade`\n",
    "- `Y_dict_benchmark_withgrade`\n",
    "- `X_dict_benchmark_nograde`\n",
    "- `Y_dict_benchmark_nograde`\n",
    "- `X_dict_withgrade`\n",
    "- `Y_dict_withgrade`\n",
    "- `X_dict_nograde`\n",
    "- `Y_dict_nograde`\n",
    "\n",
    "Where each X item is (problem_id, 10xn array) where n is the number of holds in the problem. Each **column** vector contain:\n",
    "- 0: `feature_dict[x,y][0]`\n",
    "- 1: `feature_dict[x,y][1]`\n",
    "- 2: `feature_dict[x,y][2]`\n",
    "- 3: `feature_dict[x,y][3]`\n",
    "- 4: `feature_dict[x,y][4]`\n",
    "- 5: `feature_dict[x,y][5]`\n",
    "- 6: `x`\n",
    "- 7: `y`\n",
    "- 8: `is_start`\n",
    "- 9: `is_end`\n",
    "\n",
    "Y items (problem_id, 3x1 array). Each **column** vector contain:\n",
    "- 0: `grade`\n",
    "- 1: `is_benchmarked`\n",
    "- 2: `user_grade` (only if dict is `withgrade`)"
   ]
  },
  {
   "cell_type": "code",
   "execution_count": 12,
   "metadata": {},
   "outputs": [],
   "source": [
    "raw_data_forseq_path = constants.PREPROCESSING_DIR / 'processed_data_xy_mode'\n",
    "with open(raw_data_forseq_path, 'rb') as f:\n",
    "    MoonBoard_2016_raw_forseq = pickle.load(f)"
   ]
  },
  {
   "cell_type": "code",
   "execution_count": 23,
   "metadata": {},
   "outputs": [
    {
     "data": {
      "text/plain": [
       "array([[ 0.,  2.,  0.,  1.,  2.,  3.],\n",
       "       [ 2.,  5.,  1.,  5.,  3.,  7.],\n",
       "       [ 5.,  2.,  4.,  3.,  4.,  5.],\n",
       "       [ 2.,  0.,  1.,  1.,  2.,  2.],\n",
       "       [ 0.,  0.,  0.,  0.,  1.,  0.],\n",
       "       [ 0.,  0.,  0.,  0.,  0.,  0.],\n",
       "       [10.,  5.,  8.,  5.,  3.,  1.],\n",
       "       [ 4.,  6., 10., 13., 16., 17.],\n",
       "       [ 1.,  0.,  0.,  0.,  0.,  0.],\n",
       "       [ 0.,  0.,  0.,  0.,  0.,  1.]])"
      ]
     },
     "execution_count": 23,
     "metadata": {},
     "output_type": "execute_result"
    }
   ],
   "source": [
    "MoonBoard_2016_raw_forseq['X_dict_benchmark_withgrade'][next(iter(MoonBoard_2016_raw_forseq['X_dict_benchmark_withgrade']))]"
   ]
  },
  {
   "cell_type": "code",
   "execution_count": 24,
   "metadata": {},
   "outputs": [
    {
     "data": {
      "text/plain": [
       "array([[5],\n",
       "       [1],\n",
       "       [5]], dtype=int64)"
      ]
     },
     "execution_count": 24,
     "metadata": {},
     "output_type": "execute_result"
    }
   ],
   "source": [
    "MoonBoard_2016_raw_forseq['Y_dict_benchmark_withgrade'][next(iter(MoonBoard_2016_raw_forseq['Y_dict_benchmark_withgrade']))]"
   ]
  },
  {
   "cell_type": "markdown",
   "metadata": {},
   "source": [
    "Merge problem dicts"
   ]
  },
  {
   "cell_type": "code",
   "execution_count": 25,
   "metadata": {},
   "outputs": [],
   "source": [
    "X_dict_merge = {**MoonBoard_2016_raw_forseq['X_dict_benchmark_withgrade'], \n",
    "                **MoonBoard_2016_raw_forseq['X_dict_benchmark_nograde'], \n",
    "                **MoonBoard_2016_raw_forseq['X_dict_withgrade'], \n",
    "                **MoonBoard_2016_raw_forseq['X_dict_nograde']}\n",
    "Y_dict_merge = {**MoonBoard_2016_raw_forseq['Y_dict_benchmark_withgrade'], \n",
    "                **MoonBoard_2016_raw_forseq['Y_dict_benchmark_nograde'], \n",
    "                **MoonBoard_2016_raw_forseq['Y_dict_withgrade'], \n",
    "                **MoonBoard_2016_raw_forseq['Y_dict_nograde']}"
   ]
  },
  {
   "cell_type": "markdown",
   "metadata": {},
   "source": [
    "Use Beamer search to calculate theoretically best route (sequence of LH/RH moves) for each problem"
   ]
  },
  {
   "cell_type": "code",
   "execution_count": 21,
   "metadata": {},
   "outputs": [
    {
     "data": {
      "text/plain": [
       "<module 'preprocessing_helper' from 'c:\\\\Users\\\\valsp\\\\source\\\\repos\\\\MoonBoardRNN\\\\preprocessing\\\\preprocessing_helper.py'>"
      ]
     },
     "execution_count": 21,
     "metadata": {},
     "output_type": "execute_result"
    }
   ],
   "source": [
    "import importlib\n",
    "importlib.reload(helper)"
   ]
  },
  {
   "cell_type": "code",
   "execution_count": 22,
   "metadata": {
    "scrolled": true
   },
   "outputs": [
    {
     "ename": "AttributeError",
     "evalue": "'beta' object has no attribute 'successScoreSequence'",
     "output_type": "error",
     "traceback": [
      "\u001b[1;31m---------------------------------------------------------------------------\u001b[0m",
      "\u001b[1;31mAttributeError\u001b[0m                            Traceback (most recent call last)",
      "Cell \u001b[1;32mIn[22], line 3\u001b[0m\n\u001b[0;32m      1\u001b[0m save_path_seq \u001b[39m=\u001b[39m constants\u001b[39m.\u001b[39mPREPROCESSING_DIR \u001b[39m/\u001b[39m \u001b[39m'\u001b[39m\u001b[39mprocessed_data_seq\u001b[39m\u001b[39m'\u001b[39m\n\u001b[0;32m      2\u001b[0m \u001b[39m# TODO: THIS IS CURRENTLY BROKEN (all the data errors)\u001b[39;00m\n\u001b[1;32m----> 3\u001b[0m output_seq \u001b[39m=\u001b[39m helper\u001b[39m.\u001b[39;49mgenerate_organized_sequence_data(raw_data \u001b[39m=\u001b[39;49m X_dict_merge, save_path \u001b[39m=\u001b[39;49m save_path_seq)\n\u001b[0;32m      4\u001b[0m \u001b[39m# helper.save_pickle(output_seq, save_path_seq)\u001b[39;00m\n",
      "File \u001b[1;32mc:\\Users\\valsp\\source\\repos\\MoonBoardRNN\\preprocessing\\preprocessing_helper.py:250\u001b[0m, in \u001b[0;36mgenerate_organized_sequence_data\u001b[1;34m(raw_data, save_path)\u001b[0m\n\u001b[0;32m    243\u001b[0m \u001b[39mfor\u001b[39;00m key, item \u001b[39min\u001b[39;00m raw_data\u001b[39m.\u001b[39mitems():\n\u001b[0;32m    244\u001b[0m     \u001b[39m# try:\u001b[39;00m\n\u001b[0;32m    245\u001b[0m         \u001b[39m# TODO: error here\u001b[39;00m\n\u001b[0;32m    246\u001b[0m     output \u001b[39m=\u001b[39m produce_sequence(keyNum \u001b[39m=\u001b[39m key, X_dict \u001b[39m=\u001b[39m raw_data, n_return \u001b[39m=\u001b[39m \u001b[39m1\u001b[39m)\n\u001b[0;32m    247\u001b[0m     result \u001b[39m=\u001b[39m np\u001b[39m.\u001b[39mvstack([\n\u001b[0;32m    248\u001b[0m         raw_data[key][\u001b[39m6\u001b[39m:\u001b[39m8\u001b[39m, output[\u001b[39m0\u001b[39m]\u001b[39m.\u001b[39mhandSequence], \n\u001b[0;32m    249\u001b[0m         (np\u001b[39m.\u001b[39marray(output[\u001b[39m0\u001b[39m]\u001b[39m.\u001b[39mhandOperator) \u001b[39m==\u001b[39m \u001b[39m'\u001b[39m\u001b[39mLH\u001b[39m\u001b[39m'\u001b[39m)\u001b[39m*\u001b[39m(\u001b[39m-\u001b[39m\u001b[39m1\u001b[39m) \u001b[39m+\u001b[39m (np\u001b[39m.\u001b[39marray(output[\u001b[39m0\u001b[39m]\u001b[39m.\u001b[39mhandOperator) \u001b[39m==\u001b[39m \u001b[39m'\u001b[39m\u001b[39mRH\u001b[39m\u001b[39m'\u001b[39m)\u001b[39m*\u001b[39m\u001b[39m1\u001b[39m, \n\u001b[1;32m--> 250\u001b[0m         output[\u001b[39m0\u001b[39;49m]\u001b[39m.\u001b[39;49msuccessScoreSequence])\n\u001b[0;32m    251\u001b[0m     X_dict_seq[key] \u001b[39m=\u001b[39m result\n\u001b[0;32m    252\u001b[0m     \u001b[39m# except:\u001b[39;00m\n\u001b[0;32m    253\u001b[0m     \u001b[39m#     print('data with key %s contains error' %key)\u001b[39;00m\n\u001b[0;32m    254\u001b[0m     \u001b[39m#     list_fail.append(key)\u001b[39;00m\n",
      "\u001b[1;31mAttributeError\u001b[0m: 'beta' object has no attribute 'successScoreSequence'"
     ]
    }
   ],
   "source": [
    "save_path_seq = constants.PREPROCESSING_DIR / 'processed_data_seq'\n",
    "# TODO: THIS IS CURRENTLY BROKEN (all the data errors)\n",
    "output_seq = helper.generate_organized_sequence_data(raw_data = X_dict_merge, save_path = save_path_seq)\n",
    "# helper.save_pickle(output_seq, save_path_seq)"
   ]
  }
 ],
 "metadata": {
  "kernelspec": {
   "display_name": "Python 3.9.13 64-bit",
   "language": "python",
   "name": "python3"
  },
  "language_info": {
   "codemirror_mode": {
    "name": "ipython",
    "version": 3
   },
   "file_extension": ".py",
   "mimetype": "text/x-python",
   "name": "python",
   "nbconvert_exporter": "python",
   "pygments_lexer": "ipython3",
   "version": "3.9.13"
  },
  "vscode": {
   "interpreter": {
    "hash": "059f16d077cb04defc9805a9434436601e37ea005e8f51d323b28872224dbf8c"
   }
  }
 },
 "nbformat": 4,
 "nbformat_minor": 4
}
