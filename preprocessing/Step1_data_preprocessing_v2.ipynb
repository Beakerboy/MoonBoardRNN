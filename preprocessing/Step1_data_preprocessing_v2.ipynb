{
 "cells": [
  {
   "cell_type": "code",
   "execution_count": 45,
   "metadata": {},
   "outputs": [],
   "source": [
    "import numpy as np\n",
    "import pandas as pd\n",
    "import pickle\n",
    "import preprocessing_helper as helper\n",
    "\n",
    "from pathlib import Path\n",
    "import constants\n",
    "import json \n",
    "from genson import SchemaBuilder"
   ]
  },
  {
   "cell_type": "code",
   "execution_count": 46,
   "metadata": {},
   "outputs": [],
   "source": [
    "# TODO: I believe this notebook is not used as broken"
   ]
  },
  {
   "cell_type": "markdown",
   "metadata": {},
   "source": [
    "### 1. Get directories related information and load in MoonBoard 2016 data"
   ]
  },
  {
   "cell_type": "markdown",
   "metadata": {},
   "source": [
    "Load the sccraped data"
   ]
  },
  {
   "cell_type": "code",
   "execution_count": 47,
   "metadata": {},
   "outputs": [],
   "source": [
    "with open(constants.SCRAPE_DATA_PATH, 'rb') as f:\n",
    "    MoonBoard_2016_raw = pickle.load(f)"
   ]
  },
  {
   "cell_type": "markdown",
   "metadata": {},
   "source": [
    "Dump the scraped data to JSON"
   ]
  },
  {
   "cell_type": "code",
   "execution_count": 48,
   "metadata": {},
   "outputs": [],
   "source": [
    "def dump_to_json():\n",
    "  with open(constants.DATA_DIR / 'MoonBoard_2016_raw.json', 'w') as f:\n",
    "    json.dump(MoonBoard_2016_raw, f)\n",
    "\n",
    "# dump_to_json()"
   ]
  },
  {
   "cell_type": "code",
   "execution_count": 49,
   "metadata": {},
   "outputs": [
    {
     "data": {
      "text/plain": [
       "[{'problem_name': 'TALL POPPY',\n",
       "  'info': ['halladay',\n",
       "   'Be the first to repeat this problem',\n",
       "   '6C+',\n",
       "   'Feet follow hands',\n",
       "   ''],\n",
       "  'url': 'https://moonboard.com/Problems/View/367894/tall-poppy',\n",
       "  'num_empty': 3,\n",
       "  'num_stars': 0,\n",
       "  'moves': [{'Id': 2119224,\n",
       "    'Description': 'F5',\n",
       "    'IsStart': True,\n",
       "    'IsEnd': False},\n",
       "   {'Id': 2119225, 'Description': 'G2', 'IsStart': True, 'IsEnd': False},\n",
       "   {'Id': 2119226, 'Description': 'H10', 'IsStart': False, 'IsEnd': False},\n",
       "   {'Id': 2119227, 'Description': 'B11', 'IsStart': False, 'IsEnd': False},\n",
       "   {'Id': 2119228, 'Description': 'E15', 'IsStart': False, 'IsEnd': False},\n",
       "   {'Id': 2119229, 'Description': 'D18', 'IsStart': False, 'IsEnd': True},\n",
       "   {'Id': 2119230, 'Description': 'E8', 'IsStart': False, 'IsEnd': False}],\n",
       "  'grade': '6C+',\n",
       "  'UserGrade': None,\n",
       "  'isBenchmark': False,\n",
       "  'repeats': 0,\n",
       "  'ProblemType': None,\n",
       "  'IsMaster': False,\n",
       "  'setter': {'Id': '93A38FE2-1B2B-4B0F-9B70-9A77BAE976B8',\n",
       "   'Nickname': 'halladay',\n",
       "   'Firstname': 'Jason',\n",
       "   'Lastname': 'Halladay',\n",
       "   'City': 'Los Alamos',\n",
       "   'Country': 'United States',\n",
       "   'ProfileImageUrl': '/Content/Account/Users/Profile/93A38FE2-1B2B-4B0F-9B70-9A77BAE976B8.gif?637231996892206329',\n",
       "   'CanShareData': True}}]"
      ]
     },
     "execution_count": 49,
     "metadata": {},
     "output_type": "execute_result"
    }
   ],
   "source": [
    "# get first 5 values of MoonBoard_2016_raw\n",
    "list(MoonBoard_2016_raw.values())[:1]"
   ]
  },
  {
   "cell_type": "markdown",
   "metadata": {},
   "source": [
    "Generate the schema for the scraped data"
   ]
  },
  {
   "cell_type": "code",
   "execution_count": 50,
   "metadata": {},
   "outputs": [],
   "source": [
    "def generate_schema():\n",
    "  builder = SchemaBuilder()\n",
    "  builder.add_object(list(MoonBoard_2016_raw.values()))\n",
    "  builder.to_schema()\n",
    "\n",
    "  with open(constants.DATA_DIR / 'MoonBoard_2016_raw_schema.json', 'w') as f:\n",
    "    json.dump(builder.to_schema(), f)\n",
    "  \n",
    "# generate_schema()"
   ]
  },
  {
   "cell_type": "markdown",
   "metadata": {},
   "source": [
    "Loads hold difficulties for MoonBoard from excel sheet?\n",
    "\n",
    "The hold difficulties appear to be defined by a vector of 6 different difficulties. Each element defines the difficulty for?"
   ]
  },
  {
   "cell_type": "code",
   "execution_count": 51,
   "metadata": {},
   "outputs": [],
   "source": [
    "features = pd.read_excel(constants.HOLD_FEATURES_PATH, dtype=str)\n",
    "\n",
    "# convert features from pd dataframe to dictionary\n",
    "feature_dict = {}\n",
    "for index in features.index:\n",
    "    feature_item = features.loc[index]\n",
    "    feature_dict[(int(feature_item['X_coord']), int(feature_item['Y_coord']))] = np.array(\n",
    "        list(feature_item['Difficulties'])).astype(int)"
   ]
  },
  {
   "cell_type": "code",
   "execution_count": 52,
   "metadata": {},
   "outputs": [
    {
     "data": {
      "text/plain": [
       "[((0, 17), array([0, 3, 4, 7, 3, 0])),\n",
       " ((0, 15), array([1, 4, 2, 2, 1, 0])),\n",
       " ((0, 14), array([0, 1, 3, 1, 0, 0])),\n",
       " ((0, 13), array([2, 6, 2, 0, 0, 0])),\n",
       " ((0, 12), array([0, 1, 2, 1, 0, 1]))]"
      ]
     },
     "execution_count": 52,
     "metadata": {},
     "output_type": "execute_result"
    }
   ],
   "source": [
    "# TODO: what to the individual difficulties mean?? Consider copilot suggestions or see where used\n",
    "list(feature_dict.items())[:5]"
   ]
  },
  {
   "cell_type": "markdown",
   "metadata": {},
   "source": [
    "### 2. Separate data into different categories:\n",
    "- no user ratings\n",
    "- benchmarked with user ratings\n",
    "- non-benchmarked with user ratings"
   ]
  },
  {
   "cell_type": "code",
   "execution_count": 53,
   "metadata": {},
   "outputs": [
    {
     "data": {
      "text/plain": [
       "{'6B': 0,\n",
       " '6B+': 0,\n",
       " '6C': 1,\n",
       " '6C+': 1,\n",
       " '7A': 2,\n",
       " '7A+': 3,\n",
       " '7B': 4,\n",
       " '7B+': 4,\n",
       " '7C': 5,\n",
       " '7C+': 6,\n",
       " '8A': 7,\n",
       " '8A+': 8,\n",
       " '8B': 9}"
      ]
     },
     "execution_count": 53,
     "metadata": {},
     "output_type": "execute_result"
    }
   ],
   "source": [
    "grade_map = helper.get_grade_map()\n",
    "grade_map"
   ]
  },
  {
   "attachments": {},
   "cell_type": "markdown",
   "metadata": {},
   "source": [
    "Processing the raw data is currently broken, as it appears the scraped data has changed since this was written.\n",
    "Particularly the json for each route has changed.\n",
    "\n",
    "Originally:\n",
    "- 'start'/'mid'/'end' contained respective holds for the problem\n",
    "- each hold is (x,y) coordinate\n",
    "\n",
    "Current scraped data:\n",
    "- ```\n",
    "  'moves': [\n",
    "    {'Id': 2119224, 'Description': 'F5', 'IsStart': True, 'IsEnd': False},\n",
    "    {'Id': 2119225, 'Description': 'G2', 'IsStart': True, 'IsEnd': False},\n",
    "    {'Id': 2119226, 'Description': 'H10', 'IsStart': False, 'IsEnd': False},\n",
    "    {'Id': 2119227, 'Description': 'B11', 'IsStart': False, 'IsEnd': False},\n",
    "    {'Id': 2119228, 'Description': 'E15', 'IsStart': False, 'IsEnd': False},\n",
    "    {'Id': 2119229, 'Description': 'D18', 'IsStart': False, 'IsEnd': True},\n",
    "    {'Id': 2119230, 'Description': 'E8', 'IsStart': False, 'IsEnd': False}\n",
    "  ],\n",
    "  ```"
   ]
  },
  {
   "cell_type": "code",
   "execution_count": 67,
   "metadata": {},
   "outputs": [
    {
     "data": {
      "text/plain": [
       "<module 'preprocessing_helper' from 'c:\\\\Users\\\\valsp\\\\source\\\\repos\\\\MoonBoardRNN\\\\preprocessing\\\\preprocessing_helper.py'>"
      ]
     },
     "execution_count": 67,
     "metadata": {},
     "output_type": "execute_result"
    }
   ],
   "source": [
    "from importlib import reload\n",
    "reload(helper)"
   ]
  },
  {
   "cell_type": "code",
   "execution_count": 69,
   "metadata": {},
   "outputs": [
    {
     "name": "stdout",
     "output_type": "stream",
     "text": [
      "result saved.\n",
      "ayo we fucked up with 8 start/end and 54 missing grades, 8971 with grades :)\n"
     ]
    }
   ],
   "source": [
    "save_path = constants.PREPROCESSING_DIR / 'processed_data_xy_mode'\n",
    "# TODO: fix see above\n",
    "output_xy_mode = helper.classify_and_reorganize_data(MoonBoard_2016_raw, save_path, feature_dict, delta_xy_mode = False)"
   ]
  },
  {
   "cell_type": "code",
   "execution_count": null,
   "metadata": {},
   "outputs": [],
   "source": [
    "output_xy_mode['X_dict_benchmark_withgrade']"
   ]
  },
  {
   "cell_type": "markdown",
   "metadata": {},
   "source": [
    "### 3. Data Preprocessing with BetaMove"
   ]
  },
  {
   "attachments": {},
   "cell_type": "markdown",
   "metadata": {},
   "source": [
    "Load the the data split into dicts:\n",
    "- `X_dict_benchmark_withgrade`\n",
    "- `Y_dict_benchmark_withgrade`\n",
    "- `X_dict_benchmark_nograde`\n",
    "- `Y_dict_benchmark_nograde`\n",
    "- `X_dict_withgrade`\n",
    "- `Y_dict_withgrade`\n",
    "- `X_dict_nograde`\n",
    "- `Y_dict_nograde`\n",
    "\n",
    "Where each X item is (problem_id, 10xn array) where n is the number of holds in the problem. Each **column** vector contain:\n",
    "- 0: `feature_dict[x,y][0]` 0-9\n",
    "- 1: `feature_dict[x,y][1]` 0-9\n",
    "- 2: `feature_dict[x,y][2]` 0-9\n",
    "- 3: `feature_dict[x,y][3]` 0-9\n",
    "- 4: `feature_dict[x,y][4]` 0-9\n",
    "- 5: `feature_dict[x,y][5]` 0-9\n",
    "- 6: `x` 0-10\n",
    "- 7: `y` 0-17\n",
    "- 8: `is_start` 0/1\n",
    "- 9: `is_end` 0/1\n",
    "\n",
    "Y items (problem_id, 3x1 array). Each **column** vector contain:\n",
    "- 0: `grade` 0-9\n",
    "- 1: `is_benchmarked` 0/1\n",
    "- 2: `user_grade` (only if dict is `withgrade`) 0/1"
   ]
  },
  {
   "cell_type": "code",
   "execution_count": 56,
   "metadata": {},
   "outputs": [],
   "source": [
    "# load the data meant to be generated by the previous step\n",
    "raw_data_forseq_path = constants.PREPROCESSING_DIR / 'processed_data_xy_mode'\n",
    "with open(raw_data_forseq_path, 'rb') as f:\n",
    "    MoonBoard_2016_raw_forseq = pickle.load(f)"
   ]
  },
  {
   "cell_type": "code",
   "execution_count": 59,
   "metadata": {},
   "outputs": [
    {
     "name": "stdout",
     "output_type": "stream",
     "text": [
      "{}\n"
     ]
    }
   ],
   "source": [
    "# this is a single problem x, each column of matrix is a hold as described above\n",
    "MoonBoard_2016_raw_forseq['X_dict_benchmark_withgrade'][next(iter(MoonBoard_2016_raw_forseq['X_dict_benchmark_withgrade']))]"
   ]
  },
  {
   "cell_type": "code",
   "execution_count": null,
   "metadata": {},
   "outputs": [],
   "source": [
    "# this is a single problem y, as described above\n",
    "MoonBoard_2016_raw_forseq['Y_dict_benchmark_withgrade'][next(iter(MoonBoard_2016_raw_forseq['Y_dict_benchmark_withgrade']))]"
   ]
  },
  {
   "cell_type": "markdown",
   "metadata": {},
   "source": [
    "Merge problem dicts"
   ]
  },
  {
   "cell_type": "code",
   "execution_count": null,
   "metadata": {},
   "outputs": [],
   "source": [
    "X_dict_merge = {**MoonBoard_2016_raw_forseq['X_dict_benchmark_withgrade'], \n",
    "                **MoonBoard_2016_raw_forseq['X_dict_benchmark_nograde'], \n",
    "                **MoonBoard_2016_raw_forseq['X_dict_withgrade'], \n",
    "                **MoonBoard_2016_raw_forseq['X_dict_nograde']}\n",
    "Y_dict_merge = {**MoonBoard_2016_raw_forseq['Y_dict_benchmark_withgrade'], \n",
    "                **MoonBoard_2016_raw_forseq['Y_dict_benchmark_nograde'], \n",
    "                **MoonBoard_2016_raw_forseq['Y_dict_withgrade'], \n",
    "                **MoonBoard_2016_raw_forseq['Y_dict_nograde']}"
   ]
  },
  {
   "cell_type": "markdown",
   "metadata": {},
   "source": [
    "Use Beamer search to calculate theoretically best route (sequence of LH/RH moves) for each problem"
   ]
  },
  {
   "cell_type": "code",
   "execution_count": null,
   "metadata": {
    "scrolled": true
   },
   "outputs": [],
   "source": [
    "save_path_seq = constants.PREPROCESSING_DIR / 'processed_data_seq'\n",
    "# TODO: currently broken, sequence data no longer contains successScoreSequence?\n",
    "output_seq = helper.generate_organized_sequence_data(raw_data = X_dict_merge, save_path = save_path_seq)"
   ]
  },
  {
   "cell_type": "code",
   "execution_count": null,
   "metadata": {},
   "outputs": [],
   "source": [
    "sequence = helper.load_pickle(save_path_seq)"
   ]
  },
  {
   "attachments": {},
   "cell_type": "markdown",
   "metadata": {},
   "source": [
    "Move sequence data is of shape `4 x num_moves`:\n",
    "- x (start of move or end?)\n",
    "- y\n",
    "- -1/1 for LH/RH\n",
    "- sequence success score"
   ]
  },
  {
   "cell_type": "code",
   "execution_count": null,
   "metadata": {},
   "outputs": [],
   "source": [
    "# TODO: does move (x,y) correspond to start or end of move?\n",
    "sequence['X_dict_seq'][next(iter(sequence['X_dict_seq']))]"
   ]
  }
 ],
 "metadata": {
  "kernelspec": {
   "display_name": "moonboardrnn-hW4ed92X-py3.11",
   "language": "python",
   "name": "python3"
  },
  "language_info": {
   "codemirror_mode": {
    "name": "ipython",
    "version": 3
   },
   "file_extension": ".py",
   "mimetype": "text/x-python",
   "name": "python",
   "nbconvert_exporter": "python",
   "pygments_lexer": "ipython3",
   "version": "3.11.0"
  },
  "vscode": {
   "interpreter": {
    "hash": "88afa51fcb93d837514aaac77079ab23fce7abdf7a269ae99b2e53da316ed913"
   }
  }
 },
 "nbformat": 4,
 "nbformat_minor": 4
}
