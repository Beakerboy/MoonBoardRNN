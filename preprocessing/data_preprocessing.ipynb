{
 "cells": [
  {
   "cell_type": "code",
   "execution_count": 1,
   "metadata": {},
   "outputs": [],
   "source": [
    "import os\n",
    "import numpy as np\n",
    "import pandas as pd\n",
    "import pickle"
   ]
  },
  {
   "cell_type": "markdown",
   "metadata": {},
   "source": [
    "### 1. Get directories related information and load in MoonBoard 2016 data"
   ]
  },
  {
   "cell_type": "code",
   "execution_count": 2,
   "metadata": {},
   "outputs": [],
   "source": [
    "cwd = os.getcwd()\n",
    "parent_wd = cwd.replace('/preprocessing', '')\n",
    "raw_data_path = parent_wd + '/raw_data/moonGen_scrape_2016_final'\n",
    "hold_feature_path = parent_wd + '/raw_data/HoldFeature2016.csv'"
   ]
  },
  {
   "cell_type": "code",
   "execution_count": 32,
   "metadata": {},
   "outputs": [],
   "source": [
    "with open(raw_data_path, 'rb') as f:\n",
    "    MoonBoard_2016_raw = pickle.load(f)"
   ]
  },
  {
   "cell_type": "code",
   "execution_count": 162,
   "metadata": {},
   "outputs": [],
   "source": [
    "features = pd.read_csv(hold_feature_path, dtype=str)\n",
    "\n",
    "# convert features from pd dataframe to dictionary\n",
    "feature_dict = {}\n",
    "for index in features.index:\n",
    "    feature_item = features.loc[index]\n",
    "    feature_dict[(int(feature_item['X_coord']), int(feature_item['Y_coord']))] = np.array(\n",
    "        list(feature_item['Difficulties'])).astype(int)"
   ]
  },
  {
   "cell_type": "code",
   "execution_count": 145,
   "metadata": {},
   "outputs": [],
   "source": [
    "n_start = len(item['start'])\n",
    "n_mid = len(item['mid'])\n",
    "n_end = len(item['end'])\n",
    "n_hold = n_start + n_mid + n_end\n",
    "x_vectors = np.zeros((14, n_hold))\n",
    "item['start'].sort(key = lambda x: x[1])\n",
    "item['mid'].sort(key = lambda x: x[1])\n",
    "item['end'].sort(key = lambda x: x[1])\n",
    "combined_list = item['start'] + item['mid'] + item['end']\n",
    "\n",
    "for i, (x, y) in enumerate(combined_list):\n",
    "    x_vectors[0:6, i] = feature_dict[(x, y)] # 6 hand features\n",
    "    x_vectors[6:8, i] = [x, y] #(x, y)\n",
    "    if i == 0:\n",
    "        pass\n",
    "    elif i == 1:\n",
    "        x_vectors[8:10, i] = x_vectors[6:8, i] - x_vectors[6:8, i-1]\n",
    "    else:\n",
    "        x_vectors[8:10, i] = x_vectors[6:8, i] - x_vectors[6:8, i-1]\n",
    "        x_vectors[10:12, i] = x_vectors[6:8, i] - x_vectors[6:8, i-2]\n",
    "x_vectors[12:, 0:n_start] = np.array([[1], [0]])\n",
    "x_vectors[12:, n_start+n_mid:] = np.array([[0], [1]])\n"
   ]
  },
  {
   "cell_type": "markdown",
   "metadata": {},
   "source": [
    "### 2. Separate data into different categories:\n",
    "- no user ratings\n",
    "- benchmarked with user ratings\n",
    "- non-benchmarked with user ratings"
   ]
  },
  {
   "cell_type": "code",
   "execution_count": 171,
   "metadata": {},
   "outputs": [],
   "source": [
    "def save_pickle(data, file_name):\n",
    "    \"\"\"\n",
    "    Saves data as pickle format\n",
    "    \"\"\"\n",
    "    with open(file_name, 'wb') as f:\n",
    "        pickle.dump(data, f)\n",
    "    return None\n",
    "\n",
    "def get_grade_map():\n",
    "    \"\"\"\n",
    "    Defines a mapping of Fontainebleau grades to integer values\n",
    "    \"\"\"\n",
    "    grade_map = {\n",
    "        '6A': 0,\n",
    "        '6A+': 1,\n",
    "        '6B': 2,\n",
    "        '6B+': 3,\n",
    "        '6C': 4,\n",
    "        '6C+': 5,\n",
    "        '7A': 6,\n",
    "        '7A+': 7,\n",
    "        '7B': 8,\n",
    "        '7B+': 9,\n",
    "        '7C': 10,\n",
    "        '7C+': 11,\n",
    "        '8A': 12,\n",
    "        '8A+': 13,\n",
    "        '8B': 14,\n",
    "        '8B+': 15,\n",
    "    }\n",
    "    return grade_map"
   ]
  },
  {
   "cell_type": "code",
   "execution_count": 185,
   "metadata": {},
   "outputs": [],
   "source": [
    "def classify_and_reorganize_data(raw_data, save_path, delta_xy_mode = False, print_result = False):\n",
    "    \"\"\"\n",
    "    Input:\n",
    "    - raw_data: the raw data that is scraped from MoonBoard\n",
    "    - delta_xy_mode: \n",
    "      if set False(default), the x_vector compiled will be of shape (10, n_holds) (6 hold features, x, y, is_start, is_end)\n",
    "      if set True, the x_vector compiled will be of shape (14, n_holds) (6 hold features, x, y, dx1, dy1, dx2, dy2, is_start, is_end)\n",
    "    \n",
    "    Classify and process the raw data into 4 caterogies/8 dictionaries:\n",
    "    - X_dict_benchmark_withgrade: the input data that is benchmarked and contains user grading.\n",
    "    - Y_dict_benchmark_withgrade: the output for raw data that is benchmarked and contains user grading.\n",
    "    - X_dict_benchmark_nograde: the input data that is benchmarked and does not contain user grading.\n",
    "    - Y_dict_benchmark_nograde: the output for raw data that is benchmarked and does not contain user grading.\n",
    "    - X_dict_withgrade: the input data that is not benchmarked and contains user grading.\n",
    "    - Y_dict_withgrade: the output for raw data that is not benchmarked and contains user grading.\n",
    "    - X_dict_nograde: the input data that is not benchmarked and does not contain user grading.\n",
    "    - Y_dict_nograde: the output for raw data that is not benchmarked and does not contain user grading.\n",
    "    For the ones that do not have user grading, the shape of each item in Y_dict is (2, 1): (grade, is_benchmarked)\n",
    "    For the ones that have user grading, the shape of each item in Y_dict is (3, 1): (grade, is_benchmarked, user_grade)\n",
    "    \"\"\"\n",
    "    X_dict_benchmark_withgrade = {}\n",
    "    Y_dict_benchmark_withgrade = {}\n",
    "    X_dict_benchmark_nograde = {}\n",
    "    Y_dict_benchmark_nograde = {}\n",
    "    X_dict_withgrade = {}\n",
    "    Y_dict_withgrade = {}\n",
    "    X_dict_nograde = {}\n",
    "    Y_dict_nograde = {}\n",
    "    list_fail = []\n",
    "    for key, item in raw_data.items():\n",
    "        # create x_vector\n",
    "        try:\n",
    "            n_start = len(item['start'])\n",
    "            n_mid = len(item['mid'])\n",
    "            n_end = len(item['end'])\n",
    "            \n",
    "            assert(n_start <= 2)\n",
    "            assert(n_end <= 2)\n",
    "            \n",
    "            n_hold = n_start + n_mid + n_end\n",
    "            item['start'].sort(key = lambda x: x[1])\n",
    "            item['mid'].sort(key = lambda x: x[1])\n",
    "            item['end'].sort(key = lambda x: x[1])\n",
    "            combined_list = item['start'] + item['mid'] + item['end']\n",
    "\n",
    "            if delta_xy_mode:\n",
    "                x_vectors = np.zeros((14, n_hold))\n",
    "                for i, (x, y) in enumerate(combined_list):\n",
    "                    x_vectors[0:6, i] = feature_dict[(x, y)] # 6 hand features\n",
    "                    x_vectors[6:8, i] = [x, y] #(x, y)\n",
    "                    if i == 0:\n",
    "                        pass\n",
    "                    elif i == 1:\n",
    "                        x_vectors[8:10, i] = x_vectors[6:8, i] - x_vectors[6:8, i-1]\n",
    "                    else:\n",
    "                        x_vectors[8:10, i] = x_vectors[6:8, i] - x_vectors[6:8, i-1]\n",
    "                        x_vectors[10:12, i] = x_vectors[6:8, i] - x_vectors[6:8, i-2]\n",
    "                x_vectors[12:, 0:n_start] = np.array([[1], [0]])\n",
    "                x_vectors[12:, n_start+n_mid:] = np.array([[0], [1]])\n",
    "\n",
    "            else:\n",
    "                x_vectors = np.zeros((10, n_hold))\n",
    "                for i, (x, y) in enumerate(combined_list):\n",
    "                    x_vectors[0:6, i] = feature_dict[(x, y)] # 6 hand features\n",
    "                    x_vectors[6:8, i] = [x, y] #(x, y)\n",
    "                x_vectors[8:, 0:n_start] = np.array([[1], [0]])\n",
    "                x_vectors[8:, n_start+n_mid:] = np.array([[0], [1]])\n",
    "\n",
    "            # save x_vector into the correct dictionary\n",
    "            if item['is_benchmark']:\n",
    "                if item['user_grade'] is None:\n",
    "                    X_dict_benchmark_nograde[key] = x_vectors\n",
    "                    Y_dict_benchmark_nograde[key] = np.array([[grade_map[item['grade']]], \n",
    "                                                                [int(item['is_benchmark'])]])\n",
    "                else:\n",
    "                    X_dict_benchmark_withgrade[key] = x_vectors\n",
    "                    Y_dict_benchmark_withgrade[key] = np.array([[grade_map[item['grade']]], \n",
    "                                                                [int(item['is_benchmark'])], \n",
    "                                                                [grade_map[item['user_grade']]]])\n",
    "            elif item['user_grade'] is None:\n",
    "                X_dict_nograde[key] = x_vectors\n",
    "                Y_dict_nograde[key] = np.array([[grade_map[item['grade']]], \n",
    "                                                  [int(item['is_benchmark'])]])\n",
    "            else:\n",
    "                X_dict_withgrade[key] = x_vectors\n",
    "                Y_dict_withgrade[key] = np.array([[grade_map[item['grade']]], \n",
    "                                                  [int(item['is_benchmark'])],\n",
    "                                                  [grade_map[item['user_grade']]]])\n",
    "            if print_result:\n",
    "                print('Complete processing of %s' %key)\n",
    "            \n",
    "        except:\n",
    "            print('Raw data with key %s contains error' %key)\n",
    "            list_fail.append(key)\n",
    "\n",
    "    output = {'X_dict_benchmark_withgrade': X_dict_benchmark_withgrade,\n",
    "              'Y_dict_benchmark_withgrade': Y_dict_benchmark_withgrade, \n",
    "              'X_dict_benchmark_nograde': X_dict_benchmark_nograde, \n",
    "              'Y_dict_benchmark_nograde': Y_dict_benchmark_nograde, \n",
    "              'X_dict_withgrade': X_dict_withgrade, \n",
    "              'Y_dict_withgrade': Y_dict_withgrade, \n",
    "              'X_dict_nograde': X_dict_nograde, \n",
    "              'Y_dict_nograde': Y_dict_nograde, \n",
    "              'list_fail': list_fail}\n",
    "    \n",
    "    save_pickle(output, save_path)\n",
    "    print('result saved.')\n",
    "    return output"
   ]
  },
  {
   "cell_type": "code",
   "execution_count": 172,
   "metadata": {},
   "outputs": [],
   "source": [
    "grade_map = get_grade_map()"
   ]
  },
  {
   "cell_type": "code",
   "execution_count": 181,
   "metadata": {},
   "outputs": [
    {
     "data": {
      "text/plain": [
       "['307940',\n",
       " '307837',\n",
       " '307748',\n",
       " '307711',\n",
       " '307661',\n",
       " '307602',\n",
       " '307599',\n",
       " '304387']"
      ]
     },
     "execution_count": 181,
     "metadata": {},
     "output_type": "execute_result"
    }
   ],
   "source": [
    "output_xy_mode['list_fail']"
   ]
  },
  {
   "cell_type": "code",
   "execution_count": 186,
   "metadata": {},
   "outputs": [
    {
     "name": "stdout",
     "output_type": "stream",
     "text": [
      "Raw data with key 307940 contains error\n",
      "Raw data with key 307837 contains error\n",
      "Raw data with key 307748 contains error\n",
      "Raw data with key 307711 contains error\n",
      "Raw data with key 307661 contains error\n",
      "Raw data with key 307602 contains error\n",
      "Raw data with key 307599 contains error\n",
      "Raw data with key 304387 contains error\n",
      "result saved.\n"
     ]
    }
   ],
   "source": [
    "save_path = cwd + '/processed_data_deltaxy_mode'\n",
    "output_deltaxy_mode = classify_and_reorganize_data(MoonBoard_2016_raw, save_path, delta_xy_mode = False)"
   ]
  },
  {
   "cell_type": "code",
   "execution_count": 187,
   "metadata": {},
   "outputs": [
    {
     "name": "stdout",
     "output_type": "stream",
     "text": [
      "Raw data with key 307940 contains error\n",
      "Raw data with key 307837 contains error\n",
      "Raw data with key 307748 contains error\n",
      "Raw data with key 307711 contains error\n",
      "Raw data with key 307661 contains error\n",
      "Raw data with key 307602 contains error\n",
      "Raw data with key 307599 contains error\n",
      "Raw data with key 304387 contains error\n",
      "result saved.\n"
     ]
    }
   ],
   "source": [
    "save_path = cwd + '/processed_data_xy_mode'\n",
    "output_xy_mode = classify_and_reorganize_data(MoonBoard_2016_raw, save_path, delta_xy_mode = False)"
   ]
  }
 ],
 "metadata": {
  "kernelspec": {
   "display_name": "Python 3",
   "language": "python",
   "name": "python3"
  },
  "language_info": {
   "codemirror_mode": {
    "name": "ipython",
    "version": 3
   },
   "file_extension": ".py",
   "mimetype": "text/x-python",
   "name": "python",
   "nbconvert_exporter": "python",
   "pygments_lexer": "ipython3",
   "version": "3.7.4"
  }
 },
 "nbformat": 4,
 "nbformat_minor": 4
}
