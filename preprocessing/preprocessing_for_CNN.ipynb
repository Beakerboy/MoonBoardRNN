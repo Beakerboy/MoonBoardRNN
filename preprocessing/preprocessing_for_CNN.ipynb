{
 "cells": [
  {
   "cell_type": "code",
   "execution_count": 3,
   "metadata": {},
   "outputs": [],
   "source": [
    "import os\n",
    "import numpy as np\n",
    "import pandas as pd\n",
    "import pickle"
   ]
  },
  {
   "cell_type": "code",
   "execution_count": 4,
   "metadata": {},
   "outputs": [],
   "source": [
    "def save_pickle(data, file_name):\n",
    "    \"\"\"\n",
    "    Saves data as pickle format\n",
    "    \"\"\"\n",
    "    with open(file_name, 'wb') as f:\n",
    "        pickle.dump(data, f)\n",
    "    return None"
   ]
  },
  {
   "cell_type": "code",
   "execution_count": 5,
   "metadata": {},
   "outputs": [],
   "source": [
    "cwd = os.getcwd()\n",
    "parent_wd = cwd.replace('/preprocessing', '')\n",
    "hold_feature_path = parent_wd + '/raw_data/HoldFeature2016.csv'\n",
    "training_set_path = parent_wd + '/preprocessing/training_set'\n",
    "dev_set_path = parent_wd + '/preprocessing/dev_set'\n",
    "test_set_path = parent_wd + '/preprocessing/test_set'"
   ]
  },
  {
   "cell_type": "code",
   "execution_count": 6,
   "metadata": {},
   "outputs": [],
   "source": [
    "with open(training_set_path, 'rb') as f:\n",
    "    training_set = pickle.load(f)\n",
    "with open(dev_set_path, 'rb') as f:\n",
    "    dev_set = pickle.load(f)\n",
    "with open(test_set_path, 'rb') as f:\n",
    "    test_set = pickle.load(f)"
   ]
  },
  {
   "cell_type": "code",
   "execution_count": 7,
   "metadata": {},
   "outputs": [],
   "source": [
    "features = pd.read_csv(hold_feature_path, dtype=str)\n",
    "\n",
    "# convert features from pd dataframe to dictionary\n",
    "feature_dict = {}\n",
    "for index in features.index:\n",
    "    feature_item = features.loc[index]\n",
    "    feature_dict[(int(feature_item['X_coord']), int(feature_item['Y_coord']))] = np.array(\n",
    "        list(feature_item['Difficulties'])).astype(int)"
   ]
  },
  {
   "cell_type": "code",
   "execution_count": 23,
   "metadata": {},
   "outputs": [],
   "source": [
    "feature_matrix_normalized = np.zeros((11, 18, 6))\n",
    "for key, values in feature_dict.items():\n",
    "    feature_matrix_normalized[key[0], key[1], :] = values"
   ]
  },
  {
   "cell_type": "code",
   "execution_count": 24,
   "metadata": {},
   "outputs": [],
   "source": [
    "for i in range(6):\n",
    "    mu = np.mean(feature_matrix_normalized[:, :, i])\n",
    "    std = np.std(feature_matrix_normalized[:, :, i])\n",
    "    feature_matrix_normalized[:, :, i] -= mu\n",
    "    feature_matrix_normalized[:, :, i] /= std"
   ]
  },
  {
   "cell_type": "code",
   "execution_count": 87,
   "metadata": {},
   "outputs": [],
   "source": [
    "def prep_for_cnn(input_set, feature_matrix_normalized):\n",
    "    n_sample = len(input_set['Y'])\n",
    "    X_cnn = np.zeros((n_sample, 11, 18, 9))\n",
    "    for i in range(n_sample):\n",
    "        coordinate = input_set['X'][i][0:int(input_set['tmax'][i]), 6:8]\n",
    "        X_cnn[i, coordinate[:, 0].astype(int), coordinate[:, 1].astype(int), 0] = 1\n",
    "        [start_arg] = np.where(input_set['X'][i][0:int(input_set['tmax'][i]), 8] == 1)\n",
    "        [end_arg] = np.where(input_set['X'][i][0:int(input_set['tmax'][i]), 9] == 1)\n",
    "        X_cnn[i, coordinate[start_arg][:, 0].astype(int), coordinate[start_arg][:, 1].astype(int), 1] = 1\n",
    "        X_cnn[i, coordinate[end_arg][:, 0].astype(int), coordinate[end_arg][:, 1].astype(int), 2] = 1\n",
    "        X_cnn[i, :, :, 3:] = feature_matrix_normalized\n",
    "    output_set = input_set\n",
    "    output_set['X'] = X_cnn\n",
    "    return output_set"
   ]
  },
  {
   "cell_type": "code",
   "execution_count": 88,
   "metadata": {},
   "outputs": [],
   "source": [
    "training_set_cnn = prep_for_cnn(training_set, feature_matrix_normalized)\n",
    "dev_set_cnn = prep_for_cnn(dev_set, feature_matrix_normalized)\n",
    "test_set_cnn = prep_for_cnn(test_set, feature_matrix_normalized)"
   ]
  },
  {
   "cell_type": "code",
   "execution_count": 90,
   "metadata": {},
   "outputs": [],
   "source": [
    "training_cnn_set_path = parent_wd + '/preprocessing/training_set_cnn'\n",
    "dev_cnn_set_path = parent_wd + '/preprocessing/dev_set_cnn'\n",
    "test_cnn_set_path = parent_wd + '/preprocessing/test_set_cnn'\n",
    "save_pickle(training_set_cnn, training_cnn_set_path)\n",
    "save_pickle(dev_set_cnn, dev_cnn_set_path)\n",
    "save_pickle(test_set_cnn, test_cnn_set_path)"
   ]
  },
  {
   "cell_type": "code",
   "execution_count": null,
   "metadata": {},
   "outputs": [],
   "source": []
  }
 ],
 "metadata": {
  "kernelspec": {
   "display_name": "Python 3",
   "language": "python",
   "name": "python3"
  },
  "language_info": {
   "codemirror_mode": {
    "name": "ipython",
    "version": 3
   },
   "file_extension": ".py",
   "mimetype": "text/x-python",
   "name": "python",
   "nbconvert_exporter": "python",
   "pygments_lexer": "ipython3",
   "version": "3.7.4"
  }
 },
 "nbformat": 4,
 "nbformat_minor": 4
}
