{
 "cells": [
  {
   "cell_type": "markdown",
   "metadata": {},
   "source": [
    "## Moonboard Sequence Simulator"
   ]
  },
  {
   "cell_type": "raw",
   "metadata": {},
   "source": [
    "MoonboardSequenceSimulator\n",
    "    Input:\n",
    "    - Single moonboard problem from \"MoonBoard_2016_raw\" to get url\n",
    "    - processed data processed_data_xy_mode. It will be neater to read directly from \"MoonBoard_2016_raw\" [(six hand feature) X, Y, isStart, isFinish]\n",
    "    - Table for each hold's right/left hand difficulty\n",
    "    \n",
    "    Output:\n",
    "    hand sequence generator:\n",
    "    - Predict a reasonable hand sequence for each problem. \n",
    "    - i.e. 5B-R (Start) 7C-L (Start) 6A-R 8B-L 9C-L ... 18B-L 18B-R(Finished)\n",
    "    - return an array with [RH, RH, LH,......] and all holds in used along the way    \n",
    "    move sequence generator:\n",
    "    - A list of moves. [move1, move2, move3...]\n",
    "    - Each move is a dictionary.\n",
    "    i.e. {'TargetHoldString': 'F6', 'TargetHoldHand': 'RH', 'TargetHoldScore': array([1]), 'RemainingHoldString': 'B4', 'RemainingHoldHand': 'LH', 'RemainingHoldScore': array([6]), 'dxdyRtoT': (4.0, 2.0), 'MovingHoldString': 'D3', 'MovingHoldHand': 'RH', 'MovingHoldScore': array([3]), 'dxdyMtoT': (2.0, 3.0), 'FootPlacement': [0, 0, 0, 1, 1, 1, 0]}\n",
    "    \n",
    "Author: Yi-Shiou Duh (allenduh@stanford.edu)"
   ]
  },
  {
   "cell_type": "code",
   "execution_count": 1,
   "metadata": {},
   "outputs": [],
   "source": [
    "import numpy as np\n",
    "import os\n",
    "import copy\n",
    "import pickle\n",
    "import heapq\n",
    "import matplotlib.pyplot as plt\n",
    "import pandas as pd\n",
    "from preprocessing_helper import *"
   ]
  },
  {
   "cell_type": "code",
   "execution_count": 2,
   "metadata": {},
   "outputs": [],
   "source": [
    "cwd = os.getcwd()\n",
    "parent_wd = cwd.replace('/preprocessing', '')\n",
    "raw_data_path = parent_wd + '/preprocessing/processed_data_xy_mode'  \n",
    "url_data_path = parent_wd + '/raw_data/moonGen_scrape_2016_cp'\n",
    "left_hold_feature_path = parent_wd + '/raw_data/HoldFeature2016LeftHand.csv'\n",
    "right_hold_feature_path = parent_wd + '/raw_data/HoldFeature2016RightHand.csv'"
   ]
  },
  {
   "cell_type": "markdown",
   "metadata": {},
   "source": [
    "## 1. Read all preprocessed data\n"
   ]
  },
  {
   "cell_type": "markdown",
   "metadata": {},
   "source": [
    "### 1-1. Read hand feature files"
   ]
  },
  {
   "cell_type": "code",
   "execution_count": 3,
   "metadata": {},
   "outputs": [],
   "source": [
    "LeftHandfeatures = pd.read_csv(left_hold_feature_path, dtype=str)\n",
    "RightHandfeatures = pd.read_csv(right_hold_feature_path, dtype=str)\n",
    "\n",
    "# convert features from pd dataframe to dictionary of left and right hand\n",
    "RightHandfeature_dict = {}\n",
    "LeftHandfeature_dict = {}\n",
    "for index in RightHandfeatures.index:\n",
    "    LeftHandfeature_item = LeftHandfeatures.loc[index]\n",
    "    LeftHandfeature_dict[(int(LeftHandfeature_item['X_coord']), int(LeftHandfeature_item['Y_coord']))] = np.array(\n",
    "        list(LeftHandfeature_item['Difficulties'])).astype(int)\n",
    "    RightHandfeature_item = RightHandfeatures.loc[index]\n",
    "    RightHandfeature_dict[(int(RightHandfeature_item['X_coord']), int(RightHandfeature_item['Y_coord']))] = np.array(\n",
    "        list(RightHandfeature_item['Difficulties'])).astype(int)"
   ]
  },
  {
   "cell_type": "markdown",
   "metadata": {},
   "source": [
    "### 1-2. Read moonboard problems with url file"
   ]
  },
  {
   "cell_type": "code",
   "execution_count": 4,
   "metadata": {},
   "outputs": [],
   "source": [
    "with open(url_data_path, 'rb') as f:\n",
    "    MoonBoard_2016_withurl = pickle.load(f)"
   ]
  },
  {
   "cell_type": "markdown",
   "metadata": {},
   "source": [
    "### 1-3. Read preprocessed moonboard problem"
   ]
  },
  {
   "cell_type": "code",
   "execution_count": 5,
   "metadata": {},
   "outputs": [],
   "source": [
    "with open(raw_data_path, 'rb') as f:\n",
    "    MoonBoard_2016_raw = pickle.load(f)  "
   ]
  },
  {
   "cell_type": "markdown",
   "metadata": {},
   "source": [
    "#### Here you can see the possible range of next right hand using sum of two Gaussisan. Remaining left hand in origin"
   ]
  },
  {
   "cell_type": "code",
   "execution_count": 6,
   "metadata": {},
   "outputs": [
    {
     "data": {
      "image/png": "[encoded data removed]",
      "text/plain": [
       "<Figure size 432x288 with 2 Axes>"
      ]
     },
     "metadata": {
      "needs_background": "light"
     },
     "output_type": "display_data"
    }
   ],
   "source": [
    "xlist = np.linspace(-2,6, 100)\n",
    "ylist = np.linspace(-2,6, 100)\n",
    "X, Y = np.meshgrid(xlist, ylist)\n",
    "Z = makeGaussian((X,Y), 3, (0,0))\n",
    "fig,ax=plt.subplots(1,1)\n",
    "cp = ax.contourf(X, Y, Z)\n",
    "fig.colorbar(cp) # Add a colorbar to a plot\n",
    "ax.set_title('Filled Contours Plot')\n",
    "ax.set_ylabel('y (cm)')\n",
    "plt.show()"
   ]
  },
  {
   "cell_type": "markdown",
   "metadata": {},
   "source": [
    "## 2. Demonstration of detailed analysis on a single problem"
   ]
  },
  {
   "cell_type": "markdown",
   "metadata": {},
   "source": [
    "### 2-1. load one specific problem"
   ]
  },
  {
   "cell_type": "code",
   "execution_count": 7,
   "metadata": {},
   "outputs": [],
   "source": [
    "keyNum = \"342797\"    \n",
    "moonboardTest = (MoonBoard_2016_raw[\"X_dict_withgrade\"])[keyNum]"
   ]
  },
  {
   "cell_type": "code",
   "execution_count": 8,
   "metadata": {},
   "outputs": [
    {
     "name": "stdout",
     "output_type": "stream",
     "text": [
      "keyNum =  342797\n",
      "[[ 5.  4.  9.  4.  1.  1.  5.  4.  1.  0.]\n",
      " [ 0.  2.  4.  2.  0.  0.  4.  7.  0.  0.]\n",
      " [ 1.  5.  2.  0.  0.  0.  0.  8.  0.  0.]\n",
      " [ 0.  0.  4.  9.  4.  0.  7.  9.  0.  0.]\n",
      " [ 0.  0.  6.  4.  4.  0.  3. 11.  0.  0.]\n",
      " [ 0.  3.  6.  3.  0.  0.  4. 12.  0.  0.]\n",
      " [ 1.  4.  3.  1.  0.  0.  2. 14.  0.  0.]\n",
      " [ 2.  5.  2.  1.  0.  0.  1. 15.  0.  0.]\n",
      " [ 2.  6.  8.  6.  2.  0.  3. 17.  0.  1.]]\n",
      "https://moonboard.com/Problems/View/342797/chats\n"
     ]
    }
   ],
   "source": [
    "testbeta = beta(moonboardTest.T)\n",
    "status = [beta(moonboardTest.T), beta(moonboardTest.T)]\n",
    "print(\"keyNum = \", keyNum)\n",
    "print(status[0].allHolds)\n",
    "moonboardTestUrl = MoonBoard_2016_withurl[keyNum]\n",
    "print(moonboardTestUrl[\"url\"])\n",
    "# Initialized Start hold of two different beta\n",
    "status[0].addStartHolds(0)\n",
    "status[1].addStartHolds(1)\n",
    "\n",
    "operationList = [\"RH\", \"LH\"]\n",
    "tempstatus = []\n",
    "tempstatus2 = []\n",
    "tempstatus3 = []\n",
    "distanceScore = []"
   ]
  },
  {
   "cell_type": "markdown",
   "metadata": {},
   "source": [
    "### 2-2. Beamer search process "
   ]
  },
  {
   "cell_type": "code",
   "execution_count": 9,
   "metadata": {},
   "outputs": [
    {
     "name": "stdout",
     "output_type": "stream",
     "text": [
      "0\n",
      "[0, 0, 1] ['LH', 'RH', 'LH'] [147.09694124]\n",
      "[0, 0, 1] ['LH', 'RH', 'LH'] [147.09694124]\n",
      "[0, 0, 1] ['LH', 'RH', 'RH'] [92.60035394]\n",
      "[0, 0, 1] ['LH', 'RH', 'RH'] [92.60035394]\n",
      "[0, 0, 2] ['LH', 'RH', 'LH'] [65.32602493]\n",
      "[0, 0, 2] ['LH', 'RH', 'LH'] [65.32602493]\n",
      "[0, 0, 3] ['LH', 'RH', 'RH'] [54.2957249]\n",
      "[0, 0, 3] ['LH', 'RH', 'RH'] [54.2957249]\n",
      "1\n",
      "[0, 0, 1, 3] ['LH', 'RH', 'LH', 'RH'] [207.39931721]\n",
      "[0, 0, 1, 3] ['LH', 'RH', 'LH', 'RH'] [207.39931721]\n",
      "[0, 0, 1, 2] ['LH', 'RH', 'RH', 'LH'] [106.39664984]\n",
      "[0, 0, 1, 2] ['LH', 'RH', 'RH', 'LH'] [106.39664984]\n",
      "[0, 0, 2, 4] ['LH', 'RH', 'LH', 'RH'] [58.83563347]\n",
      "[0, 0, 2, 4] ['LH', 'RH', 'LH', 'RH'] [58.83563347]\n",
      "[0, 0, 3, 4] ['LH', 'RH', 'RH', 'LH'] [57.45155419]\n",
      "[0, 0, 3, 4] ['LH', 'RH', 'RH', 'LH'] [57.45155419]\n",
      "2\n",
      "[0, 0, 1, 3, 4] ['LH', 'RH', 'LH', 'RH', 'LH'] [165.96935332]\n",
      "[0, 0, 1, 3, 4] ['LH', 'RH', 'LH', 'RH', 'LH'] [165.96935332]\n",
      "[0, 0, 1, 3, 5] ['LH', 'RH', 'LH', 'RH', 'LH'] [151.39323371]\n",
      "[0, 0, 1, 3, 5] ['LH', 'RH', 'LH', 'RH', 'LH'] [151.39323371]\n",
      "[0, 0, 1, 2, 4] ['LH', 'RH', 'RH', 'LH', 'RH'] [88.7570727]\n",
      "[0, 0, 1, 2, 4] ['LH', 'RH', 'RH', 'LH', 'RH'] [88.7570727]\n",
      "[0, 0, 3, 4, 5] ['LH', 'RH', 'RH', 'LH', 'LH'] [54.2128243]\n",
      "[0, 0, 3, 4, 5] ['LH', 'RH', 'RH', 'LH', 'LH'] [54.2128243]\n",
      "3\n",
      "[0, 0, 1, 3, 4, 5] ['LH', 'RH', 'LH', 'RH', 'LH', 'LH'] [132.5074891]\n",
      "[0, 0, 1, 3, 4, 5] ['LH', 'RH', 'LH', 'RH', 'LH', 'LH'] [132.5074891]\n",
      "[0, 0, 1, 3, 5, 4] ['LH', 'RH', 'LH', 'RH', 'LH', 'LH'] [132.5074891]\n",
      "[0, 0, 1, 3, 5, 4] ['LH', 'RH', 'LH', 'RH', 'LH', 'LH'] [132.5074891]\n",
      "[0, 0, 1, 3, 4, 5] ['LH', 'RH', 'LH', 'RH', 'LH', 'RH'] [115.1675644]\n",
      "[0, 0, 1, 3, 4, 5] ['LH', 'RH', 'LH', 'RH', 'LH', 'RH'] [115.1675644]\n",
      "[0, 0, 1, 3, 5, 4] ['LH', 'RH', 'LH', 'RH', 'LH', 'RH'] [77.79677112]\n",
      "[0, 0, 1, 3, 5, 4] ['LH', 'RH', 'LH', 'RH', 'LH', 'RH'] [77.79677112]\n",
      "4\n",
      "[0, 0, 1, 3, 4, 5, 6] ['LH', 'RH', 'LH', 'RH', 'LH', 'RH', 'LH'] [90.48878654]\n",
      "[0, 0, 1, 3, 4, 5, 6] ['LH', 'RH', 'LH', 'RH', 'LH', 'RH', 'LH'] [90.48878654]\n",
      "[0, 0, 1, 3, 4, 5, 7] ['LH', 'RH', 'LH', 'RH', 'LH', 'RH', 'LH'] [86.60782784]\n",
      "[0, 0, 1, 3, 4, 5, 7] ['LH', 'RH', 'LH', 'RH', 'LH', 'RH', 'LH'] [86.60782784]\n",
      "[0, 0, 1, 3, 4, 5, 6] ['LH', 'RH', 'LH', 'RH', 'LH', 'LH', 'RH'] [39.05780069]\n",
      "[0, 0, 1, 3, 4, 5, 6] ['LH', 'RH', 'LH', 'RH', 'LH', 'LH', 'RH'] [39.05780069]\n",
      "[0, 0, 1, 3, 5, 4, 6] ['LH', 'RH', 'LH', 'RH', 'LH', 'RH', 'LH'] [34.75499611]\n",
      "[0, 0, 1, 3, 5, 4, 6] ['LH', 'RH', 'LH', 'RH', 'LH', 'RH', 'LH'] [34.75499611]\n",
      "5\n",
      "[0, 0, 1, 3, 4, 5, 7, 8] ['LH', 'RH', 'LH', 'RH', 'LH', 'RH', 'LH', 'RH'] [98.50396893]\n",
      "[0, 0, 1, 3, 4, 5, 7, 8] ['LH', 'RH', 'LH', 'RH', 'LH', 'RH', 'LH', 'RH'] [98.50396893]\n",
      "[0, 0, 1, 3, 4, 5, 6, 7] ['LH', 'RH', 'LH', 'RH', 'LH', 'RH', 'LH', 'LH'] [72.67504096]\n",
      "[0, 0, 1, 3, 4, 5, 6, 7] ['LH', 'RH', 'LH', 'RH', 'LH', 'RH', 'LH', 'LH'] [72.67504096]\n",
      "[0, 0, 1, 3, 4, 5, 7, 6] ['LH', 'RH', 'LH', 'RH', 'LH', 'RH', 'LH', 'LH'] [72.67504096]\n",
      "[0, 0, 1, 3, 4, 5, 7, 6] ['LH', 'RH', 'LH', 'RH', 'LH', 'RH', 'LH', 'LH'] [72.67504096]\n",
      "[0, 0, 1, 3, 4, 5, 6, 8] ['LH', 'RH', 'LH', 'RH', 'LH', 'RH', 'LH', 'RH'] [59.46450015]\n",
      "[0, 0, 1, 3, 4, 5, 6, 8] ['LH', 'RH', 'LH', 'RH', 'LH', 'RH', 'LH', 'RH'] [59.46450015]\n",
      "6\n",
      "[0, 0, 1, 3, 4, 5, 7, 8] ['LH', 'RH', 'LH', 'RH', 'LH', 'RH', 'LH', 'RH'] [98.50396893]\n",
      "[0, 0, 1, 3, 4, 5, 7, 8] ['LH', 'RH', 'LH', 'RH', 'LH', 'RH', 'LH', 'RH'] [98.50396893]\n",
      "[0, 0, 1, 3, 4, 5, 7, 8] ['LH', 'RH', 'LH', 'RH', 'LH', 'RH', 'LH', 'RH'] [98.50396893]\n",
      "[0, 0, 1, 3, 4, 5, 7, 8] ['LH', 'RH', 'LH', 'RH', 'LH', 'RH', 'LH', 'RH'] [98.50396893]\n",
      "[0, 0, 1, 3, 4, 5, 7, 8] ['LH', 'RH', 'LH', 'RH', 'LH', 'RH', 'LH', 'RH'] [98.50396893]\n",
      "[0, 0, 1, 3, 4, 5, 7, 8] ['LH', 'RH', 'LH', 'RH', 'LH', 'RH', 'LH', 'RH'] [98.50396893]\n",
      "[0, 0, 1, 3, 4, 5, 7, 8] ['LH', 'RH', 'LH', 'RH', 'LH', 'RH', 'LH', 'RH'] [98.50396893]\n",
      "[0, 0, 1, 3, 4, 5, 7, 8] ['LH', 'RH', 'LH', 'RH', 'LH', 'RH', 'LH', 'RH'] [98.50396893]\n",
      "7\n",
      "[0, 0, 1, 3, 4, 5, 7, 8] ['LH', 'RH', 'LH', 'RH', 'LH', 'RH', 'LH', 'RH'] [98.50396893]\n",
      "[0, 0, 1, 3, 4, 5, 7, 8] ['LH', 'RH', 'LH', 'RH', 'LH', 'RH', 'LH', 'RH'] [98.50396893]\n",
      "[0, 0, 1, 3, 4, 5, 7, 8] ['LH', 'RH', 'LH', 'RH', 'LH', 'RH', 'LH', 'RH'] [98.50396893]\n",
      "[0, 0, 1, 3, 4, 5, 7, 8] ['LH', 'RH', 'LH', 'RH', 'LH', 'RH', 'LH', 'RH'] [98.50396893]\n",
      "[0, 0, 1, 3, 4, 5, 7, 8] ['LH', 'RH', 'LH', 'RH', 'LH', 'RH', 'LH', 'RH'] [98.50396893]\n",
      "[0, 0, 1, 3, 4, 5, 7, 8] ['LH', 'RH', 'LH', 'RH', 'LH', 'RH', 'LH', 'RH'] [98.50396893]\n",
      "[0, 0, 1, 3, 4, 5, 7, 8] ['LH', 'RH', 'LH', 'RH', 'LH', 'RH', 'LH', 'RH'] [98.50396893]\n",
      "[0, 0, 1, 3, 4, 5, 7, 8] ['LH', 'RH', 'LH', 'RH', 'LH', 'RH', 'LH', 'RH'] [98.50396893]\n"
     ]
    }
   ],
   "source": [
    "# Run the algorithm for 6 times\n",
    "totalRun = status[0].totalNumOfHold - 1\n",
    "for i in range(totalRun):  # how many new move you wan to add\n",
    "    print (i)\n",
    "    status = addNewBeta(status)\n",
    "    finalScore = [] \n",
    "    for i in status:   \n",
    "        finalScore.append(i.overallSuccessRate())\n",
    "    largestIndex = heapq.nlargest(4, range(len(finalScore)), key=finalScore.__getitem__)\n",
    "    if (status[largestIndex[0]].isFinished and status[largestIndex[1]].isFinished) == True:\n",
    "        break"
   ]
  },
  {
   "cell_type": "code",
   "execution_count": 10,
   "metadata": {},
   "outputs": [
    {
     "name": "stdout",
     "output_type": "stream",
     "text": [
      "[<preprocessing_helper.beta object at 0x126e17ad0>, <preprocessing_helper.beta object at 0x126e17f50>, <preprocessing_helper.beta object at 0x126e17950>, <preprocessing_helper.beta object at 0x126e171d0>, <preprocessing_helper.beta object at 0x126e25cd0>, <preprocessing_helper.beta object at 0x126e25150>, <preprocessing_helper.beta object at 0x126e25650>, <preprocessing_helper.beta object at 0x126e256d0>]\n"
     ]
    }
   ],
   "source": [
    "# last sorting for the best 5\n",
    "finalScore = [] \n",
    "print(status)\n",
    "for i in status:   \n",
    "    finalScore.append(i.overallSuccessRate())   \n",
    "largestIndex = heapq.nlargest(4, range(len(finalScore)), key=finalScore.__getitem__)"
   ]
  },
  {
   "cell_type": "code",
   "execution_count": 11,
   "metadata": {},
   "outputs": [
    {
     "name": "stdout",
     "output_type": "stream",
     "text": [
      "https://moonboard.com/Problems/View/342797/chats\n",
      "After Beamer search, the most possible hand sequence and the successRate:\n",
      "[0, 0, 1, 3, 4, 5, 7, 8] ['LH', 'RH', 'LH', 'RH', 'LH', 'RH', 'LH', 'RH'] [98.50396893]\n",
      "[0, 0, 1, 3, 4, 5, 7, 8] ['LH', 'RH', 'LH', 'RH', 'LH', 'RH', 'LH', 'RH'] [98.50396893]\n",
      "[0, 0, 1, 3, 4, 5, 7, 8] ['LH', 'RH', 'LH', 'RH', 'LH', 'RH', 'LH', 'RH'] [98.50396893]\n",
      "[0, 0, 1, 3, 4, 5, 7, 8] ['LH', 'RH', 'LH', 'RH', 'LH', 'RH', 'LH', 'RH'] [98.50396893]\n"
     ]
    }
   ],
   "source": [
    "print(moonboardTestUrl[\"url\"])\n",
    "print (\"After Beamer search, the most possible hand sequence and the successRate:\")\n",
    "for i in largestIndex:\n",
    "    print(status[i].handSequence, status[i].handOperator, status[i].overallSuccessRate())    "
   ]
  },
  {
   "cell_type": "markdown",
   "metadata": {},
   "source": [
    "### 2-3. Here you can find one problem's best hand sequence. Feel free to change key to see other result\n",
    "\n",
    "To find other keys, try MoonBoard_2016_raw[\"X_dict_benchmark_withgrade\"].keys()"
   ]
  },
  {
   "cell_type": "code",
   "execution_count": 12,
   "metadata": {},
   "outputs": [
    {
     "name": "stdout",
     "output_type": "stream",
     "text": [
      "https://moonboard.com/Problems/View/20149/ladybug\n",
      "After Beamer search, the most possible hand sequence and the successRate:\n",
      "['J5', 'G6', 'A9', 'F11', 'C13', 'A14', 'D18']\n",
      "[0, 1, 2, 4, 5, 6, 7] ['LH', 'RH', 'LH', 'RH', 'LH', 'LH', 'RH'] [6.55920813]\n"
     ]
    },
    {
     "data": {
      "text/plain": [
       "{0: <preprocessing_helper.beta at 0x126e257d0>}"
      ]
     },
     "execution_count": 12,
     "metadata": {},
     "output_type": "execute_result"
    }
   ],
   "source": [
    "produce_sequence(\"20149\", MoonBoard_2016_raw[\"X_dict_benchmark_withgrade\"], n_return = 1, printout = True)"
   ]
  },
  {
   "cell_type": "markdown",
   "metadata": {},
   "source": [
    "#### I check the hand sequence of 20 problem. 90% are exactly same with human's prediction. Other 10% are acceptable sequence. Next we will start generate move sequence"
   ]
  },
  {
   "cell_type": "markdown",
   "metadata": {},
   "source": [
    "## 3. Process the entire dataset and save the results"
   ]
  },
  {
   "cell_type": "code",
   "execution_count": 22,
   "metadata": {
    "scrolled": true
   },
   "outputs": [
    {
     "name": "stdout",
     "output_type": "stream",
     "text": [
      "result saved.\n",
      "[]\n"
     ]
    }
   ],
   "source": [
    "save_path = cwd + '/benchmark_withgrade_move_seq_X'\n",
    "processed_data = MoonBoard_2016_raw[\"X_dict_benchmark_withgrade\"]\n",
    "output, fail_list = moveGeneratorForAllProblem(processed_data, save_path, print_result = False)\n",
    "print(fail_list)"
   ]
  },
  {
   "cell_type": "code",
   "execution_count": 23,
   "metadata": {
    "scrolled": true
   },
   "outputs": [
    {
     "name": "stdout",
     "output_type": "stream",
     "text": [
      "result saved.\n",
      "[]\n"
     ]
    }
   ],
   "source": [
    "save_path = cwd + '/benchmark_withgrade_move_seq_Y'\n",
    "processed_data_Y = MoonBoard_2016_raw[\"Y_dict_benchmark_withgrade\"]\n",
    "output, fail_list = gradeTransFromFontToV(processed_data_Y, save_path)\n",
    "print(fail_list)"
   ]
  },
  {
   "cell_type": "code",
   "execution_count": 24,
   "metadata": {
    "scrolled": true
   },
   "outputs": [
    {
     "name": "stdout",
     "output_type": "stream",
     "text": [
      "result saved.\n",
      "[]\n"
     ]
    }
   ],
   "source": [
    "save_path = cwd + '/benchmark_nograde_move_seq_X'\n",
    "processed_data = MoonBoard_2016_raw[\"X_dict_benchmark_nograde\"]\n",
    "output, fail_list = moveGeneratorForAllProblem(processed_data, save_path, print_result = False)\n",
    "print(fail_list)"
   ]
  },
  {
   "cell_type": "code",
   "execution_count": 25,
   "metadata": {},
   "outputs": [
    {
     "name": "stdout",
     "output_type": "stream",
     "text": [
      "result saved.\n",
      "[]\n"
     ]
    }
   ],
   "source": [
    "save_path = cwd + '/benchmark_nograde_move_seq_Y'\n",
    "processed_data_Y = MoonBoard_2016_raw[\"Y_dict_benchmark_nograde\"]\n",
    "output, fail_list = gradeTransFromFontToV(processed_data_Y, save_path)\n",
    "print(fail_list)"
   ]
  },
  {
   "cell_type": "code",
   "execution_count": 26,
   "metadata": {},
   "outputs": [
    {
     "name": "stdout",
     "output_type": "stream",
     "text": [
      "Raw data with key 19362 contains error\n",
      "result saved.\n",
      "['19362']\n"
     ]
    }
   ],
   "source": [
    "save_path = cwd + '/nonbenchmark_withgrade_move_seq_X'\n",
    "processed_data = MoonBoard_2016_raw[\"X_dict_withgrade\"]\n",
    "output, fail_list = moveGeneratorForAllProblem(processed_data, save_path, print_result = False)\n",
    "print(fail_list)"
   ]
  },
  {
   "cell_type": "code",
   "execution_count": 27,
   "metadata": {},
   "outputs": [
    {
     "name": "stdout",
     "output_type": "stream",
     "text": [
      "result saved.\n",
      "[]\n"
     ]
    }
   ],
   "source": [
    "save_path = cwd + '/nonbenchmark_withgrade_move_seq_Y'\n",
    "processed_data_Y = MoonBoard_2016_raw[\"Y_dict_withgrade\"]\n",
    "output, fail_list = gradeTransFromFontToV(processed_data_Y, save_path)\n",
    "print(fail_list)"
   ]
  },
  {
   "cell_type": "code",
   "execution_count": 28,
   "metadata": {},
   "outputs": [
    {
     "name": "stdout",
     "output_type": "stream",
     "text": [
      "result saved.\n",
      "[]\n"
     ]
    }
   ],
   "source": [
    "save_path = cwd + '/nonbenchmark_nograde_move_seq_X'\n",
    "processed_data = MoonBoard_2016_raw[\"X_dict_nograde\"]\n",
    "output, fail_list = moveGeneratorForAllProblem(processed_data, save_path, print_result = False)\n",
    "print(fail_list)"
   ]
  },
  {
   "cell_type": "code",
   "execution_count": 29,
   "metadata": {},
   "outputs": [
    {
     "name": "stdout",
     "output_type": "stream",
     "text": [
      "key 363336 failed.\n",
      "key 363335 failed.\n",
      "key 350368 failed.\n",
      "key 349610 failed.\n",
      "key 349049 failed.\n",
      "key 348915 failed.\n",
      "key 348858 failed.\n",
      "key 348670 failed.\n",
      "key 348669 failed.\n",
      "key 348432 failed.\n",
      "key 346738 failed.\n",
      "key 344743 failed.\n",
      "key 339916 failed.\n",
      "key 339325 failed.\n",
      "key 337916 failed.\n",
      "key 335566 failed.\n",
      "key 312004 failed.\n",
      "key 310949 failed.\n",
      "key 309657 failed.\n",
      "key 309311 failed.\n",
      "key 248997 failed.\n",
      "key 246092 failed.\n",
      "key 231401 failed.\n",
      "key 231392 failed.\n",
      "result saved.\n",
      "['363336', '363335', '350368', '349610', '349049', '348915', '348858', '348670', '348669', '348432', '346738', '344743', '339916', '339325', '337916', '335566', '312004', '310949', '309657', '309311', '248997', '246092', '231401', '231392']\n"
     ]
    }
   ],
   "source": [
    "save_path = cwd + '/nonbenchmark_nograde_move_seq_Y'\n",
    "processed_data_Y = MoonBoard_2016_raw[\"Y_dict_nograde\"]\n",
    "output, fail_list = gradeTransFromFontToV(processed_data_Y, save_path)\n",
    "print(fail_list)"
   ]
  }
 ],
 "metadata": {
  "kernelspec": {
   "display_name": "Python 3",
   "language": "python",
   "name": "python3"
  },
  "language_info": {
   "codemirror_mode": {
    "name": "ipython",
    "version": 3
   },
   "file_extension": ".py",
   "mimetype": "text/x-python",
   "name": "python",
   "nbconvert_exporter": "python",
   "pygments_lexer": "ipython3",
   "version": "3.7.4"
  }
 },
 "nbformat": 4,
 "nbformat_minor": 4
}
