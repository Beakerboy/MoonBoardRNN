{
 "cells": [
  {
   "cell_type": "raw",
   "metadata": {},
   "source": [
    "MoonboardSequenceSimulator.py\n",
    "    Input:\n",
    "    - Single moonboard problem from \"MoonBoard_2016_raw\"\n",
    "    - Table for each hold's directional dificulty\n",
    "    \n",
    "    Output:\n",
    "    - Predict a reasonable hand sequence for each input. \n",
    "    - i.e. 5B-R (Start) 7C-L (Start) 6A-R 8B-L 9C-L ... 18B-L 18B-R(Finished)\n",
    "    - return an array with [RH, RH, LH,......] and all holds in used along the way\n",
    "    - The holds used the format [(six hand feature) X, Y, isStart, isFinish]\n",
    "\n",
    "Author: Yi-Shiou Duh (allenduh@stanford.edu)"
   ]
  },
  {
   "cell_type": "code",
   "execution_count": 1,
   "metadata": {},
   "outputs": [],
   "source": [
    "import numpy as np\n",
    "import os\n",
    "import copy\n",
    "import pickle\n",
    "import heapq\n",
    "import matplotlib.pyplot as plt\n",
    "from preprocessing_helper import *"
   ]
  },
  {
   "cell_type": "code",
   "execution_count": 2,
   "metadata": {},
   "outputs": [],
   "source": [
    "cwd = os.getcwd()\n",
    "parent_wd = cwd.replace('/preprocessing', '')\n",
    "raw_data_path = parent_wd + '/preprocessing/processed_data_deltaxy_mode'  \n",
    "url_data_path = parent_wd + '/raw_data/moonGen_scrape_2016_cp'"
   ]
  },
  {
   "cell_type": "code",
   "execution_count": 3,
   "metadata": {},
   "outputs": [],
   "source": [
    "with open(url_data_path, 'rb') as f:\n",
    "    MoonBoard_2016_withurl = pickle.load(f)"
   ]
  },
  {
   "cell_type": "code",
   "execution_count": 4,
   "metadata": {},
   "outputs": [
    {
     "data": {
      "text/plain": [
       "'\\n    Input:\\n    - xy_mode_processed_data: \\n      if set False(default), the x_vector compiled will be of shape (10, n_holds) (6 hold features, x, y, is_start, is_end)\\n      if set True, the x_vector compiled will be of shape (14, n_holds) (6 hold features, x, y, dx1, dy1, dx2, dy2, is_start, is_end)\\n    \\n    Classify and process the raw data into 4 caterogies/8 dictionaries:\\n    - X_dict_benchmark_withgrade: the input data that is benchmarked and contains user grading.\\n    - Y_dict_benchmark_withgrade: the output for raw data that is benchmarked and contains user grading.\\n    - X_dict_benchmark_nograde: the input data that is benchmarked and does not contain user grading.\\n    - Y_dict_benchmark_nograde: the output for raw data that is benchmarked and does not contain user grading.\\n    - X_dict_withgrade: the input data that is not benchmarked and contains user grading.\\n    - Y_dict_withgrade: the output for raw data that is not benchmarked and contains user grading.\\n    - X_dict_nograde: the input data that is not benchmarked and does not contain user grading.\\n    - Y_dict_nograde: the output for raw data that is not benchmarked and does not contain user grading.\\n    For the ones that do not have user grading, the shape of each item in Y_dict is (2, 1): (grade, is_benchmarked)\\n    For the ones that have user grading, the shape of each item in Y_dict is (3, 1): (grade, is_benchmarked, user_grade)\\n'"
      ]
     },
     "execution_count": 4,
     "metadata": {},
     "output_type": "execute_result"
    }
   ],
   "source": [
    "####################\n",
    "# Input hold information & load moonboard problem\n",
    "####################\n",
    "#raw_data_path1 = \"MoonBoardRNN/raw_data/moonGen_scrape_2016_cp\"  ### raw Data\n",
    "#raw_data_path = \"MoonBoardRNN/raw_data/processed_data_xy_mode\"\n",
    "with open(raw_data_path, 'rb') as f:\n",
    "    MoonBoard_2016_raw = pickle.load(f)\n",
    "\"\"\"\n",
    "    Input:\n",
    "    - xy_mode_processed_data: \n",
    "      if set False(default), the x_vector compiled will be of shape (10, n_holds) (6 hold features, x, y, is_start, is_end)\n",
    "      if set True, the x_vector compiled will be of shape (14, n_holds) (6 hold features, x, y, dx1, dy1, dx2, dy2, is_start, is_end)\n",
    "    \n",
    "    Classify and process the raw data into 4 caterogies/8 dictionaries:\n",
    "    - X_dict_benchmark_withgrade: the input data that is benchmarked and contains user grading.\n",
    "    - Y_dict_benchmark_withgrade: the output for raw data that is benchmarked and contains user grading.\n",
    "    - X_dict_benchmark_nograde: the input data that is benchmarked and does not contain user grading.\n",
    "    - Y_dict_benchmark_nograde: the output for raw data that is benchmarked and does not contain user grading.\n",
    "    - X_dict_withgrade: the input data that is not benchmarked and contains user grading.\n",
    "    - Y_dict_withgrade: the output for raw data that is not benchmarked and contains user grading.\n",
    "    - X_dict_nograde: the input data that is not benchmarked and does not contain user grading.\n",
    "    - Y_dict_nograde: the output for raw data that is not benchmarked and does not contain user grading.\n",
    "    For the ones that do not have user grading, the shape of each item in Y_dict is (2, 1): (grade, is_benchmarked)\n",
    "    For the ones that have user grading, the shape of each item in Y_dict is (3, 1): (grade, is_benchmarked, user_grade)\n",
    "\"\"\"    "
   ]
  },
  {
   "cell_type": "markdown",
   "metadata": {},
   "source": [
    "### display the Gaussian distance plot"
   ]
  },
  {
   "cell_type": "code",
   "execution_count": 5,
   "metadata": {},
   "outputs": [
    {
     "data": {
      "image/png": "[encoded data removed]",
      "text/plain": [
       "<Figure size 432x288 with 2 Axes>"
      ]
     },
     "metadata": {
      "needs_background": "light"
     },
     "output_type": "display_data"
    }
   ],
   "source": [
    "xlist = np.linspace(-2,6, 100)\n",
    "ylist = np.linspace(-2,6, 100)\n",
    "X, Y = np.meshgrid(xlist, ylist)\n",
    "Z = makeGaussian((X,Y), 4, (0,0))\n",
    "fig,ax=plt.subplots(1,1)\n",
    "cp = ax.contourf(X, Y, Z)\n",
    "fig.colorbar(cp) # Add a colorbar to a plot\n",
    "ax.set_title('Filled Contours Plot')\n",
    "#ax.set_xlabel('x (cm)')\n",
    "ax.set_ylabel('y (cm)')\n",
    "plt.show()"
   ]
  },
  {
   "cell_type": "markdown",
   "metadata": {},
   "source": [
    "### Define Current Status"
   ]
  },
  {
   "cell_type": "code",
   "execution_count": 5,
   "metadata": {},
   "outputs": [
    {
     "name": "stdout",
     "output_type": "stream",
     "text": [
      "After Beamer search, the most possible hand sequence and the successRate:\n",
      "[0, 0, 1, 2, 3, 4, 5] ['LH', 'RH', 'LH', 'RH', 'LH', 'RH', 'LH'] 229.17442900816357\n",
      "[13.966610165238235, 3.771272258651297, 3.462239147685987, 4.2965295841566284, 1.0226156288345547, 9.826095003804213, 40.82321619767785]\n"
     ]
    }
   ],
   "source": [
    "output = produce_sequence(keyNum = '337509', X_dict = MoonBoard_2016_raw[\"X_dict_benchmark_withgrade\"], n_return = 1)"
   ]
  },
  {
   "cell_type": "code",
   "execution_count": 6,
   "metadata": {},
   "outputs": [],
   "source": [
    "keyNum = \"337509\"    \n",
    "#moonboardTest = (MoonBoard_2016_raw[\"X_dict_benchmark_withgrade\"])[\"102018\"]\n",
    "#moonboardTest = (MoonBoard_2016_raw[\"X_dict_benchmark_withgrade\"])[\"337509\"]\n",
    "#moonboardTest = (MoonBoard_2016_raw[\"X_dict_benchmark_withgrade\"])[\"332721\"]\n",
    "moonboardTest = (MoonBoard_2016_raw[\"X_dict_benchmark_withgrade\"])[keyNum]\n"
   ]
  },
  {
   "cell_type": "code",
   "execution_count": 7,
   "metadata": {},
   "outputs": [
    {
     "name": "stdout",
     "output_type": "stream",
     "text": [
      "keyNum =  337509\n",
      "[[ 0.  2.  5.  2.  0.  0. 10.  4.  1.  0.]\n",
      " [ 2.  5.  2.  0.  0.  0.  5.  6.  0.  0.]\n",
      " [ 0.  1.  4.  1.  0.  0.  8. 10.  0.  0.]\n",
      " [ 1.  5.  3.  1.  0.  0.  5. 13.  0.  0.]\n",
      " [ 2.  3.  4.  2.  1.  0.  3. 16.  0.  0.]\n",
      " [ 3.  7.  5.  2.  0.  0.  1. 17.  0.  1.]]\n",
      "https://moonboard.com/Problems/View/337509/pixel-bricks\n"
     ]
    }
   ],
   "source": [
    "testbeta = beta(moonboardTest.T)\n",
    "status = [beta(moonboardTest.T), beta(moonboardTest.T)]\n",
    "print(\"keyNum = \", keyNum)\n",
    "print(status[0].allHolds)\n",
    "moonboardTestUrl = MoonBoard_2016_withurl[keyNum]\n",
    "print(moonboardTestUrl[\"url\"])\n",
    "# Initialized Start hold of two different beta\n",
    "status[0].addStartHolds(0)\n",
    "status[1].addStartHolds(1)\n",
    "\n",
    "operationList = [\"RH\", \"LH\"]\n",
    "tempstatus = []\n",
    "tempstatus2 = []\n",
    "tempstatus3 = []\n",
    "distanceScore = []"
   ]
  },
  {
   "cell_type": "code",
   "execution_count": 16,
   "metadata": {},
   "outputs": [],
   "source": [
    "# Run the algorithm for 6 times\n",
    "totalRun = status[0].totalNumOfHold - 1\n",
    "for i in range(totalRun):  # how many new move you wan to add\n",
    "    status = addNewBeta(status, printOut = False)\n",
    "    finalScore = [] \n",
    "    for i in status:   \n",
    "        finalScore.append(i.overallSuccessRate())\n",
    "    largestIndex = heapq.nlargest(4, range(len(finalScore)), key=finalScore.__getitem__)\n",
    "    if (status[largestIndex[0]].isFinished and status[largestIndex[1]].isFinished) == True:\n",
    "        break"
   ]
  },
  {
   "cell_type": "code",
   "execution_count": 17,
   "metadata": {},
   "outputs": [
    {
     "name": "stdout",
     "output_type": "stream",
     "text": [
      "[<preprocessing_helper.beta object at 0x123e65ed0>, <preprocessing_helper.beta object at 0x123e65a50>, <preprocessing_helper.beta object at 0x123e8b750>, <preprocessing_helper.beta object at 0x123e8b9d0>, <preprocessing_helper.beta object at 0x123e8be50>, <preprocessing_helper.beta object at 0x123e8b1d0>, <preprocessing_helper.beta object at 0x123e8b8d0>, <preprocessing_helper.beta object at 0x123e87d10>]\n"
     ]
    }
   ],
   "source": [
    "# last sorting for the best 5\n",
    "finalScore = [] \n",
    "print(status)\n",
    "for i in status:   \n",
    "    finalScore.append(i.overallSuccessRate())   \n",
    "largestIndex = heapq.nlargest(1, range(len(finalScore)), key=finalScore.__getitem__)"
   ]
  },
  {
   "cell_type": "code",
   "execution_count": 18,
   "metadata": {},
   "outputs": [
    {
     "name": "stdout",
     "output_type": "stream",
     "text": [
      "https://moonboard.com/Problems/View/337509/pixel-bricks\n",
      "After Beamer search, the most possible hand sequence and the successRate:\n",
      "[0, 0, 1, 2, 3, 4, 5] ['LH', 'RH', 'LH', 'RH', 'LH', 'RH', 'LH'] 229.17442900816357\n",
      "[13.966610165238235, 3.771272258651297, 3.462239147685987, 4.2965295841566284, 1.0226156288345547, 9.826095003804213, 40.82321619767785]\n"
     ]
    }
   ],
   "source": [
    "print(moonboardTestUrl[\"url\"])\n",
    "print (\"After Beamer search, the most possible hand sequence and the successRate:\")\n",
    "for i in largestIndex:\n",
    "    \n",
    "    print(status[i].handSequence, status[i].handOperator, status[i].overallSuccessRate())\n",
    "    print(status[i].successScoreSequence)\n"
   ]
  },
  {
   "cell_type": "code",
   "execution_count": null,
   "metadata": {},
   "outputs": [],
   "source": []
  }
 ],
 "metadata": {
  "kernelspec": {
   "display_name": "Python 3",
   "language": "python",
   "name": "python3"
  },
  "language_info": {
   "codemirror_mode": {
    "name": "ipython",
    "version": 3
   },
   "file_extension": ".py",
   "mimetype": "text/x-python",
   "name": "python",
   "nbconvert_exporter": "python",
   "pygments_lexer": "ipython3",
   "version": "3.7.4"
  }
 },
 "nbformat": 4,
 "nbformat_minor": 4
}
