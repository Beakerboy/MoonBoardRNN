{
 "cells": [
  {
   "cell_type": "raw",
   "metadata": {},
   "source": [
    "MoonboardSequenceSimulator.py\n",
    "    Input:\n",
    "    - Single moonboard problem from \"MoonBoard_2016_raw\"\n",
    "    - Table for each hold's directional dificulty\n",
    "    \n",
    "    Output:\n",
    "    - Predict a reasonable hand sequence for each input. \n",
    "    - i.e. 5B-R (Start) 7C-L (Start) 6A-R 8B-L 9C-L ... 18B-L 18B-R(Finished)\n",
    "    - return an array with [RH, RH, LH,......] and all holds in used along the way\n",
    "    - The holds used the format [(six hand feature) X, Y, isStart, isFinish]\n",
    "\n",
    "Author: Yi-Shiou Duh (allenduh@stanford.edu)"
   ]
  },
  {
   "cell_type": "code",
   "execution_count": 2956,
   "metadata": {},
   "outputs": [],
   "source": [
    "import numpy as np\n",
    "import os\n",
    "import copy\n",
    "import pickle\n",
    "import heapq\n",
    "import matplotlib.pyplot as plt"
   ]
  },
  {
   "cell_type": "markdown",
   "metadata": {},
   "source": [
    "Const"
   ]
  },
  {
   "cell_type": "code",
   "execution_count": 2961,
   "metadata": {},
   "outputs": [
    {
     "data": {
      "text/plain": [
       "' distanceThresholdCoeff: dynamicThreshold = hyperparameter[0] * self.lastMoveSuccessRateByHold() '"
      ]
     },
     "execution_count": 2961,
     "metadata": {},
     "output_type": "execute_result"
    }
   ],
   "source": [
    "hyperparameter = [1, 1]\n",
    "\"\"\" distanceThresholdCoeff: dynamicThreshold = hyperparameter[0] * self.lastMoveSuccessRateByHold() \"\"\""
   ]
  },
  {
   "cell_type": "code",
   "execution_count": 2962,
   "metadata": {},
   "outputs": [],
   "source": [
    "cwd = os.getcwd()\n",
    "parent_wd = cwd.replace('/preprocessing', '')\n",
    "raw_data_path = parent_wd + '/MoonBoardRNN/preprocessing/processed_data_deltaxy_mode'  \n",
    "url_data_path = parent_wd + '/MoonBoardRNN/raw_data/moonGen_scrape_2016_cp'"
   ]
  },
  {
   "cell_type": "code",
   "execution_count": 2963,
   "metadata": {},
   "outputs": [],
   "source": [
    "with open(url_data_path, 'rb') as f:\n",
    "    MoonBoard_2016_withurl = pickle.load(f)"
   ]
  },
  {
   "cell_type": "code",
   "execution_count": 2964,
   "metadata": {},
   "outputs": [
    {
     "data": {
      "text/plain": [
       "'\\n    Input:\\n    - xy_mode_processed_data: \\n      if set False(default), the x_vector compiled will be of shape (10, n_holds) (6 hold features, x, y, is_start, is_end)\\n      if set True, the x_vector compiled will be of shape (14, n_holds) (6 hold features, x, y, dx1, dy1, dx2, dy2, is_start, is_end)\\n    \\n    Classify and process the raw data into 4 caterogies/8 dictionaries:\\n    - X_dict_benchmark_withgrade: the input data that is benchmarked and contains user grading.\\n    - Y_dict_benchmark_withgrade: the output for raw data that is benchmarked and contains user grading.\\n    - X_dict_benchmark_nograde: the input data that is benchmarked and does not contain user grading.\\n    - Y_dict_benchmark_nograde: the output for raw data that is benchmarked and does not contain user grading.\\n    - X_dict_withgrade: the input data that is not benchmarked and contains user grading.\\n    - Y_dict_withgrade: the output for raw data that is not benchmarked and contains user grading.\\n    - X_dict_nograde: the input data that is not benchmarked and does not contain user grading.\\n    - Y_dict_nograde: the output for raw data that is not benchmarked and does not contain user grading.\\n    For the ones that do not have user grading, the shape of each item in Y_dict is (2, 1): (grade, is_benchmarked)\\n    For the ones that have user grading, the shape of each item in Y_dict is (3, 1): (grade, is_benchmarked, user_grade)\\n'"
      ]
     },
     "execution_count": 2964,
     "metadata": {},
     "output_type": "execute_result"
    }
   ],
   "source": [
    "####################\n",
    "# Input hold information & load moonboard problem\n",
    "####################\n",
    "#raw_data_path1 = \"MoonBoardRNN/raw_data/moonGen_scrape_2016_cp\"  ### raw Data\n",
    "#raw_data_path = \"MoonBoardRNN/raw_data/processed_data_xy_mode\"\n",
    "with open(raw_data_path, 'rb') as f:\n",
    "    MoonBoard_2016_raw = pickle.load(f)\n",
    "\"\"\"\n",
    "    Input:\n",
    "    - xy_mode_processed_data: \n",
    "      if set False(default), the x_vector compiled will be of shape (10, n_holds) (6 hold features, x, y, is_start, is_end)\n",
    "      if set True, the x_vector compiled will be of shape (14, n_holds) (6 hold features, x, y, dx1, dy1, dx2, dy2, is_start, is_end)\n",
    "    \n",
    "    Classify and process the raw data into 4 caterogies/8 dictionaries:\n",
    "    - X_dict_benchmark_withgrade: the input data that is benchmarked and contains user grading.\n",
    "    - Y_dict_benchmark_withgrade: the output for raw data that is benchmarked and contains user grading.\n",
    "    - X_dict_benchmark_nograde: the input data that is benchmarked and does not contain user grading.\n",
    "    - Y_dict_benchmark_nograde: the output for raw data that is benchmarked and does not contain user grading.\n",
    "    - X_dict_withgrade: the input data that is not benchmarked and contains user grading.\n",
    "    - Y_dict_withgrade: the output for raw data that is not benchmarked and contains user grading.\n",
    "    - X_dict_nograde: the input data that is not benchmarked and does not contain user grading.\n",
    "    - Y_dict_nograde: the output for raw data that is not benchmarked and does not contain user grading.\n",
    "    For the ones that do not have user grading, the shape of each item in Y_dict is (2, 1): (grade, is_benchmarked)\n",
    "    For the ones that have user grading, the shape of each item in Y_dict is (3, 1): (grade, is_benchmarked, user_grade)\n",
    "\"\"\"    "
   ]
  },
  {
   "cell_type": "code",
   "execution_count": 2965,
   "metadata": {},
   "outputs": [
    {
     "data": {
      "text/plain": [
       "dict_keys(['337509', '332721', '332646', '325637', '325079', '324257', '322941', '322939', '321511', '321097', '320798', '320394', '314508', '311645', '310143', '310106', '309814', '308058', '307834', '306777', '306776', '306062', '305694', '305656', '300214', '297887', '292263', '281994', '279557', '274947', '273016', '260849', '256493', '254625', '251124', '251082', '249317', '243461', '241018', '234401', '232300', '229614', '227999', '226072', '214484', '213011', '202064', '201921', '201020', '199740', '199290', '196769', '196284', '192888', '192428', '192386', '191609', '190906', '189969', '189344', '184714', '184462', '184295', '181440', '181435', '179415', '178758', '176870', '176230', '174899', '172010', '171918', '171796', '171787', '171108', '170230', '170190', '170185', '169636', '166287', '164879', '164874', '160922', '160167', '159366', '158675', '158100', '156084', '152217', '150763', '150053', '149984', '144021', '142730', '141821', '139394', '137897', '137242', '136668', '134795', '133998', '133992', '132090', '128535', '127086', '126731', '126656', '126481', '125131', '125109', '124553', '123453', '121413', '121194', '119861', '118171', '118145', '118028', '114961', '114443', '114322', '113385', '112929', '111232', '110330', '106472', '106424', '105100', '104914', '104439', '103695', '102018', '99677', '96879', '93635', '93247', '91747', '91202', '90626', '89571', '88172', '85826', '85367', '84177', '83988', '83919', '83348', '82224', '80818', '80802', '80197', '79926', '79055', '77712', '77088', '74717', '73998', '71428', '71190', '71109', '70743', '70284', '70272', '70034', '69426', '69372', '69023', '68881', '67296', '67070', '67015', '66446', '66038', '65097', '64714', '63522', '63371', '63365', '62560', '62351', '62286', '62275', '62267', '62144', '62141', '62126', '60962', '59580', '57470', '55784', '55559', '55506', '55417', '54766', '54752', '54627', '54384', '53544', '53494', '53487', '53436', '52318', '51353', '50367', '50356', '50106', '49969', '49666', '49648', '49576', '49191', '49031', '48939', '48765', '48723', '47109', '46508', '46465', '46458', '46050', '46045', '45232', '45182', '44578', '44384', '44327', '44178', '44158', '44029', '43190', '43010', '42911', '42900', '41542', '41437', '41345', '41339', '41312', '41190', '41029', '40879', '40784', '39709', '39700', '39242', '39074', '39071', '38855', '37091', '36667', '36070', '35870', '35590', '35345', '34964', '34688', '34686', '34387', '34383', '34005', '32430', '32304', '31773', '31140', '30627', '30612', '30609', '30534', '30526', '30524', '29901', '29805', '29598', '29565', '29360', '28832', '28514', '28020', '27961', '27956', '27875', '27394', '27116', '27102', '26853', '26693', '26620', '26083', '25841', '25652', '25577', '25556', '25521', '25506', '25043', '24681', '24641', '24624', '24448', '24196', '24126', '23803', '23720', '23632', '23601', '23428', '23261', '23192', '23186', '23184', '23182', '22861', '22859', '22596', '22594', '22343', '22257', '22040', '21921', '21494', '21492', '21396', '21329', '21258', '21082', '20967', '20923', '20860', '20790', '20774', '20735', '20700', '20698', '20473', '20461', '20451', '20437', '20316', '20253', '20249', '20153', '20149', '20038', '19956', '19782', '19766', '19732', '19646', '19632', '19310', '19237', '19233', '19230', '19229', '19225', '19224', '19223', '19222'])"
      ]
     },
     "execution_count": 2965,
     "metadata": {},
     "output_type": "execute_result"
    }
   ],
   "source": [
    "(MoonBoard_2016_raw[\"X_dict_benchmark_withgrade\"]).keys()"
   ]
  },
  {
   "cell_type": "code",
   "execution_count": 2966,
   "metadata": {},
   "outputs": [],
   "source": [
    "keyNum = \"310143\"    \n",
    "#moonboardTest = (MoonBoard_2016_raw[\"X_dict_benchmark_withgrade\"])[\"102018\"]\n",
    "#moonboardTest = (MoonBoard_2016_raw[\"X_dict_benchmark_withgrade\"])[\"337509\"]\n",
    "#moonboardTest = (MoonBoard_2016_raw[\"X_dict_benchmark_withgrade\"])[\"332721\"]\n",
    "moonboardTest = (MoonBoard_2016_raw[\"X_dict_benchmark_withgrade\"])[keyNum]\n"
   ]
  },
  {
   "cell_type": "code",
   "execution_count": 2967,
   "metadata": {},
   "outputs": [],
   "source": [
    "class beta:\n",
    "    \"\"\" climbing beta is the climber's feeling of the best hand sequence\n",
    "    class beta describe how the climber create the beta. It stored information including\n",
    "    moonboard holds information.\n",
    "    the ongoing built hand sequence (LRLRLRRR) and the hold climber used\n",
    "    \"\"\"\n",
    "    def __init__(self, avalible_holds):\n",
    "        \"\"\"Creates a new beta with the specified attributes.\"\"\"\n",
    "        self.totalNumOfHold = np.size(avalible_holds, axis=0)\n",
    "        self.allHolds = avalible_holds\n",
    "        self.handSequence = []        # Use the number 0,1,2,3,4,5... sequence\n",
    "        self.handOperator = [] # op: Right hand / Left Hand\n",
    "        self.holdsNotUsed = []           # You can then use this list to decide where to go next\n",
    "        self.holdsNotUsed.extend(range(self.totalNumOfHold))\n",
    "        self.isFinished = False          # True when go to finish hold (neglect matching)\n",
    "        self.overallSuccess = 1      # Can evaluate difficulty of this beta\n",
    "        self.singleMoveSuccessRate = []  # singleMoveDifficulty\n",
    "        self.tryout = 0                  # Try one additional point. Record successRate\n",
    "        self.touchEndHold = 0\n",
    "    \n",
    "    def addStartHolds(self, zeroOrOne):\n",
    "        opList = [\"LH\", \"RH\"]\n",
    "        startHoldList = self.getStartHold()\n",
    "        if len(startHoldList) == 1:\n",
    "            self.handSequence.append(int(self.getOrderFromHold(startHoldList[0])))   # Add a new hold into beta!\n",
    "            self.handSequence.append(int(self.getOrderFromHold(startHoldList[0])))\n",
    "            self.handOperator.extend(opList) \n",
    "            self.holdsNotUsed.remove(self.getOrderFromHold(startHoldList[0]))   # Not consider match\n",
    "        if len(startHoldList) == 2:  \n",
    "            self.handSequence.append(int(self.getOrderFromHold(startHoldList[0])))   # Add a new hold into beta!\n",
    "            self.handSequence.append(int(self.getOrderFromHold(startHoldList[1])))\n",
    "            self.handOperator.append(opList[zeroOrOne]) \n",
    "            self.handOperator.append(opList[1-zeroOrOne]) # indicate which hand\n",
    "            self.holdsNotUsed.remove(self.getOrderFromHold(startHoldList[0]))   # Not consider match\n",
    "            self.holdsNotUsed.remove(self.getOrderFromHold(startHoldList[1]))\n",
    "            \n",
    "    def getAllHolds(self):\n",
    "        \"\"\"N holds rows, 10 columns np array\"\"\"\n",
    "        return self.allHolds\n",
    "    \n",
    "    def tryMove(self, tryOrder, op):\n",
    "        \"\"\"Try how addition hold. Return successRate, tryOrder is a number in holdsNotUsed \n",
    "           list. op is either \"LH\" or \"RH\" \"\"\"\n",
    "        tryHold = self.allHolds[tryOrder]\n",
    "        finalXY = self.getXYFromOrder(tryOrder)    \n",
    "        if op == \"LH\":\n",
    "            originalXY = self.getXYFromOrder(self.getrightHandOrder())\n",
    "            dontCross = 1  # Penalty of do a big cross. Larger will drop the successRate\n",
    "            if originalXY[0] < finalXY[0] - 2.5:\n",
    "                dontCross = 0#2 * (finalXY[0] - 1.5 - originalXY[0])\n",
    "                \n",
    "            print(\"LHEasy? = \", self.successRateByHold(tryHold, \"LH\"))\n",
    "            print(\"RHEasy? = \", self.successRateByHold(self.getrightHandHold(), \"RH\"))\n",
    "            print(\"distanceOfFinalState = \", self.getTwoOrderDistance(self.getrightHandOrder(), tryOrder))\n",
    "            return self.successRateByHold(tryHold, \"LH\") * self.successRateByHold(self.getrightHandHold(), \"RH\") * dontCross / (self.getTwoOrderDistance(self.getrightHandOrder(), tryOrder))**0.5\n",
    "            \n",
    "        elif op == \"RH\":\n",
    "            originalXY = self.getXYFromOrder(self.getleftHandOrder())\n",
    "            dontCross = 1\n",
    "            if  finalXY[0] < originalXY[0] - 2.5:\n",
    "                dontCross = 0#2 * (originalXY[0] - 1.5 - finalXY[0])\n",
    "                \n",
    "            print(\"RHEasy? = \", self.successRateByHold(tryHold, \"RH\"))\n",
    "            print(\"LHEasy? = \", self.successRateByHold(self.getleftHandHold(), \"LH\"))\n",
    "            print(\"distanceOfFinalState = \", self.getTwoOrderDistance(self.getleftHandOrder(), tryOrder))\n",
    "            return self.successRateByHold(tryHold, \"RH\") * self.successRateByHold(self.getleftHandHold(), \"LH\") * dontCross / (self.getTwoOrderDistance(self.getleftHandOrder(), tryOrder))**0.5\n",
    "            \n",
    "\n",
    "    def addNextHand(self, nextHold, op):\n",
    "        \"\"\" nextHold is a hold, whichHand are  LH, LG, RH, RG\"\"\"\n",
    "        \n",
    "        if self.touchEndHold == 3: \n",
    "            self.handSequence.append(self.totalNumOfHold - 1)  \n",
    "            if self.handSequence[-1] == \"LH\":\n",
    "               self.handOperator.append(\"RH\")  \n",
    "            if self.handSequence[-1] == \"RH\":\n",
    "               self.handOperator.append(\"LH\") \n",
    "            self.touchEndHold = self.touchEndHold + 1;\n",
    "            self.isFinished = True\n",
    "            #print(self.handSequence, self.handOperator)\n",
    "        elif self.touchEndHold == 1 or self.isFinished == True: \n",
    "            pass\n",
    "        else:\n",
    "            if nextHold in self.getEndHoldOrder():\n",
    "                self.touchEndHold = self.touchEndHold + 1;\n",
    "                \n",
    "            # Before Update a new hold\n",
    "            originalCom = self.getCurrentCom()\n",
    "            dynamicThreshold = hyperparameter[0] * self.lastMoveSuccessRateByHold()  \n",
    " \n",
    "            # Update a new hold\n",
    "            self.handSequence.append(nextHold)   # Add a new hold into beta!\n",
    "            self.handOperator.append(op)         # indicate which hand\n",
    "            if nextHold not in self.getEndHoldOrder():\n",
    "                self.holdsNotUsed.remove(nextHold)   # Not consider match\n",
    "            \n",
    "            # after add a new hold\n",
    "            if op == \"LH\":\n",
    "                remainingHandOrder = self.getrightHandOrder()\n",
    "            else:\n",
    "                remainingHandOrder = self.getleftHandOrder()\n",
    "            \n",
    "            finalCom = self.getCom(remainingHandOrder, nextHold)\n",
    "            distance = np.sqrt(((originalCom[0] - finalCom[0]) ** 2)+((originalCom[1] - finalCom[1]) ** 2))\n",
    "            \n",
    "\n",
    "\n",
    "            #newMoveSuccessRate = self.lastMoveSuccessRateByHold() * successRateByDistance(distance, dynamicThreshold)\n",
    "            #self.singleMoveSuccessRate.append(newMoveSuccessRate)\n",
    "\n",
    "\n",
    "    def setTrueBeta(self):\n",
    "        self.isTrueBeta = True   \n",
    "        \n",
    "    def getleftHandOrder(self):\n",
    "        lastIndexOfLeft = ''.join(self.handOperator).rindex('L') / 2\n",
    "        return self.handSequence[int(lastIndexOfLeft)]\n",
    "    \n",
    "    def getrightHandOrder(self):\n",
    "        \"\"\" Output the order of the handSequence\"\"\"\n",
    "        lastIndexOfRight = ''.join(self.handOperator).rindex('R') / 2\n",
    "        return self.handSequence[int(lastIndexOfRight)]\n",
    "    \n",
    "    def getleftHandHold(self):\n",
    "        return self.allHolds[self.getleftHandOrder()]\n",
    "    \n",
    "    def getrightHandHold(self):\n",
    "        \"\"\" Output the order of the handSequence\"\"\"\n",
    "        return self.allHolds[self.getrightHandOrder()]\n",
    "    \n",
    "    def getOrderFromHold(self, hold):\n",
    "        \"\"\" from a single hold (np array) to an order\"\"\"\n",
    "        return np.where((self.allHolds == hold).all(1))[0] # Use np.where to get row indices\n",
    "    \n",
    "    def getCom(self, hold1Order, hold2Order):\n",
    "        \"\"\" Get the coordinate of COM using current both hands order\"\"\"\n",
    "        xCom = (self.allHolds[hold1Order][6] + self.allHolds[hold2Order][6]) / 2\n",
    "        yCom = (self.allHolds[hold1Order][7] + self.allHolds[hold2Order][7]) / 2\n",
    "        return (xCom, yCom)\n",
    "    \n",
    "    def getXYFromOrder(self, holdOrder):\n",
    "        return ((self.allHolds[holdOrder][6]), (self.allHolds[holdOrder][7])) \n",
    "        \n",
    "    def getCurrentCom(self):\n",
    "        \"\"\" Get the coordinate of COM based on current hand position\"\"\"\n",
    "        return self.getCom(self.getleftHandOrder(), self.getrightHandOrder())\n",
    "    \n",
    "    def getTwoOrderDistance(self, remainingHandOrder, nextHoldOrder):\n",
    "        \"\"\" Given order 2, and 5. Output distance between\"\"\"\n",
    "        originalCom = self.getCurrentCom()\n",
    "        finalCom = self.getCom(remainingHandOrder, nextHoldOrder)\n",
    "        return np.sqrt(((originalCom[0] - finalCom[0]) ** 2)+((originalCom[1] - finalCom[1]) ** 2))\n",
    "\n",
    "    def orderToSeqOrder(self, order):\n",
    "        \"\"\" Transform from rawdataorder to hand order\"\"\"\n",
    "        return self.handSequence.index(order)\n",
    "    \n",
    "    def lastMoveSuccessRateByHold(self):\n",
    "        operatorLeft = self.handOperator[self.orderToSeqOrder(self.getleftHandOrder())]\n",
    "        operatorRight = self.handOperator[self.orderToSeqOrder(self.getrightHandOrder())]\n",
    "        return self.successRateByHold(self.getleftHandHold(), operatorLeft) * self.successRateByHold(self.getrightHandHold(), operatorRight)\n",
    "    def successRateByHold(self, hold, operation):\n",
    "        \"\"\" \"\"\"\n",
    "        if operation == \"LH\": \n",
    "            return max((hold[0] + 2 * hold[1] + hold[2] + hold[5]) **1.2  , (hold[2] / 2 + hold[3] + hold[4])) / hyperparameter[1]\n",
    "        if operation == \"RH\":\n",
    "            return max((hold[2] + 2 * hold[3] + hold[4] + hold[5]) **1.2 , (hold[0] + hold[1] + hold[2] / 2)) / hyperparameter[1]\n",
    "        \n",
    "    def getStartHold(self):\n",
    "        \"\"\"return startHold list with 2 element\"\"\"\n",
    "        startHoldList = []\n",
    "        for hold in self.allHolds:\n",
    "            if hold[8] == 1:\n",
    "                startHoldList.append(hold)\n",
    "        return startHoldList\n",
    "\n",
    "    def getEndHoldOrder(self):\n",
    "        endHoldOrderList = []\n",
    "        for hold in self.allHolds:\n",
    "            if hold[9] == 1:\n",
    "                endHoldOrderList.append(self.getOrderFromHold(hold))\n",
    "        if len(endHoldOrderList) == 1:\n",
    "            endHoldOrderList = [endHoldOrderList[0], endHoldOrderList[0]]\n",
    "        return endHoldOrderList\n",
    "    \n",
    "    def getholdsNotUsed(self):\n",
    "        return self.holdsNotUsed  \n",
    "    \n",
    "    def overallSuccessRate(self):\n",
    "        numOfHand = len(self.handSequence)\n",
    "        overallScore = 1;\n",
    "        for i, order in enumerate(self.handSequence): \n",
    "            #print(order)\n",
    "            #print(self.successRateByHold(self.allHolds[order], self.handOperator[i]))\n",
    "            overallScore = overallScore * self.successRateByHold(self.allHolds[order], self.handOperator[i])\n",
    "  \n",
    "        for i in range (numOfHand - 1):  # Penalty of do a big cross. Larger will drop the successRate   \n",
    "            targetXY = self.getXYFromOrder(self.handSequence[i+1]) \n",
    "            \n",
    "            #update last L/R hand\n",
    "            if self.handOperator[i] == \"RH\":\n",
    "                lastrightHandXY = self.getXYFromOrder(self.handSequence[i]) \n",
    "            if self.handOperator[i] == \"LH\":    \n",
    "                lastleftHandXY = self.getXYFromOrder(self.handSequence[i])\n",
    "                \n",
    "            if i == 1 and self.handSequence[0] == self.handSequence[1]:  ## not sure\n",
    "               targetXY = (targetXY[0], targetXY[1] - 1)\n",
    "            \n",
    "            if i >= 1 and self.handOperator[i+1] == \"RH\": #targetXY[0] < originalXY[0] - 2.5 and \n",
    "                originalXY = lastleftHandXY\n",
    "                overallScore = overallScore * makeGaussian(targetXY, 3, (originalXY[0] , originalXY[1]), \"LH\")\n",
    "            if i >= 1 and self.handOperator[i+1] == \"LH\": #originalXY[0] < targetXY[0] - 2.5 and \n",
    "                originalXY = lastrightHandXY\n",
    "                overallScore = overallScore * makeGaussian(targetXY, 3, (originalXY[0], originalXY[1]), \"RH\")\n",
    "        self.overallSuccess = overallScore    \n",
    "        \n",
    "        \n",
    "        return overallScore ** (3/numOfHand) "
   ]
  },
  {
   "cell_type": "code",
   "execution_count": 2968,
   "metadata": {},
   "outputs": [],
   "source": [
    "def makeGaussian(targetXY, fwhm = 3, center = None, lasthand = \"LH\"):\n",
    "    \"\"\" Make a square gaussian kernel.\n",
    "    size is the length of a side of the square\n",
    "    fwhm is full-width-half-maximum, which\n",
    "    can be thought of as an effective radius.\n",
    "    \"\"\"\n",
    "    x = targetXY[0]\n",
    "    y = targetXY[1]\n",
    "\n",
    "    x0 = center[0]\n",
    "    y0 = center[1]\n",
    "    if lasthand == \"RH\":\n",
    "        firstGauss = np.exp(-4*np.log(2) * ((x-(x0-3))**2 + (y-(y0+1.5))**2) / fwhm**2)\n",
    "        secondGauss = np.exp(-4*np.log(2) * ((x-(x0+1))**2 + (y-(y0+0.5))**2) / fwhm**2) * 0.4\n",
    "        thirdGauss =  np.exp(-4*np.log(2) * ((x-(x0))**2 + (y-(y0+1))**2) / fwhm**2) * 0.3\n",
    "    if lasthand == \"LH\":\n",
    "        firstGauss = np.exp(-4*np.log(2) * ((x-(x0+3))**2 + (y-(y0+1.5))**2) / fwhm**2)\n",
    "        secondGauss = np.exp(-4*np.log(2) * ((x-(x0-1))**2 + (y-(y0+0.5))**2) / fwhm**2) * 0.4\n",
    "        thirdGauss =  np.exp(-4*np.log(2) * ((x-(x0))**2 + (y-(y0+1))**2) / fwhm**2) * 0.3\n",
    "    return  firstGauss + secondGauss"
   ]
  },
  {
   "cell_type": "code",
   "execution_count": 2969,
   "metadata": {},
   "outputs": [
    {
     "data": {
      "image/png": "[encoded data removed]",
      "text/plain": [
       "<Figure size 432x288 with 2 Axes>"
      ]
     },
     "metadata": {
      "needs_background": "light"
     },
     "output_type": "display_data"
    }
   ],
   "source": [
    "xlist = np.linspace(-2,6, 100)\n",
    "ylist = np.linspace(-2,6, 100)\n",
    "X, Y = np.meshgrid(xlist, ylist)\n",
    "Z = makeGaussian((X,Y), 4, (0,0))\n",
    "fig,ax=plt.subplots(1,1)\n",
    "cp = ax.contourf(X, Y, Z)\n",
    "fig.colorbar(cp) # Add a colorbar to a plot\n",
    "ax.set_title('Filled Contours Plot')\n",
    "#ax.set_xlabel('x (cm)')\n",
    "ax.set_ylabel('y (cm)')\n",
    "plt.show()\n"
   ]
  },
  {
   "cell_type": "code",
   "execution_count": null,
   "metadata": {},
   "outputs": [],
   "source": []
  },
  {
   "cell_type": "code",
   "execution_count": 2970,
   "metadata": {},
   "outputs": [],
   "source": [
    "def rindex(lst, item):\n",
    "    def index_ne(x):\n",
    "        return lst[x] != item\n",
    "    try:\n",
    "        return next(dropwhile(index_ne, reversed(range(len(lst)))))\n",
    "    except StopIteration:\n",
    "        raise ValueError(\"rindex(lst, item): item not in list\")  \n",
    "        "
   ]
  },
  {
   "cell_type": "code",
   "execution_count": 2971,
   "metadata": {},
   "outputs": [],
   "source": [
    "def addNewBeta(status, printOut = True):\n",
    "    \"\"\" Add one move to expand the candidate list and pick the largest 8\"\"\"\n",
    "    tempstatus = []\n",
    "    for betaPre in status:  # betaPreviousTwoCandidates       \n",
    "        distanceScore = []\n",
    "        for nextHoldOrder in betaPre.holdsNotUsed:\n",
    "            \n",
    "            originalCom = betaPre.getCurrentCom() \n",
    "            dynamicThreshold = hyperparameter[0] * betaPre.lastMoveSuccessRateByHold()  \n",
    "            finalXY = betaPre.getXYFromOrder(nextHoldOrder)\n",
    "    \n",
    "            distance = np.sqrt(((originalCom[0] - finalXY[0]) ** 2)+((originalCom[1] - finalXY[1]) ** 2))\n",
    "            distanceScore.append(successRateByDistance(distance, dynamicThreshold))\n",
    "\n",
    "        # Find the first and second smallest distance\n",
    "        largestIndex = heapq.nlargest(min(8, len(distanceScore)), range(len(distanceScore)), key=distanceScore.__getitem__)\n",
    "        \n",
    "        #goodHoldIndex = [betaPre.holdsNotUsed[largestIndex[0]], betaPre.holdsNotUsed[largestIndex[1]], betaPre.holdsNotUsed[largestIndex[2]]]  #[#3,#5] holds\n",
    "        goodHoldIndex = [betaPre.holdsNotUsed[i] for i in largestIndex]\n",
    "        \n",
    "        added = False\n",
    "        for possibleHold in goodHoldIndex:\n",
    "            for op in operationList:\n",
    "                if betaPre.isFinished == False:\n",
    "                   tempstatus.append(copy.deepcopy(betaPre))\n",
    "                   tempstatus[-1].addNextHand(possibleHold, op)\n",
    "                elif added == False:\n",
    "                   tempstatus.append(copy.deepcopy(betaPre))\n",
    "                   added = True\n",
    "                   \n",
    "    \n",
    "    # trim tempstatus to pick the largest 3 \n",
    "    finalScore = []       \n",
    "    for i in tempstatus:\n",
    "        finalScore.append(i.overallSuccessRate())    \n",
    "    largestIndex = heapq.nlargest(8, range(len(finalScore)), key=finalScore.__getitem__) \n",
    "       \n",
    "    if printOut == True:\n",
    "        for i in largestIndex:\n",
    "            print(tempstatus[i].handSequence, tempstatus[i].handOperator, tempstatus[i].overallSuccessRate()) \n",
    "\n",
    "    return [tempstatus[i] for i in largestIndex] "
   ]
  },
  {
   "cell_type": "markdown",
   "metadata": {},
   "source": [
    "Define Current Status"
   ]
  },
  {
   "cell_type": "code",
   "execution_count": 2972,
   "metadata": {},
   "outputs": [
    {
     "name": "stdout",
     "output_type": "stream",
     "text": [
      "keyNum =  310143\n",
      "[[ 0.  2.  5.  2.  0.  0. 10.  4.  1.  0.]\n",
      " [ 0.  1.  3.  1.  0.  0. 10.  7.  0.  0.]\n",
      " [ 0.  1.  3.  1.  0.  0.  7.  8.  0.  0.]\n",
      " [ 0.  3.  3.  3.  0.  0. 10. 11.  0.  0.]\n",
      " [ 0.  5.  8.  5.  0.  0.  6. 12.  0.  0.]\n",
      " [ 1.  5.  2.  5.  1.  0.  8. 15.  0.  0.]\n",
      " [ 0.  2.  6.  9.  2.  0.  4. 17.  0.  1.]]\n",
      "https://moonboard.com/Problems/View/310143/viva\n"
     ]
    }
   ],
   "source": [
    "testbeta = beta(moonboardTest.T)\n",
    "status = [beta(moonboardTest.T), beta(moonboardTest.T)]\n",
    "print(\"keyNum = \", keyNum)\n",
    "print(status[0].allHolds)\n",
    "moonboardTestUrl = MoonBoard_2016_withurl[keyNum]\n",
    "print(moonboardTestUrl[\"url\"])\n",
    "# Initialized Start hold of two different beta\n",
    "status[0].addStartHolds(0)\n",
    "status[1].addStartHolds(1)\n",
    "\n",
    "operationList = [\"RH\", \"LH\"]\n",
    "tempstatus = []\n",
    "tempstatus2 = []\n",
    "tempstatus3 = []\n",
    "distanceScore = []"
   ]
  },
  {
   "cell_type": "code",
   "execution_count": 2973,
   "metadata": {},
   "outputs": [
    {
     "name": "stdout",
     "output_type": "stream",
     "text": [
      "0\n",
      "[0, 0, 2] ['LH', 'RH', 'LH'] 196.31317530788087\n",
      "[0, 0, 2] ['LH', 'RH', 'LH'] 196.31317530788087\n",
      "[0, 0, 1] ['LH', 'RH', 'RH'] 99.73227553433925\n",
      "[0, 0, 1] ['LH', 'RH', 'LH'] 99.73227553433925\n",
      "[0, 0, 1] ['LH', 'RH', 'RH'] 99.73227553433925\n",
      "[0, 0, 1] ['LH', 'RH', 'LH'] 99.73227553433925\n",
      "[0, 0, 2] ['LH', 'RH', 'RH'] 3.6079545081733024\n",
      "[0, 0, 2] ['LH', 'RH', 'RH'] 3.6079545081733024\n",
      "1\n",
      "[0, 0, 2, 3] ['LH', 'RH', 'LH', 'RH'] 225.44082953750043\n",
      "[0, 0, 2, 3] ['LH', 'RH', 'LH', 'RH'] 225.44082953750043\n",
      "[0, 0, 1, 2] ['LH', 'RH', 'RH', 'LH'] 127.07351217853022\n",
      "[0, 0, 1, 2] ['LH', 'RH', 'RH', 'LH'] 127.07351217853022\n",
      "[0, 0, 2, 1] ['LH', 'RH', 'LH', 'RH'] 53.07071030142026\n",
      "[0, 0, 2, 1] ['LH', 'RH', 'LH', 'RH'] 53.07071030142026\n",
      "[0, 0, 1, 2] ['LH', 'RH', 'LH', 'LH'] 31.71044706703152\n",
      "[0, 0, 1, 2] ['LH', 'RH', 'LH', 'LH'] 31.71044706703152\n",
      "2\n",
      "[0, 0, 2, 3, 4] ['LH', 'RH', 'LH', 'RH', 'LH'] 485.2248620366794\n",
      "[0, 0, 2, 3, 4] ['LH', 'RH', 'LH', 'RH', 'LH'] 485.2248620366794\n",
      "[0, 0, 1, 2, 3] ['LH', 'RH', 'RH', 'LH', 'RH'] 154.84615194649004\n",
      "[0, 0, 1, 2, 3] ['LH', 'RH', 'RH', 'LH', 'RH'] 154.84615194649004\n",
      "[0, 0, 2, 3, 5] ['LH', 'RH', 'LH', 'RH', 'LH'] 127.01831064355126\n",
      "[0, 0, 2, 3, 5] ['LH', 'RH', 'LH', 'RH', 'LH'] 127.01831064355126\n",
      "[0, 0, 2, 1, 3] ['LH', 'RH', 'LH', 'RH', 'RH'] 77.00879196200054\n",
      "[0, 0, 2, 1, 3] ['LH', 'RH', 'LH', 'RH', 'RH'] 77.00879196200054\n",
      "3\n",
      "[0, 0, 2, 3, 4, 5] ['LH', 'RH', 'LH', 'RH', 'LH', 'RH'] 491.3433545734516\n",
      "[0, 0, 2, 3, 4, 5] ['LH', 'RH', 'LH', 'RH', 'LH', 'RH'] 491.3433545734516\n",
      "[0, 0, 1, 2, 3, 4] ['LH', 'RH', 'RH', 'LH', 'RH', 'LH'] 312.2586680337081\n",
      "[0, 0, 1, 2, 3, 4] ['LH', 'RH', 'RH', 'LH', 'RH', 'LH'] 312.2586680337081\n",
      "[0, 0, 2, 3, 4, 5] ['LH', 'RH', 'LH', 'RH', 'LH', 'LH'] 264.73991924373826\n",
      "[0, 0, 2, 3, 4, 5] ['LH', 'RH', 'LH', 'RH', 'LH', 'LH'] 264.73991924373826\n",
      "[0, 0, 2, 3, 5, 4] ['LH', 'RH', 'LH', 'RH', 'LH', 'LH'] 264.73991924373826\n",
      "[0, 0, 2, 3, 5, 4] ['LH', 'RH', 'LH', 'RH', 'LH', 'LH'] 264.73991924373826\n",
      "4\n",
      "[0, 0, 2, 3, 4, 5, 6] ['LH', 'RH', 'LH', 'RH', 'LH', 'RH', 'LH'] 561.7436103829656\n",
      "[0, 0, 2, 3, 4, 5, 6] ['LH', 'RH', 'LH', 'RH', 'LH', 'RH', 'LH'] 561.7436103829656\n",
      "[0, 0, 1, 2, 3, 4, 5] ['LH', 'RH', 'RH', 'LH', 'RH', 'LH', 'RH'] 336.14452681791147\n",
      "[0, 0, 1, 2, 3, 4, 5] ['LH', 'RH', 'RH', 'LH', 'RH', 'LH', 'RH'] 336.14452681791147\n",
      "[0, 0, 1, 2, 3, 4, 5] ['LH', 'RH', 'RH', 'LH', 'RH', 'LH', 'LH'] 197.8458349361718\n",
      "[0, 0, 1, 2, 3, 4, 5] ['LH', 'RH', 'RH', 'LH', 'RH', 'LH', 'LH'] 197.8458349361718\n",
      "[0, 0, 2, 3, 4, 5, 6] ['LH', 'RH', 'LH', 'RH', 'LH', 'LH', 'RH'] 97.45335366765072\n",
      "[0, 0, 2, 3, 4, 5, 6] ['LH', 'RH', 'LH', 'RH', 'LH', 'LH', 'RH'] 97.45335366765072\n",
      "5\n",
      "[0, 0, 2, 3, 4, 5, 6] ['LH', 'RH', 'LH', 'RH', 'LH', 'RH', 'LH'] 561.7436103829656\n",
      "[0, 0, 2, 3, 4, 5, 6] ['LH', 'RH', 'LH', 'RH', 'LH', 'RH', 'LH'] 561.7436103829656\n",
      "[0, 0, 2, 3, 4, 5, 6] ['LH', 'RH', 'LH', 'RH', 'LH', 'RH', 'LH'] 561.7436103829656\n",
      "[0, 0, 2, 3, 4, 5, 6] ['LH', 'RH', 'LH', 'RH', 'LH', 'RH', 'LH'] 561.7436103829656\n",
      "[0, 0, 2, 3, 4, 5, 6] ['LH', 'RH', 'LH', 'RH', 'LH', 'RH', 'LH'] 561.7436103829656\n",
      "[0, 0, 2, 3, 4, 5, 6] ['LH', 'RH', 'LH', 'RH', 'LH', 'RH', 'LH'] 561.7436103829656\n",
      "[0, 0, 2, 3, 4, 5, 6] ['LH', 'RH', 'LH', 'RH', 'LH', 'RH', 'LH'] 561.7436103829656\n",
      "[0, 0, 2, 3, 4, 5, 6] ['LH', 'RH', 'LH', 'RH', 'LH', 'RH', 'LH'] 561.7436103829656\n"
     ]
    }
   ],
   "source": [
    "# Run the algorithm for 6 times\n",
    "totalRun = status[0].totalNumOfHold - 1\n",
    "for i in range(totalRun):  # how many new move you wan to add\n",
    "    print (i)\n",
    "    status = addNewBeta(status)\n",
    "    finalScore = [] \n",
    "    for i in status:   \n",
    "        finalScore.append(i.overallSuccessRate())\n",
    "    largestIndex = heapq.nlargest(4, range(len(finalScore)), key=finalScore.__getitem__)\n",
    "    if (status[largestIndex[0]].isFinished and status[largestIndex[1]].isFinished) == True:\n",
    "        break"
   ]
  },
  {
   "cell_type": "code",
   "execution_count": 2974,
   "metadata": {},
   "outputs": [
    {
     "name": "stdout",
     "output_type": "stream",
     "text": [
      "[<__main__.beta object at 0x10f7bffa0>, <__main__.beta object at 0x15c91f730>, <__main__.beta object at 0x15c91f340>, <__main__.beta object at 0x15c181b80>, <__main__.beta object at 0x15c181bb0>, <__main__.beta object at 0x15c181190>, <__main__.beta object at 0x15c181070>, <__main__.beta object at 0x15c181220>]\n"
     ]
    }
   ],
   "source": [
    "# last sorting for the best 5\n",
    "finalScore = [] \n",
    "print(status)\n",
    "for i in status:   \n",
    "    finalScore.append(i.overallSuccessRate())   \n",
    "largestIndex = heapq.nlargest(4, range(len(finalScore)), key=finalScore.__getitem__)"
   ]
  },
  {
   "cell_type": "code",
   "execution_count": 2975,
   "metadata": {},
   "outputs": [
    {
     "name": "stdout",
     "output_type": "stream",
     "text": [
      "https://moonboard.com/Problems/View/310143/viva\n",
      "After Beamer search, the most possible hand sequence and the successRate:\n",
      "[0, 0, 2, 3, 4, 5, 6] ['LH', 'RH', 'LH', 'RH', 'LH', 'RH', 'LH'] 561.7436103829656\n",
      "[0, 0, 2, 3, 4, 5, 6] ['LH', 'RH', 'LH', 'RH', 'LH', 'RH', 'LH'] 561.7436103829656\n",
      "[0, 0, 2, 3, 4, 5, 6] ['LH', 'RH', 'LH', 'RH', 'LH', 'RH', 'LH'] 561.7436103829656\n",
      "[0, 0, 2, 3, 4, 5, 6] ['LH', 'RH', 'LH', 'RH', 'LH', 'RH', 'LH'] 561.7436103829656\n"
     ]
    }
   ],
   "source": [
    "print(moonboardTestUrl[\"url\"])\n",
    "print (\"After Beamer search, the most possible hand sequence and the successRate:\")\n",
    "for i in largestIndex:\n",
    "    \n",
    "    print(status[i].handSequence, status[i].handOperator, status[i].overallSuccessRate())    \n"
   ]
  },
  {
   "cell_type": "code",
   "execution_count": null,
   "metadata": {},
   "outputs": [],
   "source": []
  }
 ],
 "metadata": {
  "kernelspec": {
   "display_name": "Python 3",
   "language": "python",
   "name": "python3"
  },
  "language_info": {
   "codemirror_mode": {
    "name": "ipython",
    "version": 3
   },
   "file_extension": ".py",
   "mimetype": "text/x-python",
   "name": "python",
   "nbconvert_exporter": "python",
   "pygments_lexer": "ipython3",
   "version": "3.7.4"
  }
 },
 "nbformat": 4,
 "nbformat_minor": 4
}
