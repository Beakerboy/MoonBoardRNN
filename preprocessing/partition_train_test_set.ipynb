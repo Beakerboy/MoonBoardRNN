{
 "cells": [
  {
   "cell_type": "code",
   "execution_count": 2,
   "metadata": {},
   "outputs": [],
   "source": [
    "import os\n",
    "import numpy as np\n",
    "import pickle"
   ]
  },
  {
   "cell_type": "code",
   "execution_count": 3,
   "metadata": {},
   "outputs": [],
   "source": [
    "cwd = os.getcwd()\n",
    "parent_wd = cwd.replace('/preprocessing', '')\n",
    "processed_xy_path = parent_wd + '/preprocessing/processed_data_xy_mode'"
   ]
  },
  {
   "cell_type": "code",
   "execution_count": 4,
   "metadata": {},
   "outputs": [],
   "source": [
    "with open(processed_xy_path, 'rb') as f:\n",
    "    output_xy_mode_read = pickle.load(f)"
   ]
  },
  {
   "cell_type": "markdown",
   "metadata": {},
   "source": [
    "## assign train/dev/test set"
   ]
  },
  {
   "cell_type": "code",
   "execution_count": 5,
   "metadata": {},
   "outputs": [
    {
     "name": "stdout",
     "output_type": "stream",
     "text": [
      "Number of benchmarked samples with user grade = 358\n",
      "Number of benchmarked samples without user grade = 9\n",
      "Number of non-benchmarked samples with user grade = 8607\n",
      "Number of non-benchmarked samples without user grade = 21660\n"
     ]
    }
   ],
   "source": [
    "n_benchmark_withgrade = len(output_xy_mode_read['X_dict_benchmark_withgrade'])\n",
    "n_benchmark_nograde = len(output_xy_mode_read['X_dict_benchmark_nograde'])\n",
    "n_withgrade = len(output_xy_mode_read['X_dict_withgrade'])\n",
    "n_nograde = len(output_xy_mode_read['X_dict_nograde'])\n",
    "print('Number of benchmarked samples with user grade = %s' %n_benchmark_withgrade)\n",
    "print('Number of benchmarked samples without user grade = %s' %n_benchmark_nograde)\n",
    "print('Number of non-benchmarked samples with user grade = %s' %n_withgrade)\n",
    "print('Number of non-benchmarked samples without user grade = %s' %n_nograde)"
   ]
  },
  {
   "cell_type": "code",
   "execution_count": 6,
   "metadata": {},
   "outputs": [],
   "source": [
    "X_dict_usergrade_merge = {**output_xy_mode_read['X_dict_benchmark_withgrade'] , **output_xy_mode_read['X_dict_withgrade']}\n",
    "Y_dict_usergrade_merge = {**output_xy_mode_read['Y_dict_benchmark_withgrade'] , **output_xy_mode_read['Y_dict_withgrade']}"
   ]
  },
  {
   "cell_type": "code",
   "execution_count": 19,
   "metadata": {},
   "outputs": [],
   "source": [
    "X_dict_nograde_merge = {**output_xy_mode_read['X_dict_benchmark_nograde'] , **output_xy_mode_read['X_dict_nograde']}\n",
    "Y_dict_nograde_merge = {**output_xy_mode_read['Y_dict_benchmark_nograde'] , **output_xy_mode_read['Y_dict_nograde']}"
   ]
  },
  {
   "cell_type": "code",
   "execution_count": 7,
   "metadata": {},
   "outputs": [],
   "source": [
    "n_sample = len(Y_dict_usergrade_merge)\n",
    "X_usergrade_merge = np.zeros((n_sample, 20, 10))\n",
    "Y_difficulties_usergrade_merge = np.zeros(n_sample)\n",
    "Y_isbenchmark_usergrade_merge = np.zeros(n_sample)\n",
    "Y_usergrade_usergrade_merge = np.zeros(n_sample)\n",
    "keys_usergrade_merge = []\n",
    "tmax_usergrade_merge = np.zeros(n_sample)\n",
    "i = 0\n",
    "for key, value in X_dict_usergrade_merge.items():\n",
    "    X_data = value.T\n",
    "    X_usergrade_merge[i, 0:X_data.shape[0], :] = X_data\n",
    "    Y_difficulties_usergrade_merge[i] = Y_dict_usergrade_merge[key][0]\n",
    "    Y_isbenchmark_usergrade_merge[i] = Y_dict_usergrade_merge[key][1]\n",
    "    Y_usergrade_usergrade_merge[i] = Y_dict_usergrade_merge[key][2]\n",
    "    keys_usergrade_merge.append(key)\n",
    "    tmax_usergrade_merge[i] = X_data.shape[0]\n",
    "    i = i + 1"
   ]
  },
  {
   "cell_type": "code",
   "execution_count": 22,
   "metadata": {},
   "outputs": [],
   "source": [
    "n_sample = len(Y_dict_nograde_merge)\n",
    "X_nograde_merge = np.zeros((n_sample, 30, 10))\n",
    "Y_difficulties_nograde_merge = np.zeros(n_sample)\n",
    "Y_isbenchmark_nograde_merge = np.zeros(n_sample)\n",
    "keys_nograde_merge = []\n",
    "tmax_nograde_merge = np.zeros(n_sample)\n",
    "i = 0\n",
    "for key, value in X_dict_nograde_merge.items():\n",
    "    X_data = value.T\n",
    "    X_nograde_merge[i, 0:X_data.shape[0], :] = X_data\n",
    "    Y_difficulties_nograde_merge[i] = Y_dict_nograde_merge[key][0]\n",
    "    Y_isbenchmark_nograde_merge[i] = Y_dict_nograde_merge[key][1]\n",
    "    keys_nograde_merge.append(key)\n",
    "    tmax_nograde_merge[i] = X_data.shape[0]\n",
    "    i = i + 1"
   ]
  },
  {
   "cell_type": "code",
   "execution_count": 24,
   "metadata": {},
   "outputs": [
    {
     "data": {
      "text/plain": [
       "(array([0.000e+00, 0.000e+00, 5.000e+00, 5.867e+03, 2.449e+03, 3.638e+03,\n",
       "        3.113e+03, 2.579e+03, 1.157e+03, 1.368e+03, 8.940e+02, 3.310e+02,\n",
       "        1.650e+02, 5.100e+01, 5.200e+01]),\n",
       " array([ 0,  1,  2,  3,  4,  5,  6,  7,  8,  9, 10, 11, 12, 13, 14, 15]),\n",
       " <a list of 15 Patch objects>)"
      ]
     },
     "execution_count": 24,
     "metadata": {},
     "output_type": "execute_result"
    },
    {
     "data": {
      "image/png": "[encoded data removed]",
      "text/plain": [
       "<Figure size 432x288 with 1 Axes>"
      ]
     },
     "metadata": {
      "needs_background": "light"
     },
     "output_type": "display_data"
    }
   ],
   "source": [
    "plt.hist(Y_difficulties_usergrade_merge, bins = range(16), alpha = 0.5)\n",
    "plt.hist(Y_difficulties_nograde_merge, bins = range(16), alpha = 0.5)"
   ]
  },
  {
   "cell_type": "code",
   "execution_count": 25,
   "metadata": {},
   "outputs": [
    {
     "data": {
      "text/plain": [
       "15.0"
      ]
     },
     "execution_count": 25,
     "metadata": {},
     "output_type": "execute_result"
    }
   ],
   "source": [
    "max(Y_difficulties_nograde_merge)"
   ]
  },
  {
   "cell_type": "code",
   "execution_count": null,
   "metadata": {},
   "outputs": [],
   "source": []
  }
 ],
 "metadata": {
  "kernelspec": {
   "display_name": "Python 3",
   "language": "python",
   "name": "python3"
  },
  "language_info": {
   "codemirror_mode": {
    "name": "ipython",
    "version": 3
   },
   "file_extension": ".py",
   "mimetype": "text/x-python",
   "name": "python",
   "nbconvert_exporter": "python",
   "pygments_lexer": "ipython3",
   "version": "3.7.4"
  }
 },
 "nbformat": 4,
 "nbformat_minor": 4
}
