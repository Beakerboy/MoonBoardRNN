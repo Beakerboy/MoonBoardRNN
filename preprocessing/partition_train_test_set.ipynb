{
 "cells": [
  {
   "cell_type": "code",
   "execution_count": 62,
   "metadata": {},
   "outputs": [],
   "source": [
    "import os\n",
    "import numpy as np\n",
    "import pickle"
   ]
  },
  {
   "cell_type": "code",
   "execution_count": 63,
   "metadata": {},
   "outputs": [],
   "source": [
    "def save_pickle(data, file_name):\n",
    "    \"\"\"\n",
    "    Saves data as pickle format\n",
    "    \"\"\"\n",
    "    with open(file_name, 'wb') as f:\n",
    "        pickle.dump(data, f)\n",
    "    return None"
   ]
  },
  {
   "cell_type": "code",
   "execution_count": 3,
   "metadata": {},
   "outputs": [],
   "source": [
    "cwd = os.getcwd()\n",
    "parent_wd = cwd.replace('/preprocessing', '')\n",
    "processed_xy_path = parent_wd + '/preprocessing/processed_data_xy_mode'"
   ]
  },
  {
   "cell_type": "code",
   "execution_count": 4,
   "metadata": {},
   "outputs": [],
   "source": [
    "with open(processed_xy_path, 'rb') as f:\n",
    "    output_xy_mode_read = pickle.load(f)"
   ]
  },
  {
   "cell_type": "markdown",
   "metadata": {},
   "source": [
    "## assign train/dev/test set"
   ]
  },
  {
   "cell_type": "code",
   "execution_count": 5,
   "metadata": {},
   "outputs": [
    {
     "name": "stdout",
     "output_type": "stream",
     "text": [
      "Number of benchmarked samples with user grade = 358\n",
      "Number of benchmarked samples without user grade = 9\n",
      "Number of non-benchmarked samples with user grade = 8607\n",
      "Number of non-benchmarked samples without user grade = 21660\n"
     ]
    }
   ],
   "source": [
    "n_benchmark_withgrade = len(output_xy_mode_read['X_dict_benchmark_withgrade'])\n",
    "n_benchmark_nograde = len(output_xy_mode_read['X_dict_benchmark_nograde'])\n",
    "n_withgrade = len(output_xy_mode_read['X_dict_withgrade'])\n",
    "n_nograde = len(output_xy_mode_read['X_dict_nograde'])\n",
    "print('Number of benchmarked samples with user grade = %s' %n_benchmark_withgrade)\n",
    "print('Number of benchmarked samples without user grade = %s' %n_benchmark_nograde)\n",
    "print('Number of non-benchmarked samples with user grade = %s' %n_withgrade)\n",
    "print('Number of non-benchmarked samples without user grade = %s' %n_nograde)"
   ]
  },
  {
   "cell_type": "code",
   "execution_count": 6,
   "metadata": {},
   "outputs": [],
   "source": [
    "X_dict_usergrade_merge = {**output_xy_mode_read['X_dict_benchmark_withgrade'] , **output_xy_mode_read['X_dict_withgrade']}\n",
    "Y_dict_usergrade_merge = {**output_xy_mode_read['Y_dict_benchmark_withgrade'] , **output_xy_mode_read['Y_dict_withgrade']}"
   ]
  },
  {
   "cell_type": "code",
   "execution_count": 19,
   "metadata": {},
   "outputs": [],
   "source": [
    "X_dict_nograde_merge = {**output_xy_mode_read['X_dict_benchmark_nograde'] , **output_xy_mode_read['X_dict_nograde']}\n",
    "Y_dict_nograde_merge = {**output_xy_mode_read['Y_dict_benchmark_nograde'] , **output_xy_mode_read['Y_dict_nograde']}"
   ]
  },
  {
   "cell_type": "code",
   "execution_count": 26,
   "metadata": {},
   "outputs": [],
   "source": [
    "X_dict_merge = {**X_dict_usergrade_merge, **X_dict_nograde_merge}\n",
    "Y_dict_merge = {**Y_dict_usergrade_merge, **Y_dict_nograde_merge}"
   ]
  },
  {
   "cell_type": "code",
   "execution_count": 46,
   "metadata": {},
   "outputs": [],
   "source": [
    "n_sample = len(Y_dict_merge)\n",
    "X_data_merge = np.zeros((n_sample, 30, 10))\n",
    "Y_difficulties_merge = np.zeros(n_sample)\n",
    "Y_isbenchmark_merge = np.zeros(n_sample)\n",
    "keys_merge = []\n",
    "tmax_merge = np.zeros(n_sample)\n",
    "\n",
    "i = 0\n",
    "for key, value in X_dict_merge.items():\n",
    "    X_data = value.T\n",
    "    X_data_merge[i, 0:X_data.shape[0], :] = X_data\n",
    "    Y_difficulties_merge[i] = Y_dict_merge[key][0]\n",
    "    Y_isbenchmark_merge[i] = Y_dict_merge[key][1]\n",
    "    keys_merge.append(key)\n",
    "    tmax_merge[i] = X_data.shape[0]\n",
    "    i = i + 1"
   ]
  },
  {
   "cell_type": "code",
   "execution_count": 49,
   "metadata": {},
   "outputs": [],
   "source": [
    "n_dev = 3000\n",
    "n_test = 3000\n",
    "n_train = n_sample - n_dev - n_test"
   ]
  },
  {
   "cell_type": "code",
   "execution_count": 53,
   "metadata": {},
   "outputs": [],
   "source": [
    "shuffle = np.random.choice(np.arange(n_sample), n_sample, replace = False)"
   ]
  },
  {
   "cell_type": "code",
   "execution_count": 56,
   "metadata": {},
   "outputs": [],
   "source": [
    "X_data_shuffle = X_data_merge[shuffle, :, :]\n",
    "Y_difficulties_shuffle = Y_difficulties_merge[shuffle]\n",
    "Y_isbenchmark_shuffle = Y_isbenchmark_merge[shuffle]\n",
    "keys_shuffle = np.array(keys_merge)[shuffle]\n",
    "tmax_shuffle = tmax_merge[shuffle]"
   ]
  },
  {
   "cell_type": "code",
   "execution_count": 59,
   "metadata": {},
   "outputs": [],
   "source": [
    "training_set = {'X': X_data_shuffle[0:n_train], \n",
    "                'Y': Y_difficulties_shuffle[0:n_train], \n",
    "                'isbenchmark': Y_isbenchmark_shuffle[0:n_train], \n",
    "                'keys': keys_shuffle[0:n_train], \n",
    "                'tmax': tmax_shuffle[0:n_train]}\n",
    "dev_set = {'X': X_data_shuffle[n_train:n_train+n_dev], \n",
    "                'Y': Y_difficulties_shuffle[n_train:n_train+n_dev], \n",
    "                'isbenchmark': Y_isbenchmark_shuffle[n_train:n_train+n_dev], \n",
    "                'keys': keys_shuffle[n_train:n_train+n_dev], \n",
    "                'tmax': tmax_shuffle[n_train:n_train+n_dev]}\n",
    "test_set = {'X': X_data_shuffle[n_train+n_dev:], \n",
    "                'Y': Y_difficulties_shuffle[n_train+n_dev:], \n",
    "                'isbenchmark': Y_isbenchmark_shuffle[n_train+n_dev:], \n",
    "                'keys': keys_shuffle[n_train+n_dev:], \n",
    "                'tmax': tmax_shuffle[n_train+n_dev:]}"
   ]
  },
  {
   "cell_type": "code",
   "execution_count": 64,
   "metadata": {},
   "outputs": [],
   "source": [
    "training_set_path = parent_wd + '/preprocessing/training_set'\n",
    "dev_set_path = parent_wd + '/preprocessing/dev_set'\n",
    "test_set_path = parent_wd + '/preprocessing/test_set'\n",
    "save_pickle(training_set, training_set_path)\n",
    "save_pickle(dev_set, dev_set_path)\n",
    "save_pickle(test_set, test_set_path)"
   ]
  },
  {
   "cell_type": "code",
   "execution_count": null,
   "metadata": {},
   "outputs": [],
   "source": []
  }
 ],
 "metadata": {
  "kernelspec": {
   "display_name": "Python 3",
   "language": "python",
   "name": "python3"
  },
  "language_info": {
   "codemirror_mode": {
    "name": "ipython",
    "version": 3
   },
   "file_extension": ".py",
   "mimetype": "text/x-python",
   "name": "python",
   "nbconvert_exporter": "python",
   "pygments_lexer": "ipython3",
   "version": "3.7.4"
  }
 },
 "nbformat": 4,
 "nbformat_minor": 4
}
