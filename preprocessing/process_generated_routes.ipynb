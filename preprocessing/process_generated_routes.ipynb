{
 "cells": [
  {
   "cell_type": "code",
   "execution_count": 1,
   "metadata": {},
   "outputs": [],
   "source": [
    "import numpy as np\n",
    "import os\n",
    "import copy\n",
    "import pickle\n",
    "import heapq\n",
    "import matplotlib.pyplot as plt\n",
    "import pandas as pd\n",
    "from preprocessing_helper import *\n",
    "import re"
   ]
  },
  {
   "cell_type": "code",
   "execution_count": 6,
   "metadata": {},
   "outputs": [],
   "source": [
    "cwd = os.getcwd()\n",
    "parent_wd = cwd.replace('/preprocessing', '')\n",
    "left_hold_feature_path = parent_wd + '/raw_data/HoldFeature2016LeftHand.csv'\n",
    "right_hold_feature_path = parent_wd + '/raw_data/HoldFeature2016RightHand.csv'\n",
    "generated_problem_path = parent_wd + '/out/ProblemOfDeepRouteSet_v1'"
   ]
  },
  {
   "cell_type": "code",
   "execution_count": 7,
   "metadata": {},
   "outputs": [],
   "source": [
    "raw_data_path = parent_wd + '/preprocessing/processed_data_xy_mode' \n",
    "with open(raw_data_path, 'rb') as f:\n",
    "    MoonBoard_2016_raw = pickle.load(f)  "
   ]
  },
  {
   "cell_type": "code",
   "execution_count": 8,
   "metadata": {},
   "outputs": [],
   "source": [
    "hold_feature_path = parent_wd + '/raw_data/HoldFeature2016.xlsx'\n",
    "features = pd.read_excel(hold_feature_path, dtype=str)\n",
    "\n",
    "# convert features from pd dataframe to dictionary\n",
    "feature_dict = {}\n",
    "for index in features.index:\n",
    "    feature_item = features.loc[index]\n",
    "    feature_dict[(int(feature_item['X_coord']), int(feature_item['Y_coord']))] = np.array(\n",
    "        list(feature_item['Difficulties'])).astype(int)"
   ]
  },
  {
   "cell_type": "markdown",
   "metadata": {},
   "source": [
    "### 1-1. Read hand features"
   ]
  },
  {
   "cell_type": "code",
   "execution_count": 5,
   "metadata": {},
   "outputs": [],
   "source": [
    "LeftHandfeatures = pd.read_csv(left_hold_feature_path, dtype=str)\n",
    "RightHandfeatures = pd.read_csv(right_hold_feature_path, dtype=str)\n",
    "\n",
    "# convert features from pd dataframe to dictionary of left and right hand\n",
    "RightHandfeature_dict = {}\n",
    "LeftHandfeature_dict = {}\n",
    "for index in RightHandfeatures.index:\n",
    "    LeftHandfeature_item = LeftHandfeatures.loc[index]\n",
    "    LeftHandfeature_dict[(int(LeftHandfeature_item['X_coord']), int(LeftHandfeature_item['Y_coord']))] = np.array(\n",
    "        list(LeftHandfeature_item['Difficulties'])).astype(int)\n",
    "    RightHandfeature_item = RightHandfeatures.loc[index]\n",
    "    RightHandfeature_dict[(int(RightHandfeature_item['X_coord']), int(RightHandfeature_item['Y_coord']))] = np.array(\n",
    "        list(RightHandfeature_item['Difficulties'])).astype(int)"
   ]
  },
  {
   "cell_type": "markdown",
   "metadata": {},
   "source": [
    "### 1-2. Read generated sequence"
   ]
  },
  {
   "cell_type": "code",
   "execution_count": 9,
   "metadata": {},
   "outputs": [],
   "source": [
    "with open(generated_problem_path, 'rb') as f:\n",
    "    generated_problems = pickle.load(f)"
   ]
  },
  {
   "cell_type": "code",
   "execution_count": 32,
   "metadata": {},
   "outputs": [
    {
     "ename": "AttributeError",
     "evalue": "'list' object has no attribute 'handSequence'",
     "output_type": "error",
     "traceback": [
      "\u001b[0;31m---------------------------------------------------------------------------\u001b[0m",
      "\u001b[0;31mAttributeError\u001b[0m                            Traceback (most recent call last)",
      "\u001b[0;32m<ipython-input-32-526ad955942f>\u001b[0m in \u001b[0;36m<module>\u001b[0;34m\u001b[0m\n\u001b[0;32m----> 1\u001b[0;31m \u001b[0mmoveGenerator\u001b[0m\u001b[0;34m(\u001b[0m\u001b[0mgenerated_problems\u001b[0m\u001b[0;34m[\u001b[0m\u001b[0;36m0\u001b[0m\u001b[0;34m]\u001b[0m\u001b[0;34m)\u001b[0m\u001b[0;34m\u001b[0m\u001b[0;34m\u001b[0m\u001b[0m\n\u001b[0m",
      "\u001b[0;32m<ipython-input-30-865beaa8cc7b>\u001b[0m in \u001b[0;36mmoveGenerator\u001b[0;34m(beta, string_mode)\u001b[0m\n\u001b[1;32m     20\u001b[0m \u001b[0;34m\u001b[0m\u001b[0m\n\u001b[1;32m     21\u001b[0m     \u001b[0moutputDictionaryList\u001b[0m \u001b[0;34m=\u001b[0m \u001b[0;34m[\u001b[0m\u001b[0;34m]\u001b[0m\u001b[0;34m\u001b[0m\u001b[0;34m\u001b[0m\u001b[0m\n\u001b[0;32m---> 22\u001b[0;31m     \u001b[0mnumOfMoves\u001b[0m \u001b[0;34m=\u001b[0m \u001b[0mlen\u001b[0m\u001b[0;34m(\u001b[0m\u001b[0mbeta\u001b[0m\u001b[0;34m.\u001b[0m\u001b[0mhandSequence\u001b[0m\u001b[0;34m)\u001b[0m \u001b[0;34m-\u001b[0m \u001b[0;36m2\u001b[0m \u001b[0;31m# calculate from the third hold to the end hold (no final match)\u001b[0m\u001b[0;34m\u001b[0m\u001b[0;34m\u001b[0m\u001b[0m\n\u001b[0m\u001b[1;32m     23\u001b[0m     \u001b[0;31m# loop over holds from third one to the finish hold (rank from 3 to end). In each move, this is the hold defined as target hold\u001b[0m\u001b[0;34m\u001b[0m\u001b[0;34m\u001b[0m\u001b[0;34m\u001b[0m\u001b[0m\n\u001b[1;32m     24\u001b[0m     \u001b[0;32mfor\u001b[0m \u001b[0mrank\u001b[0m \u001b[0;32min\u001b[0m \u001b[0mrange\u001b[0m\u001b[0;34m(\u001b[0m\u001b[0;36m2\u001b[0m\u001b[0;34m,\u001b[0m  \u001b[0mlen\u001b[0m\u001b[0;34m(\u001b[0m\u001b[0mbeta\u001b[0m\u001b[0;34m.\u001b[0m\u001b[0mhandSequence\u001b[0m\u001b[0;34m)\u001b[0m\u001b[0;34m)\u001b[0m\u001b[0;34m:\u001b[0m\u001b[0;34m\u001b[0m\u001b[0;34m\u001b[0m\u001b[0m\n",
      "\u001b[0;31mAttributeError\u001b[0m: 'list' object has no attribute 'handSequence'"
     ]
    }
   ],
   "source": [
    "moveGenerator(generated_problems[0])"
   ]
  },
  {
   "cell_type": "code",
   "execution_count": 6,
   "metadata": {},
   "outputs": [],
   "source": [
    "def convert_coordinates(coord):\n",
    "    x_dict = {'A': 0, 'B': 1, 'C': 2, 'D': 3, 'E': 4, 'F': 5, 'G': 6, 'H': 7, 'I': 8, 'J': 9, 'K': 10}\n",
    "    x_str, y_str = coord\n",
    "    x = x_dict[x_str]\n",
    "    y = int(y_str) - 1\n",
    "    return (x, y)"
   ]
  },
  {
   "cell_type": "code",
   "execution_count": 22,
   "metadata": {},
   "outputs": [],
   "source": [
    "def convert_to_pre_beta(gen_seq_list):\n",
    "    temp = re.compile(\"([a-zA-Z]+)([0-9]+)(-)([a-zA-Z]+)\")\n",
    "    n_move = len(gen_seq_list)\n",
    "    gen_seq_split = np.random.rand(n_move, 10)\n",
    "    for i, move in enumerate(gen_seq_list):\n",
    "        res = temp.match(move).groups() \n",
    "        (x, y) = convert_coordinates((res[0], res[1]))\n",
    "        gen_seq_split[i, 6:8] = [x, y]\n",
    "        gen_seq_split[i, 0:6] = feature_dict[(x, y)]\n",
    "        if i == 0 or i == 1:\n",
    "            gen_seq_split[i, 8:] = [1, 0]\n",
    "        elif i == n_move - 1:\n",
    "            gen_seq_split[i, 8:] = [0, 1]\n",
    "        else:\n",
    "            gen_seq_split[i, 8:] = [0, 0]\n",
    "        \n",
    "    if np.array_equal(gen_seq_split[0, 6:8], gen_seq_split[1, 6:8]):\n",
    "        gen_seq_split = np.delete(gen_seq_split, 0, 0)\n",
    "    return gen_seq_split\n",
    "\n",
    "def convert_to_data_dict(generated_problems, start_key):\n",
    "    output = {}\n",
    "    keynum = start_key\n",
    "    for gen_seq_list in generated_problems:\n",
    "        gen_seq_split = convert_to_pre_beta(gen_seq_list)\n",
    "        key = 'gen' + str(keynum)\n",
    "        output[key] = gen_seq_split.T\n",
    "        keynum += 1\n",
    "    return output"
   ]
  },
  {
   "cell_type": "code",
   "execution_count": 23,
   "metadata": {},
   "outputs": [],
   "source": [
    "gen_processed_output = convert_to_data_dict(generated_problems, start_key = 0)"
   ]
  },
  {
   "cell_type": "code",
   "execution_count": 25,
   "metadata": {},
   "outputs": [
    {
     "name": "stdout",
     "output_type": "stream",
     "text": [
      "result saved.\n",
      "[]\n"
     ]
    }
   ],
   "source": [
    "save_path = cwd + '/gen_move_seq_X'\n",
    "output, fail_list = moveGeneratorForAllProblem(gen_processed_output, save_path, print_result = False)\n",
    "print(fail_list)"
   ]
  },
  {
   "cell_type": "markdown",
   "metadata": {},
   "source": [
    "### Normalization"
   ]
  },
  {
   "cell_type": "code",
   "execution_count": 12,
   "metadata": {},
   "outputs": [],
   "source": [
    "n_sample = len(generated_problems)\n",
    "X_seq_data_merge = np.zeros((n_sample, 12, 22))\n",
    "keys_seq_merge = []\n",
    "tmax_seq_merge = np.zeros(n_sample)\n",
    "\n",
    "i = 0\n",
    "for key, value in generated_problems.items():\n",
    "    X_data = value.T\n",
    "    X_seq_data_merge[i, 0:X_data.shape[0], :] = X_data\n",
    "    keys_seq_merge.append(key)\n",
    "    tmax_seq_merge[i] = X_data.shape[0]\n",
    "    i = i + 1"
   ]
  },
  {
   "cell_type": "code",
   "execution_count": 13,
   "metadata": {},
   "outputs": [],
   "source": [
    "test_set_gen = {'X': X_seq_data_merge,   \n",
    "                'keys': keys_seq_merge, \n",
    "                'tmax': tmax_seq_merge}"
   ]
  },
  {
   "cell_type": "code",
   "execution_count": 14,
   "metadata": {},
   "outputs": [],
   "source": [
    "test_set_gen_normalized = normalization(test_set_gen)"
   ]
  },
  {
   "cell_type": "code",
   "execution_count": 15,
   "metadata": {},
   "outputs": [],
   "source": [
    "test_gen_path = parent_wd + '/preprocessing/test_set_gen_v1'\n",
    "\n",
    "save_pickle(test_set_gen_normalized, test_gen_path)"
   ]
  },
  {
   "cell_type": "code",
   "execution_count": null,
   "metadata": {},
   "outputs": [],
   "source": []
  }
 ],
 "metadata": {
  "kernelspec": {
   "display_name": "Python 3",
   "language": "python",
   "name": "python3"
  },
  "language_info": {
   "codemirror_mode": {
    "name": "ipython",
    "version": 3
   },
   "file_extension": ".py",
   "mimetype": "text/x-python",
   "name": "python",
   "nbconvert_exporter": "python",
   "pygments_lexer": "ipython3",
   "version": "3.7.4"
  }
 },
 "nbformat": 4,
 "nbformat_minor": 4
}
