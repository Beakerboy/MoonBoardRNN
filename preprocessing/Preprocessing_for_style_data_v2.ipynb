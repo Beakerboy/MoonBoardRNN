{
 "cells": [
  {
   "cell_type": "code",
   "execution_count": 1,
   "metadata": {},
   "outputs": [],
   "source": [
    "import numpy as np\n",
    "import os\n",
    "import copy\n",
    "import pickle\n",
    "import heapq\n",
    "import matplotlib.pyplot as plt\n",
    "import pandas as pd\n",
    "from preprocessing_helper import *"
   ]
  },
  {
   "cell_type": "markdown",
   "metadata": {},
   "source": [
    "## 1. Read moonboard problems with url file, style data and sequence data"
   ]
  },
  {
   "cell_type": "code",
   "execution_count": 14,
   "metadata": {},
   "outputs": [],
   "source": [
    "cwd = os.getcwd()\n",
    "parent_wd = cwd.replace('/preprocessing', '')\n",
    "url_data_path = parent_wd + '/raw_data/moonGen_scrape_2016_cp'\n",
    "style_data_path = parent_wd + '/raw_data/style_data_simplified.xlsx'\n",
    "sequence_data_path = parent_wd + '/preprocessing/X_seq_dict_merge'"
   ]
  },
  {
   "cell_type": "code",
   "execution_count": 15,
   "metadata": {},
   "outputs": [],
   "source": [
    "with open(url_data_path, 'rb') as f:\n",
    "    MoonBoard_2016_withurl = pickle.load(f)"
   ]
  },
  {
   "cell_type": "code",
   "execution_count": 16,
   "metadata": {},
   "outputs": [],
   "source": [
    "with open(sequence_data_path, 'rb') as f:\n",
    "    X_seq_dict_merge = pickle.load(f)"
   ]
  },
  {
   "cell_type": "code",
   "execution_count": 17,
   "metadata": {},
   "outputs": [],
   "source": [
    "style_data = pd.read_excel(style_data_path, dtype=str)\n",
    "style_data = style_data.fillna(0)"
   ]
  },
  {
   "cell_type": "markdown",
   "metadata": {},
   "source": [
    "## 2. Prepare style_X and style_Y"
   ]
  },
  {
   "cell_type": "code",
   "execution_count": 18,
   "metadata": {},
   "outputs": [],
   "source": [
    "style_ID_list = [c for c in style_data.columns[1:]]\n",
    "n_style_X = len(style_ID_list)"
   ]
  },
  {
   "cell_type": "code",
   "execution_count": 19,
   "metadata": {},
   "outputs": [],
   "source": [
    "style_X = np.zeros((n_style_X, 12, 22))"
   ]
  },
  {
   "cell_type": "code",
   "execution_count": 45,
   "metadata": {},
   "outputs": [],
   "source": [
    "i = 0\n",
    "fail_list = []\n",
    "new_ID_list = []\n",
    "success_row = []\n",
    "for ID in np.array(style_ID_list).astype(str):\n",
    "    try:\n",
    "        if '.' in ID:\n",
    "            ID = ID.replace(ID[ID.find('.'):], '')\n",
    "        else:\n",
    "            pass\n",
    "        seq_data = X_seq_dict_merge[ID]\n",
    "        _, tmax = seq_data.shape\n",
    "        style_X[i, 0:tmax, :] = seq_data.T\n",
    "        new_ID_list.append(ID)\n",
    "        success_row.append(i)\n",
    "        i += 1\n",
    "    except:\n",
    "        fail_list.append(ID)"
   ]
  },
  {
   "cell_type": "code",
   "execution_count": 46,
   "metadata": {},
   "outputs": [
    {
     "name": "stdout",
     "output_type": "stream",
     "text": [
      "['324257', '322939', '320798', '320394', '309814', '292263', '281994', '279557', '254625', '249317', '234401', '227999', '214484', '202064', '199290', '192428', '191609', '189344', '176230', '19222', '19223', '19224', '19225', '102018', '332721', '325637', '24624', '19632', '23184', '156084', '106472', '363346', '85826', '149984', '21329', '243461', '46458', '121194', '24681', '41339', '322941', '171918', '314584', '54752', '132090', '46045', '45182', '332721', '307689', '53494', '273016', '48765', '134795', '366087', '184714', '310143', '332055', '89571', '40879', '311919', '126656', '178758', '44029', '63522', '96879', '62275', '150763', '249317', '20153', '34005', '20451', '106472', '73998', '139394', '49031', '125131', '36667', '25652', '45182', '21921', '35345', '21329', '23261', '23261', '19224', '251124', '184714', '25043', '170230', '19224', '274947', '20149', '22596', '32304', '178758', '21921', '24681', '126656']\n",
      "['19536', '19542', '19215', '19216', '262846']\n",
      "[0, 1, 2, 3, 4, 5, 6, 7, 8, 9, 10, 11, 12, 13, 14, 15, 16, 17, 18, 19, 20, 21, 22, 23, 24, 25, 26, 27, 28, 29, 30, 31, 32, 33, 34, 35, 36, 37, 38, 39, 40, 41, 42, 43, 44, 45, 46, 47, 48, 49, 50, 51, 52, 53, 54, 55, 56, 57, 58, 59, 60, 61, 62, 63, 64, 65, 66, 67, 68, 69, 70, 71, 72, 73, 74, 75, 76, 77, 78, 79, 80, 81, 82, 83, 84, 85, 86, 87, 88, 89, 90, 91, 92, 93, 94, 95, 96, 97]\n"
     ]
    }
   ],
   "source": [
    "print(new_ID_list)\n",
    "print(fail_list)\n",
    "print(success_row)"
   ]
  },
  {
   "cell_type": "code",
   "execution_count": 48,
   "metadata": {},
   "outputs": [
    {
     "name": "stdout",
     "output_type": "stream",
     "text": [
      "(98, 12)\n"
     ]
    }
   ],
   "source": [
    "style_Y = np.array(style_data).T[1:, :].astype(np.int64)[success_row, :]\n",
    "print(style_Y.shape)"
   ]
  },
  {
   "cell_type": "code",
   "execution_count": 51,
   "metadata": {},
   "outputs": [],
   "source": [
    "style_processed_data = {'X': style_X[success_row, :, :], 'Y': style_Y, 'ID': new_ID_list}"
   ]
  },
  {
   "cell_type": "markdown",
   "metadata": {},
   "source": [
    "## 3. Save Data"
   ]
  },
  {
   "cell_type": "code",
   "execution_count": 52,
   "metadata": {},
   "outputs": [],
   "source": [
    "save_path = cwd + '/style_processed_data'\n",
    "save_pickle(style_processed_data, save_path)"
   ]
  }
 ],
 "metadata": {
  "kernelspec": {
   "display_name": "Python 3",
   "language": "python",
   "name": "python3"
  },
  "language_info": {
   "codemirror_mode": {
    "name": "ipython",
    "version": 3
   },
   "file_extension": ".py",
   "mimetype": "text/x-python",
   "name": "python",
   "nbconvert_exporter": "python",
   "pygments_lexer": "ipython3",
   "version": "3.7.4"
  }
 },
 "nbformat": 4,
 "nbformat_minor": 4
}
