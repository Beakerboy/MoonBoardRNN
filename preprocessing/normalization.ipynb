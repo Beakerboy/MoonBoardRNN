{
 "cells": [
  {
   "cell_type": "code",
   "execution_count": 3,
   "metadata": {},
   "outputs": [],
   "source": [
    "import os\n",
    "import numpy as np\n",
    "import pandas as pd\n",
    "import pickle"
   ]
  },
  {
   "cell_type": "code",
   "execution_count": 13,
   "metadata": {},
   "outputs": [],
   "source": [
    "def save_pickle(data, file_name):\n",
    "    \"\"\"\n",
    "    Saves data as pickle format\n",
    "    \"\"\"\n",
    "    with open(file_name, 'wb') as f:\n",
    "        pickle.dump(data, f)\n",
    "    return None"
   ]
  },
  {
   "cell_type": "code",
   "execution_count": 14,
   "metadata": {},
   "outputs": [],
   "source": [
    "cwd = os.getcwd()\n",
    "parent_wd = cwd.replace('/preprocessing', '')\n",
    "hold_feature_path = parent_wd + '/raw_data/HoldFeature2016.csv'\n",
    "training_set_path = parent_wd + '/preprocessing/training_set'\n",
    "dev_set_path = parent_wd + '/preprocessing/dev_set'\n",
    "test_set_path = parent_wd + '/preprocessing/test_set'"
   ]
  },
  {
   "cell_type": "code",
   "execution_count": 15,
   "metadata": {},
   "outputs": [],
   "source": [
    "with open(training_set_path, 'rb') as f:\n",
    "    training_set = pickle.load(f)\n",
    "with open(dev_set_path, 'rb') as f:\n",
    "    dev_set = pickle.load(f)\n",
    "with open(test_set_path, 'rb') as f:\n",
    "    test_set = pickle.load(f)"
   ]
  },
  {
   "cell_type": "code",
   "execution_count": 4,
   "metadata": {},
   "outputs": [],
   "source": [
    "features = pd.read_csv(hold_feature_path, dtype=str)\n",
    "\n",
    "# convert features from pd dataframe to dictionary\n",
    "feature_dict = {}\n",
    "for index in features.index:\n",
    "    feature_item = features.loc[index]\n",
    "    feature_dict[(int(feature_item['X_coord']), int(feature_item['Y_coord']))] = np.array(\n",
    "        list(feature_item['Difficulties'])).astype(int)"
   ]
  },
  {
   "cell_type": "code",
   "execution_count": 6,
   "metadata": {},
   "outputs": [],
   "source": [
    "feature_array = np.zeros((len(feature_dict), 8))\n",
    "i = 0\n",
    "for key, values in feature_dict.items():\n",
    "    feature_array[i, 0:6] = values\n",
    "    feature_array[i, 6:] = key\n",
    "    i += 1"
   ]
  },
  {
   "cell_type": "code",
   "execution_count": 10,
   "metadata": {},
   "outputs": [],
   "source": [
    "mu = feature_array.mean(axis = 0)\n",
    "std = np.std(feature_array, axis = 0)"
   ]
  },
  {
   "cell_type": "code",
   "execution_count": 36,
   "metadata": {},
   "outputs": [],
   "source": [
    "def normalization(input_set):\n",
    "    mask = np.zeros_like(input_set['X'])\n",
    "    for i in range(len(mask)):\n",
    "        mask[i, 0:int(input_set['tmax'][i]), :] = 1\n",
    "    \n",
    "    X_normalized = np.copy(input_set['X'])\n",
    "    X_normalized[:, :, 0:8] -= mu\n",
    "    X_normalized[:, :, 0:8] /= std\n",
    "    X_normalized *= mask\n",
    "    \n",
    "    output_set = input_set\n",
    "    output_set['X'] = X_normalized\n",
    "    return output_set"
   ]
  },
  {
   "cell_type": "code",
   "execution_count": 37,
   "metadata": {},
   "outputs": [],
   "source": [
    "training_set_normalized = normalization(training_set)\n",
    "dev_set_normalized = normalization(dev_set)\n",
    "test_set_normalized = normalization(test_set)"
   ]
  },
  {
   "cell_type": "code",
   "execution_count": 41,
   "metadata": {},
   "outputs": [],
   "source": [
    "training_normalized_set_path = parent_wd + '/preprocessing/training_set_n'\n",
    "dev_normalized_set_path = parent_wd + '/preprocessing/dev_set_n'\n",
    "test_normalized_set_path = parent_wd + '/preprocessing/test_set_n'\n",
    "save_pickle(training_set_normalized, training_normalized_set_path)\n",
    "save_pickle(dev_set_normalized, dev_normalized_set_path)\n",
    "save_pickle(test_set_normalized, test_normalized_set_path)"
   ]
  },
  {
   "cell_type": "code",
   "execution_count": null,
   "metadata": {},
   "outputs": [],
   "source": []
  }
 ],
 "metadata": {
  "kernelspec": {
   "display_name": "Python 3",
   "language": "python",
   "name": "python3"
  },
  "language_info": {
   "codemirror_mode": {
    "name": "ipython",
    "version": 3
   },
   "file_extension": ".py",
   "mimetype": "text/x-python",
   "name": "python",
   "nbconvert_exporter": "python",
   "pygments_lexer": "ipython3",
   "version": "3.7.4"
  }
 },
 "nbformat": 4,
 "nbformat_minor": 4
}
